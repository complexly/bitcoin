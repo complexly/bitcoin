{
 "metadata": {
  "name": "",
  "signature": "sha256:bef4431496b2506f0e3c67d3ba0b6dcde756cb1872055fc593b00c6d3e5f50c5"
 },
 "nbformat": 3,
 "nbformat_minor": 0,
 "worksheets": [
  {
   "cells": [
    {
     "cell_type": "code",
     "collapsed": false,
     "input": [
      "def getRows(dataBase,startInd,endInd):\n",
      "    import sqlite3\n",
      "    print(type(dataBase))\n",
      "    input1 = dataBase+'.rdb'\n",
      "    conn = sqlite3.connect(input1)\n",
      "    c = conn.cursor()\n",
      "    input2 = 'SELECT * FROM '+dataBase+'_ob'\n",
      "    aa = c.execute(input2)\n",
      "    rows = []\n",
      "    count = 0\n",
      "    for row in aa:\n",
      "        if (count >= startInd) & (count < endInd):\n",
      "            rows.append(row)\n",
      "        count += 1\n",
      "        if count == endInd:\n",
      "            break\n",
      "    return rows"
     ],
     "language": "python",
     "metadata": {},
     "outputs": [],
     "prompt_number": 1
    },
    {
     "cell_type": "code",
     "collapsed": false,
     "input": [
      "def getStartTime(row):\n",
      "    import datetime as dt\n",
      "    start = dt.datetime(int(row[5][0:4]), int(row[5][5:7]), int(row[5][8:10]), int(row[5][11:13]), int(row[5][14:16]), int(float(row[5][17:-1])))\n",
      "    return start"
     ],
     "language": "python",
     "metadata": {},
     "outputs": [],
     "prompt_number": 2
    },
    {
     "cell_type": "code",
     "collapsed": false,
     "input": [
      "def getTimes(rows,startTime):\n",
      "    import matplotlib.pyplot as plt\n",
      "    import datetime as dt\n",
      "    timeSec = [0]\n",
      "    for afterInd in range(1,len(rows)):\n",
      "        current = dt.datetime(int(rows[afterInd][5][0:4]), int(rows[afterInd][5][5:7]), int(rows[afterInd][5][8:10]), int(rows[afterInd][5][11:13]), int(rows[afterInd][5][14:16]), int(float(rows[afterInd][5][17:-1])))\n",
      "        currentDiff = current - startTime\n",
      "        currentDiffSeconds = currentDiff.days*(24*3600) + currentDiff.seconds\n",
      "        timeSec.append(currentDiffSeconds)\n",
      "    return timeSec"
     ],
     "language": "python",
     "metadata": {},
     "outputs": [],
     "prompt_number": 3
    },
    {
     "cell_type": "code",
     "collapsed": false,
     "input": [
      "def extractTickData(rows,timeSec):\n",
      "    import numpy as np\n",
      "    buyPrices = []\n",
      "    sellPrices = []\n",
      "    buyTimes = []\n",
      "    sellTimes = []\n",
      "    buyQuantity = []\n",
      "    buyLevels = []\n",
      "    sellQuantity = []\n",
      "    sellLevels = []\n",
      "    for ii in range(len(rows)):\n",
      "        if rows[ii][1] == 'buy':\n",
      "            buyPrices.append(rows[ii][2])\n",
      "            buyTimes.append(timeSec[ii])\n",
      "            buyQuantity.append(rows[ii][3])\n",
      "            buyLevels.append(rows[ii][4])\n",
      "        else:\n",
      "            sellPrices.append(rows[ii][2])\n",
      "            sellTimes.append(timeSec[ii])\n",
      "            sellQuantity.append(rows[ii][3])\n",
      "            sellLevels.append(rows[ii][4])\n",
      "    buyPrices = np.array(buyPrices)\n",
      "    sellPrices = np.array(sellPrices)\n",
      "    buyTimes = np.array(buyTimes)\n",
      "    sellTimes = np.array(sellTimes)\n",
      "    buyQuantity = np.array(buyQuantity)\n",
      "    buyLevels = np.array(buyLevels)\n",
      "    sellQuantity = np.array(sellQuantity)\n",
      "    sellLevels = np.array(sellLevels)\n",
      "    \n",
      "    return buyPrices, sellPrices, buyTimes, sellTimes, buyQuantity, buyLevels, sellQuantity, sellLevels"
     ],
     "language": "python",
     "metadata": {},
     "outputs": [],
     "prompt_number": 4
    },
    {
     "cell_type": "code",
     "collapsed": false,
     "input": [
      "def DHMS(seconds):\n",
      "    import numpy as np\n",
      "    days = np.floor(seconds/3600)\n",
      "    hours = np.floor((seconds/3600) - days*24)\n",
      "    minutes = np.floor(((seconds/3600) - days*24 - hours)*60)\n",
      "    seconds = np.floor((((seconds/3600) - days*24 - hours)*60 - minutes)*60)\n",
      "    return np.array([days,hours,minutes,seconds])"
     ],
     "language": "python",
     "metadata": {},
     "outputs": [],
     "prompt_number": 5
    },
    {
     "cell_type": "code",
     "collapsed": false,
     "input": [
      "def plotTimes(sellTimes1,sellPrices1,buyTimes1,buyPrices1,sellTimes2,sellPrices2,buyTimes2,buyPrices2,label1,label2,start):\n",
      "    import matplotlib.pyplot as plt\n",
      "    fig, ax = plt.subplots()\n",
      "    import datetime as dt\n",
      "    ax.plot(buyTimes1,buyPrices1,'g-',label=label1+' Buy Prices')\n",
      "    ax.plot(sellTimes1,sellPrices1,'r-',label=label1+' Sell Prices')\n",
      "    ax.plot(buyTimes2,buyPrices2,'b-',label=label2+' Buy Prices')\n",
      "    ax.plot(sellTimes2,sellPrices2,'m-',label=label2+' Sell Prices')\n",
      "    plt.show()\n",
      "    labels = []\n",
      "    for ii in range(0,len(ax.get_xticklabels())):\n",
      "        if ax.get_xticklabels()[ii].get_text() != '':\n",
      "            timeInc = int(ax.get_xticklabels()[ii].get_text())\n",
      "            dhms = DHMS(timeInc)\n",
      "            step = dt.timedelta(days = dhms[0],hours = dhms[1],minutes = dhms[2],seconds = dhms[3]) \n",
      "            currentLabel = start + step\n",
      "            labels.append(currentLabel.strftime('%Y:%m:%d:%H:%M:%S'))\n",
      "        else:\n",
      "            labels.append(ax.get_xticklabels()[ii].get_text())\n",
      "    fig, ax = plt.subplots()\n",
      "    ax.plot(buyTimes1,buyPrices1,'g-',label=label1+' Buy Prices')\n",
      "    ax.plot(sellTimes1,sellPrices1,'r-',label=label1+' Sell Prices')\n",
      "    ax.plot(buyTimes2,buyPrices2,'b-',label=label2+' Buy Prices')\n",
      "    ax.plot(sellTimes2,sellPrices2,'m-',label=label2+' Sell Prices')\n",
      "    ax.set_xticklabels(labels)\n",
      "    plt.xlabel('Time')\n",
      "    plt.ylabel('Bitcoin Buy and Sell Prices')\n",
      "    plt.title(label1+' and '+label2+' Bitcoin Bid/Ask')\n",
      "    plt.legend()\n",
      "    plt.show()"
     ],
     "language": "python",
     "metadata": {},
     "outputs": [],
     "prompt_number": 6
    },
    {
     "cell_type": "code",
     "collapsed": false,
     "input": [
      "def timeFilterData(data,times,cutoff1,cutoff2):\n",
      "    filteredData = data[(cutoff1 < times) & (times < cutoff2)]\n",
      "    return filteredData"
     ],
     "language": "python",
     "metadata": {},
     "outputs": [],
     "prompt_number": 7
    },
    {
     "cell_type": "code",
     "collapsed": false,
     "input": [
      "def trainData(sellTimes1, sellPrices1, buyTimes1, buyPrices1, sellTimes2, sellPrices2, buyTimes2, buyPrices2):\n",
      "    import numpy as np\n",
      "    from scipy import interpolate\n",
      "    from sklearn import linear_model\n",
      "    \n",
      "    tck1 = interpolate.splrep(buyTimes1, buyPrices1, s=0)\n",
      "    tck2 = interpolate.splrep(buyTimes2, buyPrices2, s=0)\n",
      "    tck3 = interpolate.splrep(sellTimes2, sellPrices2, s=0)\n",
      "    compare_buy_1 = interpolate.splev(sellTimes1, tck1, der=0)\n",
      "    compare_buy_2 = interpolate.splev(sellTimes1, tck2, der=0)\n",
      "    compare_sell_2 = interpolate.splev(sellTimes1, tck3, der=0)\n",
      "    \n",
      "    clfT = linear_model.LinearRegression()\n",
      "    formatX = np.transpose(sellPrices1)\n",
      "    formatY = np.transpose(compare_buy_2)\n",
      "    newX = np.array([formatX]).T\n",
      "    clfT.fit(newX, formatY)\n",
      "    slopeToUse_1 = clfT.coef_\n",
      "    interceptToUse_1 = clfT.intercept_\n",
      "\n",
      "    clfT2 = linear_model.LinearRegression()\n",
      "    formatX = np.transpose(compare_buy_1)\n",
      "    formatY = np.transpose(compare_sell_2)\n",
      "    newX = np.array([formatX]).T\n",
      "    clfT2.fit(newX, formatY)\n",
      "    slopeToUse_2 = clfT2.coef_\n",
      "    interceptToUse_2 = clfT2.intercept_\n",
      "    \n",
      "    return slopeToUse_1, interceptToUse_1, slopeToUse_2, interceptToUse_2, compare_buy_1, compare_buy_2, compare_sell_2"
     ],
     "language": "python",
     "metadata": {},
     "outputs": [],
     "prompt_number": 8
    },
    {
     "cell_type": "code",
     "collapsed": false,
     "input": [
      "def formatTradeData(sellTimes1,sellPrices1,buyTimes1,buyPrices1,sellTimes2,sellPrices2,buyTimes2,buyPrices2,sellTimes1_ref,sellPrices1_ref,buyTimes1_ref,buyPrices1_ref,sellTimes2_ref,sellPrices2_ref,buyTimes2_ref,buyPrices2_ref,backwardHours,slope1,int1,slope2,int2):\n",
      "    \n",
      "    import numpy as np\n",
      "    from scipy import interpolate\n",
      "    from sklearn import linear_model\n",
      "    from scipy.interpolate import interp1d\n",
      "    \"\"\"\n",
      "    tck1 = interpolate.splrep(buyTimes1, buyPrices1, s=0)\n",
      "    tck2 = interpolate.splrep(buyTimes2, buyPrices2, s=0)\n",
      "    tck3 = interpolate.splrep(sellTimes2, sellPrices2, s=0)\n",
      "    buy_1_sync = interpolate.splev(sellTimes1, tck1, der=0)\n",
      "    buy_2_sync = interpolate.splev(sellTimes1, tck2, der=0)\n",
      "    sell_2_sync = interpolate.splev(sellTimes1, tck3, der=0)\n",
      "    \"\"\"\n",
      "    leftPoint = max([buyTimes1[0],buyTimes2[0],sellTimes2[0],sellTimes1[0]])\n",
      "    rightPoint = min([buyTimes1[-1],buyTimes2[-1],sellTimes2[-1],sellTimes1[-1]])\n",
      "    trade_timeline = sellTimes1[(sellTimes1 > leftPoint) & (sellTimes1 < rightPoint)]\n",
      "    \n",
      "    f1 = interp1d(buyTimes1, buyPrices1)\n",
      "    f2 = interp1d(buyTimes2, buyPrices2)\n",
      "    f3 = interp1d(sellTimes2, sellPrices2)\n",
      "    f4 = interp1d(sellTimes1, sellPrices1)\n",
      "    buy_1_sync = f1(trade_timeline)\n",
      "    buy_2_sync = f2(trade_timeline)\n",
      "    sell_2_sync = f3(trade_timeline)\n",
      "    sell_1_sync = f4(trade_timeline)\n",
      "    \n",
      "    leftPoint_ref = max([buyTimes1_ref[0],buyTimes2_ref[0],sellTimes2_ref[0],sellTimes1_ref[0]])\n",
      "    rightPoint_ref = min([buyTimes1_ref[-1],buyTimes2_ref[-1],sellTimes2_ref[-1],sellTimes1_ref[-1]])\n",
      "    time_ref = sellTimes1_ref[(sellTimes1_ref > leftPoint_ref) & (sellTimes1_ref < rightPoint_ref)]\n",
      "    \n",
      "    \"\"\"       \n",
      "    tck1_ref = interpolate.splrep(buyTimes1_ref, buyPrices1_ref, s=0)\n",
      "    tck2_ref = interpolate.splrep(buyTimes2_ref, buyPrices2_ref, s=0)\n",
      "    tck3_ref = interpolate.splrep(sellTimes2_ref, sellPrices2_ref, s=0)\n",
      "    buy_1_ref_sync = interpolate.splev(time_ref, tck1_ref, der=0)\n",
      "    buy_2_ref_sync = interpolate.splev(time_ref, tck2_ref, der=0)\n",
      "    sell_2_ref_sync = interpolate.splev(time_ref, tck3_ref, der=0)\n",
      "    \"\"\"\n",
      "    g1 = interp1d(buyTimes1_ref, buyPrices1_ref)\n",
      "    g2 = interp1d(buyTimes2_ref, buyPrices2_ref)\n",
      "    g3 = interp1d(sellTimes2_ref, sellPrices2_ref)\n",
      "    g4 = interp1d(sellTimes1_ref, sellPrices1_ref)\n",
      "    \n",
      "    buy_1_ref_sync = g1(time_ref)\n",
      "    buy_2_ref_sync = g2(time_ref)\n",
      "    sell_2_ref_sync = g3(time_ref)\n",
      "    sell_1_ref_sync = g4(time_ref)\n",
      "    \n",
      "    zScore1 = np.zeros(len(trade_timeline)) \n",
      "    zScore2 = np.zeros(len(trade_timeline)) \n",
      "    \n",
      "    import time\n",
      "    startTime = time.time()\n",
      "    time0 = trade_timeline[0]\n",
      "    count = 0\n",
      "    calcFlag = True\n",
      "    for ii in range(0,len(zScore1)):\n",
      "        if ii == 10**4:\n",
      "            endTime = time.time()\n",
      "            # print(endTime-startTime)\n",
      "            # break\n",
      "        currentTime = trade_timeline[ii]\n",
      "        if (calcFlag == True):\n",
      "            count = count + 1\n",
      "            calcFlag = False\n",
      "            sellPrices1_past = sell_1_ref_sync[time_ref < currentTime]\n",
      "            buyPrices2_past = buy_2_ref_sync[time_ref < currentTime]\n",
      "            time_past = time_ref[time_ref < currentTime]\n",
      "           \n",
      "            time_filt = time_past - time_past[-1]\n",
      "\n",
      "            sellPrices1_past2 = sellPrices1_past[time_filt > -3600*backwardHours]\n",
      "            buyPrices2_past2 = buyPrices2_past[time_filt > -3600*backwardHours]\n",
      "            \n",
      "            standardDev_1 = np.std((slope1*sellPrices1_past2 + int1) - buyPrices2_past2)\n",
      "            meanHist_1 = np.mean((slope1*sellPrices1_past2 + int1) - buyPrices2_past2)\n",
      "\n",
      "            buyPrices1_past = buy_1_ref_sync[time_ref < currentTime]\n",
      "            sellPrices2_past = sell_2_ref_sync[time_ref < currentTime]\n",
      "\n",
      "            buyPrices1_past2 = buyPrices1_past[time_filt > -3600*backwardHours]\n",
      "            sellPrices2_past2 = sellPrices2_past[time_filt > -3600*backwardHours]\n",
      "\n",
      "            standardDev_2 = np.std((slope2*buyPrices1_past2 + int2) - sellPrices2_past2)\n",
      "            meanHist_2 = np.mean((slope2*buyPrices1_past2 + int2) - sellPrices2_past2)\n",
      "        else:\n",
      "            if (currentTime - time0 > 1*60*count):\n",
      "                calcFlag = True\n",
      "       \n",
      "        zScore1[ii] = (((slope1*sell_1_sync[ii] + int1) - buy_2_sync[ii]) - meanHist_1)/standardDev_1\n",
      "        zScore2[ii] = (((slope2*buy_1_sync[ii] + int2) - sell_2_sync[ii]) - meanHist_2)/standardDev_2\n",
      "        \"\"\"\n",
      "        if (abs(zScore1[ii]) > 10) | (abs(zScore2[ii]) > 10):\n",
      "            print(len(buyPrices1_past2))\n",
      "            print(currentTime)\n",
      "            print(time_past[-10:-1])\n",
      "            print(currentTime - 3600*backwardHours)\n",
      "        \"\"\"\n",
      "            \n",
      "    return zScore1, zScore2, trade_timeline, sell_1_sync, buy_1_sync, buy_2_sync, sell_2_sync "
     ],
     "language": "python",
     "metadata": {},
     "outputs": [],
     "prompt_number": 9
    },
    {
     "cell_type": "code",
     "collapsed": false,
     "input": [
      "def pairs_trade(timeLine,sellPrices1,buyPrices1,sellPrices2,buyPrices2,zScore_1,zScore_2,trade_cutoff):\n",
      "    import numpy as np\n",
      "    bank1 = 10**4\n",
      "    bank2 = 10**4\n",
      "    coins1 = 0\n",
      "    coins2 = 0\n",
      "\n",
      "    bankTracker1 = [bank1]\n",
      "    coinTracker1 = [coins1]\n",
      "    naiveWorthTracker1 = [bank1 + coins1*buyPrices1[0]]\n",
      "\n",
      "    bankTracker2 = [bank2]\n",
      "    coinTracker2 = [coins2]\n",
      "    naiveWorthTracker2 = [bank2 + coins2*buyPrices2[0]]\n",
      "\n",
      "    zScoreTracker_1 = []\n",
      "    zScoreTracker_2 = []\n",
      "    cashOutTimes = []\n",
      "    cashOut1 = []\n",
      "    cashOut2 = []\n",
      "    cashOutz1 = []\n",
      "    cashOutz2 = []\n",
      "    \n",
      "    extremeFlag = 0\n",
      "    betSize = 1\n",
      "    \n",
      "    for ii in range(0,len(timeLine)):\n",
      "        \n",
      "        currentTime = timeLine[ii]\n",
      "        sellP1 = sellPrices1[ii]\n",
      "        sellP2 = sellPrices2[ii]\n",
      "        buyP1 = buyPrices1[ii]\n",
      "        buyP2 = buyPrices2[ii]\n",
      "\n",
      "        if zScore_1[ii] < -trade_cutoff:\n",
      "            bank2 = bank2 + betSize*buyP2\n",
      "            coins2 = coins2 - betSize\n",
      "            bank1 = bank1 - betSize*sellP1\n",
      "            coins1 = coins1 + betSize\n",
      "            extremeFlag = 1\n",
      "        if zScore_2[ii] > trade_cutoff:\n",
      "            bank1 = bank1 + betSize*buyP1\n",
      "            coins1 = coins1 - betSize\n",
      "            bank2 = bank2 - betSize*sellP2\n",
      "            coins2 = coins2 + betSize\n",
      "            extremeFlag = 1\n",
      "        if (abs(zScore_1[ii]) < .5) & (abs(zScore_2[ii]) < .5):\n",
      "        \n",
      "            if extremeFlag == 1:\n",
      "                cashOutTimes.append(currentTime)\n",
      "                if coins1 > 0:\n",
      "                    bank1 = bank1 + coins1*buyP1\n",
      "                    bank1 = bank1 - 0.002*coins1*buyP1\n",
      "                else:\n",
      "                    bank1 = bank1 + coins1*sellP1\n",
      "                    bank1 = bank1 + 0.002*coins1*sellP1\n",
      "                if coins2 > 0:\n",
      "                    bank2 = bank2 + coins2*buyP2\n",
      "                    bank2 = bank2 - 0.002*coins2*buyP2\n",
      "                else:\n",
      "                    bank2 = bank2 + coins2*sellP2 \n",
      "                    bank2 = bank2 + 0.002*coins2*sellP2\n",
      "                coins1 = 0\n",
      "                coins2 = 0\n",
      "                extremeFlag = 0\n",
      "                cashOut1.append(bank1)\n",
      "                cashOut2.append(bank2)\n",
      "                cashOutz1.append(zScore_1[ii])\n",
      "                cashOutz2.append(zScore_2[ii])\n",
      "                \n",
      "        bankTracker1.append(bank1)\n",
      "        coinTracker1.append(coins1)\n",
      "        naiveWorthTracker1.append(10**4 + 10*buyP1)\n",
      "\n",
      "        bankTracker2.append(bank2)\n",
      "        coinTracker2.append(coins2)\n",
      "        naiveWorthTracker2.append(10**4 + 10*buyP2)\n",
      "\n",
      "    bankTracker1 = np.array(bankTracker1)\n",
      "    coinTracker1 = np.array(coinTracker1)\n",
      "    naiveWorthTracker1 = np.array(naiveWorthTracker1)\n",
      "\n",
      "    bankTracker2 = np.array(bankTracker2)\n",
      "    coinTracker2 = np.array(coinTracker2)\n",
      "    naiveWorthTracker2 = np.array(naiveWorthTracker2)\n",
      "    cashOutTimes = np.array(cashOutTimes)\n",
      "    cashOut1 = np.array(cashOut1)\n",
      "    cashOut2 = np.array(cashOut2)\n",
      "    cashOutz1 = np.array(cashOutz1)\n",
      "    cashOutz2 = np.array(cashOutz2)\n",
      "    \n",
      "    return bankTracker1, naiveWorthTracker1, bankTracker2, naiveWorthTracker2, coinTracker1, coinTracker2, cashOutTimes, cashOut1, cashOut2, cashOutz1, cashOutz2"
     ],
     "language": "python",
     "metadata": {},
     "outputs": [],
     "prompt_number": 10
    },
    {
     "cell_type": "code",
     "collapsed": false,
     "input": [
      "def plotReturn(timeLine,bankTracker1,naiveWorthTracker1,bankTracker2,naiveWorthTracker2,startTime,cashOutTimes,cashOutBank,label1,label2):\n",
      "    import numpy as np\n",
      "    fig, ax = plt.subplots()\n",
      "    #ax.plot(timeLine,bankTracker1[1:],'g-',label=label1+' Portfolio Pairs Trading')\n",
      "    #ax.plot(timeLine,10**4*np.ones(len(naiveWorthTracker1[1:])),'r-',label=u'Portfolio Inactive')\n",
      "    #ax.plot(timeLine,bankTracker2[1:],'b-',label=label2+' Portfolio Pairs Trading')\n",
      "    ax.plot(timeLine,bankTracker1[1:]+bankTracker2[1:],'c-',label=u'Total Portfolio Pairs Trading')\n",
      "    ax.plot(timeLine,2*10**4*np.ones(len(naiveWorthTracker1[1:])),'y-',label=u'Total Inactive Trading')\n",
      "    ax.plot(cashOutTimes,cashOutBank,'g*',label=u'Pairs Trading Cash Out')\n",
      "    plt.show()\n",
      "    labels = []\n",
      "    for ii in range(0,len(ax.get_xticklabels())):\n",
      "        if ax.get_xticklabels()[ii].get_text() != '':\n",
      "            timeInc = int(ax.get_xticklabels()[ii].get_text())\n",
      "            dhms = DHMS(timeInc)\n",
      "            step = dt.timedelta(days = dhms[0],hours = dhms[1],minutes = dhms[2],seconds = dhms[3]) \n",
      "            currentLabel = startTime + step\n",
      "            labels.append(currentLabel.strftime('%Y:%m:%d:%H:%M:%S'))\n",
      "        else:\n",
      "            labels.append(ax.get_xticklabels()[ii].get_text())\n",
      "    fig, ax = plt.subplots()\n",
      "    #ax.plot(timeLine,bankTracker1[1:],'g-',label=label1+' Portfolio Pairs Trading')\n",
      "    #ax.plot(timeLine,10**4*np.ones(len(naiveWorthTracker1[1:])),'r-',label=u'Portfolio Inactive')\n",
      "    #ax.plot(timeLine,bankTracker2[1:],'b-',label=label2+' Portfolio Pairs Trading')\n",
      "    ax.plot(timeLine,bankTracker1[1:]+bankTracker2[1:],'c-',label=u'Total Portfolio Pairs Trading')\n",
      "    ax.plot(timeLine,2*10**4*np.ones(len(naiveWorthTracker1[1:])),'y-',label=u'Total Inactive Trading')\n",
      "    ax.plot(cashOutTimes,cashOutBank,'g*',label=u'Pairs Trading Cash Out')\n",
      "    ax.set_xticklabels(labels)\n",
      "    plt.xlabel('Time')\n",
      "    plt.ylabel('Account Value')\n",
      "    plt.title(label1+' and '+label2+' Pairs Trading')\n",
      "    plt.legend(loc = 0)\n",
      "    plt.show()"
     ],
     "language": "python",
     "metadata": {},
     "outputs": [],
     "prompt_number": 11
    },
    {
     "cell_type": "code",
     "collapsed": false,
     "input": [
      "rows1 = getRows('huobi',20*10**6,24*10**6)"
     ],
     "language": "python",
     "metadata": {},
     "outputs": [
      {
       "output_type": "stream",
       "stream": "stdout",
       "text": [
        "<class 'str'>\n"
       ]
      }
     ],
     "prompt_number": 12
    },
    {
     "cell_type": "code",
     "collapsed": false,
     "input": [
      "rows2 = getRows('okcoin',0,4*10**6)"
     ],
     "language": "python",
     "metadata": {},
     "outputs": [
      {
       "output_type": "stream",
       "stream": "stdout",
       "text": [
        "<class 'str'>\n"
       ]
      }
     ],
     "prompt_number": 13
    },
    {
     "cell_type": "code",
     "collapsed": false,
     "input": [
      "print(getStartTime(rows1[0]))"
     ],
     "language": "python",
     "metadata": {},
     "outputs": [
      {
       "ename": "IndexError",
       "evalue": "list index out of range",
       "output_type": "pyerr",
       "traceback": [
        "\u001b[1;31m---------------------------------------------------------------------------\u001b[0m\n\u001b[1;31mIndexError\u001b[0m                                Traceback (most recent call last)",
        "\u001b[1;32m<ipython-input-14-ea700875d925>\u001b[0m in \u001b[0;36m<module>\u001b[1;34m()\u001b[0m\n\u001b[1;32m----> 1\u001b[1;33m \u001b[0mprint\u001b[0m\u001b[1;33m(\u001b[0m\u001b[0mgetStartTime\u001b[0m\u001b[1;33m(\u001b[0m\u001b[0mrows1\u001b[0m\u001b[1;33m[\u001b[0m\u001b[1;36m0\u001b[0m\u001b[1;33m]\u001b[0m\u001b[1;33m)\u001b[0m\u001b[1;33m)\u001b[0m\u001b[1;33m\u001b[0m\u001b[0m\n\u001b[0m",
        "\u001b[1;31mIndexError\u001b[0m: list index out of range"
       ]
      }
     ],
     "prompt_number": 14
    },
    {
     "cell_type": "code",
     "collapsed": false,
     "input": [
      "print(getStartTime(rows2[0]))"
     ],
     "language": "python",
     "metadata": {},
     "outputs": [
      {
       "output_type": "stream",
       "stream": "stdout",
       "text": [
        "2014-01-09 16:41:01\n"
       ]
      }
     ],
     "prompt_number": 22
    },
    {
     "cell_type": "code",
     "collapsed": false,
     "input": [
      "startTime = getStartTime(rows1[0])\n",
      "times1 = getTimes(rows1,startTime)\n",
      "times2 = getTimes(rows2,startTime)\n",
      "buyPrices1, sellPrices1, buyTimes1, sellTimes1, buyQuantity1, buyLevels1, sellQuantity1, sellLevels1 = extractTickData(rows1,times1)\n",
      "buyPrices2, sellPrices2, buyTimes2, sellTimes2, buyQuantity2, buyLevels2, sellQuantity2, sellLevels2 = extractTickData(rows2,times2)"
     ],
     "language": "python",
     "metadata": {},
     "outputs": [],
     "prompt_number": 18
    },
    {
     "cell_type": "code",
     "collapsed": false,
     "input": [
      "plotTimes(sellTimes1,sellPrices1,buyTimes1,buyPrices1,sellTimes2,sellPrices2,buyTimes2,buyPrices2,'BTCE','STAMP',startTime)"
     ],
     "language": "python",
     "metadata": {},
     "outputs": [],
     "prompt_number": 19
    },
    {
     "cell_type": "code",
     "collapsed": false,
     "input": [
      "import datetime as dt\n",
      "startCutoff = dt.datetime(2013,12,15,12,0,0) - startTime\n",
      "startCutOffSeconds = startCutoff.days*(24*3600) + startCutoff.seconds\n",
      "trainCutoff = dt.datetime(2013,12,16,12,0,0) - startTime\n",
      "trainCutoffSeconds = trainCutoff.days*(24*3600) + trainCutoff.seconds\n",
      "endCutoff = dt.datetime(2013,12,17,6,20,15) - startTime\n",
      "endCutoffSeconds = endCutoff.days*(24*3600) + endCutoff.seconds"
     ],
     "language": "python",
     "metadata": {},
     "outputs": [],
     "prompt_number": 20
    },
    {
     "cell_type": "code",
     "collapsed": false,
     "input": [
      "buyPrices1_train = timeFilterData(buyPrices1,buyTimes1,startCutOffSeconds,trainCutoffSeconds)\n",
      "sellPrices1_train = timeFilterData(sellPrices1,sellTimes1,startCutOffSeconds,trainCutoffSeconds)\n",
      "buyTimes1_train = timeFilterData(buyTimes1,buyTimes1,startCutOffSeconds,trainCutoffSeconds)\n",
      "sellTimes1_train = timeFilterData(sellTimes1,sellTimes1,startCutOffSeconds,trainCutoffSeconds)\n",
      "buyQuantity1_train = timeFilterData(buyQuantity1,buyTimes1,startCutOffSeconds,trainCutoffSeconds)\n",
      "buyLevels1_train = timeFilterData(buyLevels1,buyTimes1,startCutOffSeconds,trainCutoffSeconds)\n",
      "sellQuantity1_train = timeFilterData(sellQuantity1,sellTimes1,startCutOffSeconds,trainCutoffSeconds)\n",
      "sellLevels1_train = timeFilterData(sellLevels1,sellTimes1,startCutOffSeconds,trainCutoffSeconds)\n",
      "\n",
      "buyPrices2_train = timeFilterData(buyPrices2,buyTimes2,startCutOffSeconds,trainCutoffSeconds)\n",
      "sellPrices2_train = timeFilterData(sellPrices2,sellTimes2,startCutOffSeconds,trainCutoffSeconds)\n",
      "buyTimes2_train = timeFilterData(buyTimes2,buyTimes2,startCutOffSeconds,trainCutoffSeconds)\n",
      "sellTimes2_train = timeFilterData(sellTimes2,sellTimes2,startCutOffSeconds,trainCutoffSeconds)\n",
      "buyQuantity2_train = timeFilterData(buyQuantity2,buyTimes2,startCutOffSeconds,trainCutoffSeconds)\n",
      "buyLevels2_train = timeFilterData(buyLevels2,buyTimes2,startCutOffSeconds,trainCutoffSeconds)\n",
      "sellQuantity2_train = timeFilterData(sellQuantity2,sellTimes2,startCutOffSeconds,trainCutoffSeconds)\n",
      "sellLevels2_train = timeFilterData(sellLevels2,sellTimes2,startCutOffSeconds,trainCutoffSeconds)\n",
      "\n",
      "buyPrices1_trade = timeFilterData(buyPrices1,buyTimes1,trainCutoffSeconds,endCutoffSeconds)\n",
      "sellPrices1_trade = timeFilterData(sellPrices1,sellTimes1,trainCutoffSeconds,endCutoffSeconds)\n",
      "buyTimes1_trade = timeFilterData(buyTimes1,buyTimes1,trainCutoffSeconds,endCutoffSeconds)\n",
      "sellTimes1_trade = timeFilterData(sellTimes1,sellTimes1,trainCutoffSeconds,endCutoffSeconds)\n",
      "buyQuantity1_trade = timeFilterData(buyQuantity1,buyTimes1,trainCutoffSeconds,endCutoffSeconds)\n",
      "buyLevels1_trade = timeFilterData(buyLevels1,buyTimes1,trainCutoffSeconds,endCutoffSeconds)\n",
      "sellQuantity1_trade = timeFilterData(sellQuantity1,sellTimes1,trainCutoffSeconds,endCutoffSeconds)\n",
      "sellLevels1_trade = timeFilterData(sellLevels1,sellTimes1,trainCutoffSeconds,endCutoffSeconds)\n",
      "\n",
      "buyPrices2_trade = timeFilterData(buyPrices2,buyTimes2,trainCutoffSeconds,endCutoffSeconds)\n",
      "sellPrices2_trade = timeFilterData(sellPrices2,sellTimes2,trainCutoffSeconds,endCutoffSeconds)\n",
      "buyTimes2_trade = timeFilterData(buyTimes2,buyTimes2,trainCutoffSeconds,endCutoffSeconds)\n",
      "sellTimes2_trade = timeFilterData(sellTimes2,sellTimes2,trainCutoffSeconds,endCutoffSeconds)\n",
      "buyQuantity2_trade = timeFilterData(buyQuantity2,buyTimes2,trainCutoffSeconds,endCutoffSeconds)\n",
      "buyLevels2_trade = timeFilterData(buyLevels2,buyTimes2,trainCutoffSeconds,endCutoffSeconds)\n",
      "sellQuantity2_trade = timeFilterData(sellQuantity2,sellTimes2,trainCutoffSeconds,endCutoffSeconds)\n",
      "sellLevels2_trade = timeFilterData(sellLevels2,sellTimes2,trainCutoffSeconds,endCutoffSeconds)"
     ],
     "language": "python",
     "metadata": {},
     "outputs": [],
     "prompt_number": 21
    },
    {
     "cell_type": "code",
     "collapsed": false,
     "input": [
      "sellTimes1_train =  sellTimes1_train[sellLevels1_train == 1]\n",
      "sellPrices1_train = sellPrices1_train[sellLevels1_train == 1]\n",
      "buyTimes1_train = buyTimes1_train[buyLevels1_train == 1]\n",
      "buyPrices1_train = buyPrices1_train[buyLevels1_train == 1]\n",
      "sellTimes2_train = sellTimes2_train[sellLevels2_train == 1]\n",
      "sellPrices2_train = sellPrices2_train[sellLevels2_train == 1]\n",
      "buyTimes2_train = buyTimes2_train[buyLevels2_train == 1]\n",
      "buyPrices2_train = buyPrices2_train[buyLevels2_train == 1]\n",
      "slopeToUse_1, interceptToUse_1, slopeToUse_2, interceptToUse_2,buyPrices1_train_syn, buyPrices2_train_sync, sellPrices2_train_sync = trainData(sellTimes1_train, sellPrices1_train, buyTimes1_train, buyPrices1_train, sellTimes2_train, sellPrices2_train, buyTimes2_train, buyPrices2_train)"
     ],
     "language": "python",
     "metadata": {},
     "outputs": [],
     "prompt_number": 22
    },
    {
     "cell_type": "code",
     "collapsed": false,
     "input": [
      "slopeToUse_1"
     ],
     "language": "python",
     "metadata": {},
     "outputs": [
      {
       "metadata": {},
       "output_type": "pyout",
       "prompt_number": 23,
       "text": [
        "array([ 1.27037894])"
       ]
      }
     ],
     "prompt_number": 23
    },
    {
     "cell_type": "code",
     "collapsed": false,
     "input": [
      "interceptToUse_1"
     ],
     "language": "python",
     "metadata": {},
     "outputs": [
      {
       "metadata": {},
       "output_type": "pyout",
       "prompt_number": 24,
       "text": [
        "-229.81865848372763"
       ]
      }
     ],
     "prompt_number": 24
    },
    {
     "cell_type": "code",
     "collapsed": false,
     "input": [
      "slopeToUse_2"
     ],
     "language": "python",
     "metadata": {},
     "outputs": [
      {
       "metadata": {},
       "output_type": "pyout",
       "prompt_number": 25,
       "text": [
        "array([ 1.26184439])"
       ]
      }
     ],
     "prompt_number": 25
    },
    {
     "cell_type": "code",
     "collapsed": false,
     "input": [
      "interceptToUse_2"
     ],
     "language": "python",
     "metadata": {},
     "outputs": [
      {
       "metadata": {},
       "output_type": "pyout",
       "prompt_number": 26,
       "text": [
        "-218.9084712554702"
       ]
      }
     ],
     "prompt_number": 26
    },
    {
     "cell_type": "code",
     "collapsed": false,
     "input": [
      "import matplotlib.pyplot as plt\n",
      "plt.plot(sellPrices1_train,buyPrices2_train_sync,'b.')\n",
      "plt.plot(sellPrices1_train,slopeToUse_1*sellPrices1_train + interceptToUse_1,'r')\n",
      "plt.xlabel('BTCE sell prices')\n",
      "plt.ylabel('Bitstamp sell prices')\n",
      "plt.title('Best Fit Parameters')\n",
      "plt.show()"
     ],
     "language": "python",
     "metadata": {},
     "outputs": [],
     "prompt_number": 27
    },
    {
     "cell_type": "code",
     "collapsed": false,
     "input": [
      "buyPrices1_trade = buyPrices1_trade[buyLevels1_trade == 1]\n",
      "sellPrices1_trade = sellPrices1_trade[sellLevels1_trade == 1]\n",
      "buyTimes1_trade = buyTimes1_trade[buyLevels1_trade == 1]\n",
      "sellTimes1_trade = sellTimes1_trade[sellLevels1_trade == 1]\n",
      "\n",
      "buyPrices1_ref = buyPrices1[buyLevels1 == 1]\n",
      "sellPrices1_ref = sellPrices1[sellLevels1 == 1]\n",
      "buyTimes1_ref = buyTimes1[buyLevels1 == 1]\n",
      "sellTimes1_ref = sellTimes1[sellLevels1 == 1]\n",
      "\n",
      "buyPrices2_trade = buyPrices2_trade[buyLevels2_trade == 1]\n",
      "sellPrices2_trade = sellPrices2_trade[sellLevels2_trade == 1]\n",
      "buyTimes2_trade = buyTimes2_trade[buyLevels2_trade == 1]\n",
      "sellTimes2_trade = sellTimes2_trade[sellLevels2_trade == 1]\n",
      "\n",
      "buyPrices2_ref = buyPrices2[buyLevels2 == 1]\n",
      "sellPrices2_ref = sellPrices2[sellLevels2 == 1]\n",
      "buyTimes2_ref = buyTimes2[buyLevels2 == 1]\n",
      "sellTimes2_ref = sellTimes2[sellLevels2 == 1]"
     ],
     "language": "python",
     "metadata": {},
     "outputs": [],
     "prompt_number": 28
    },
    {
     "cell_type": "code",
     "collapsed": false,
     "input": [
      "backwardHours = 6\n",
      "trade_cutoff = 2\n",
      "zScore1,zScore2,timeLine,sellPrices1_trade_sync,buyPrices1_trade_sync,sellPrices2_trade_sync,buyPrices2_trade_sync = formatTradeData(sellTimes1_trade,sellPrices1_trade,buyTimes1_trade,buyPrices1_trade,sellTimes2_trade,sellPrices2_trade,buyTimes2_trade,buyPrices2_trade,sellTimes1_ref,sellPrices1_ref,buyTimes1_ref,buyPrices1_ref,sellTimes2_ref,sellPrices2_ref,buyTimes2_ref,buyPrices2_ref,backwardHours,slopeToUse_1,interceptToUse_1,slopeToUse_2,interceptToUse_2)"
     ],
     "language": "python",
     "metadata": {},
     "outputs": [],
     "prompt_number": 29
    },
    {
     "cell_type": "code",
     "collapsed": false,
     "input": [
      "bankTracker1, naiveWorthTracker1, bankTracker2, naiveWorthTracker2, coinTracker1, coinTracker2, cashOutTimes,cashOut1, cashOut2, cashOutz1, cashOutz2 = pairs_trade(timeLine,sellPrices1_trade_sync,buyPrices1_trade_sync,sellPrices2_trade_sync,buyPrices2_trade_sync,zScore1,zScore2,trade_cutoff)\n",
      "plotReturn(timeLine,bankTracker1,naiveWorthTracker1,bankTracker2,naiveWorthTracker2,startTime,cashOutTimes,cashOut1+cashOut2,'btce','bitstamp')"
     ],
     "language": "python",
     "metadata": {},
     "outputs": [],
     "prompt_number": 30
    },
    {
     "cell_type": "code",
     "collapsed": false,
     "input": [
      "fig, ax = plt.subplots()\n",
      "ax.plot(timeLine,zScore1,'r',label=u'btce')\n",
      "ax.plot(timeLine,zScore2,'b',label=u'bitstamp')\n",
      "ax.plot(cashOutTimes,cashOutz1,'yo',label=u'btce cash out')\n",
      "ax.plot(cashOutTimes,cashOutz2,'wo',label=u'bitstamp cash out')\n",
      "plt.show()\n",
      "labels = []\n",
      "for ii in range(0,len(ax.get_xticklabels())):\n",
      "    if ax.get_xticklabels()[ii].get_text() != '':\n",
      "        timeInc = int(ax.get_xticklabels()[ii].get_text())\n",
      "        dhms = DHMS(timeInc)\n",
      "        step = dt.timedelta(days = dhms[0],hours = dhms[1],minutes = dhms[2],seconds = dhms[3]) \n",
      "        currentLabel = startTime + step\n",
      "        labels.append(currentLabel.strftime('%Y:%m:%d:%H:%M:%S'))\n",
      "    else:\n",
      "        labels.append(ax.get_xticklabels()[ii].get_text())\n",
      "fig, ax = plt.subplots()\n",
      "ax.plot(timeLine,zScore1,'r',label=u'btce')\n",
      "ax.plot(timeLine,zScore2,'b',label=u'bitstamp')\n",
      "ax.plot(cashOutTimes,cashOutz1,'yo',label=u'btce cash out')\n",
      "ax.plot(cashOutTimes,cashOutz2,'wo',label=u'bitstamp cash out')   \n",
      "ax.set_xticklabels(labels)\n",
      "plt.xlabel('Time')\n",
      "plt.ylabel('Z Score')\n",
      "plt.title('BTCE and Bitstamp Z scores with Cashout times (z_threshold = 2)')\n",
      "plt.legend(loc = 0)\n",
      "plt.show()"
     ],
     "language": "python",
     "metadata": {},
     "outputs": [],
     "prompt_number": 71
    },
    {
     "cell_type": "code",
     "collapsed": false,
     "input": [
      "fig, ax = plt.subplots()\n",
      "ax.plot(timeLine,coinTracker1[1:],'r',label=u'btce')\n",
      "ax.plot(timeLine,coinTracker2[1:],'b',label=u'bitstamp')\n",
      "plt.show()\n",
      "labels = []\n",
      "for ii in range(0,len(ax.get_xticklabels())):\n",
      "    if ax.get_xticklabels()[ii].get_text() != '':\n",
      "        timeInc = int(ax.get_xticklabels()[ii].get_text())\n",
      "        dhms = DHMS(timeInc)\n",
      "        step = dt.timedelta(days = dhms[0],hours = dhms[1],minutes = dhms[2],seconds = dhms[3]) \n",
      "        currentLabel = startTime + step\n",
      "        labels.append(currentLabel.strftime('%Y:%m:%d:%H:%M:%S'))\n",
      "    else:\n",
      "        labels.append(ax.get_xticklabels()[ii].get_text())\n",
      "fig, ax = plt.subplots()\n",
      "ax.plot(timeLine,coinTracker1[1:],'r',label=u'btce')\n",
      "ax.plot(timeLine,coinTracker2[1:],'b',label=u'bitstamp') \n",
      "ax.set_xticklabels(labels)\n",
      "plt.xlabel('Time')\n",
      "plt.ylabel('Bitcoins')\n",
      "plt.title('BTCE and Bitstamp Bitcoins with Cashout times (z_threshold = 2)')\n",
      "plt.legend(loc = 0)\n",
      "plt.show()"
     ],
     "language": "python",
     "metadata": {},
     "outputs": [],
     "prompt_number": 72
    },
    {
     "cell_type": "code",
     "collapsed": false,
     "input": [
      "fig, ax = plt.subplots()\n",
      "ax.plot(timeLine,bankTracker1[1:],'r',label=u'btce')\n",
      "ax.plot(timeLine,bankTracker2[1:],'b',label=u'bitstamp')\n",
      "ax.plot(cashOutTimes,cashOut1,'yo',label=u'btce cash out')\n",
      "ax.plot(cashOutTimes,cashOut2,'wo',label=u'bitstamp cash out')\n",
      "plt.show()\n",
      "labels = []\n",
      "for ii in range(0,len(ax.get_xticklabels())):\n",
      "    if ax.get_xticklabels()[ii].get_text() != '':\n",
      "        timeInc = int(ax.get_xticklabels()[ii].get_text())\n",
      "        dhms = DHMS(timeInc)\n",
      "        step = dt.timedelta(days = dhms[0],hours = dhms[1],minutes = dhms[2],seconds = dhms[3]) \n",
      "        currentLabel = startTime + step\n",
      "        labels.append(currentLabel.strftime('%Y:%m:%d:%H:%M:%S'))\n",
      "    else:\n",
      "        labels.append(ax.get_xticklabels()[ii].get_text())\n",
      "fig, ax = plt.subplots()\n",
      "ax.plot(timeLine,bankTracker1[1:],'r',label=u'btce')\n",
      "ax.plot(timeLine,bankTracker2[1:],'b',label=u'bitstamp')\n",
      "ax.plot(cashOutTimes,cashOut1,'yo',label=u'btce cash out')\n",
      "ax.plot(cashOutTimes,cashOut2,'wo',label=u'bitstamp cash out')   \n",
      "ax.set_xticklabels(labels)\n",
      "plt.xlabel('Time')\n",
      "plt.ylabel('Account Values')\n",
      "plt.title('BTCE and Bitstamp Account Values with Cashout times (z_threshold = 2)')\n",
      "plt.legend(loc = 0)\n",
      "plt.show()"
     ],
     "language": "python",
     "metadata": {},
     "outputs": [],
     "prompt_number": 73
    },
    {
     "cell_type": "code",
     "collapsed": false,
     "input": [
      "100*(((bankTracker1[-1]+bankTracker2[-1])/20000)-1)"
     ],
     "language": "python",
     "metadata": {},
     "outputs": [
      {
       "metadata": {},
       "output_type": "pyout",
       "prompt_number": 31,
       "text": [
        "564.97686091810044"
       ]
      }
     ],
     "prompt_number": 31
    },
    {
     "cell_type": "code",
     "collapsed": false,
     "input": [
      "import numpy as np\n",
      "backwardHours = 6\n",
      "trade_cutoff_vector = np.linspace(.6,4,40)\n",
      "tradeReturn = np.zeros(len(trade_cutoff_vector))\n",
      "zScore1,zScore2,timeLine,sellPrices1_trade_sync,buyPrices1_trade_sync,sellPrices2_trade_sync,buyPrices2_trade_sync = formatTradeData(sellTimes1_trade,sellPrices1_trade,buyTimes1_trade,buyPrices1_trade,sellTimes2_trade,sellPrices2_trade,buyTimes2_trade,buyPrices2_trade,sellTimes1_ref,sellPrices1_ref,buyTimes1_ref,buyPrices1_ref,sellTimes2_ref,sellPrices2_ref,buyTimes2_ref,buyPrices2_ref,backwardHours,slopeToUse_1,interceptToUse_1,slopeToUse_2,interceptToUse_2)\n",
      "for ii in range(0,len(trade_cutoff_vector)): \n",
      "    trade_cutoff = trade_cutoff_vector[ii]\n",
      "    bankTracker1, naiveWorthTracker1, bankTracker2, naiveWorthTracker2, coinTracker1, coinTracker2, cashOutTimes,cashOut1, cashOut2, cashOutz1, cashOutz2 = pairs_trade(timeLine,sellPrices1_trade_sync,buyPrices1_trade_sync,sellPrices2_trade_sync,buyPrices2_trade_sync,zScore1,zScore2,trade_cutoff)\n",
      "    tradeReturn[ii] = 100*(((bankTracker1[-1]+bankTracker2[-1])/20000)-1)\n",
      "plt.plot(trade_cutoff_vector,tradeReturn,'b')\n",
      "plt.xlabel('Z Score Threshold')\n",
      "plt.ylabel('Percent Return')\n",
      "plt.title('Pairs Trading Return')\n",
      "plt.show()"
     ],
     "language": "python",
     "metadata": {},
     "outputs": [],
     "prompt_number": 82
    },
    {
     "cell_type": "code",
     "collapsed": false,
     "input": [
      "import numpy as np\n",
      "backwardHoursVec = [1/12,1/2,1,2,3,4,5,6,7,8,9,10,11,12]\n",
      "trade_cutoff_vector = np.linspace(.6,4,20)\n",
      "tradeReturn = np.zeros((14,len(trade_cutoff_vector)))\n",
      "for ii in range(0,14):\n",
      "    backwardHours = backwardHoursVec[ii]\n",
      "    zScore1,zScore2,timeLine,sellPrices1_trade_sync,buyPrices1_trade_sync,sellPrices2_trade_sync,buyPrices2_trade_sync = formatTradeData(sellTimes1_trade,sellPrices1_trade,buyTimes1_trade,buyPrices1_trade,sellTimes2_trade,sellPrices2_trade,buyTimes2_trade,buyPrices2_trade,sellTimes1_ref,sellPrices1_ref,buyTimes1_ref,buyPrices1_ref,sellTimes2_ref,sellPrices2_ref,buyTimes2_ref,buyPrices2_ref,backwardHours,slopeToUse_1,interceptToUse_1,slopeToUse_2,interceptToUse_2)\n",
      "    for jj in range(len(trade_cutoff_vector)):\n",
      "        trade_cutoff = trade_cutoff_vector[jj]\n",
      "        bankTracker1, naiveWorthTracker1, bankTracker2, naiveWorthTracker2, coinTracker1, coinTracker2, cashOutTimes,cashOut1, cashOut2, cashOutz1, cashOutz2 = pairs_trade(timeLine,sellPrices1_trade_sync,buyPrices1_trade_sync,sellPrices2_trade_sync,buyPrices2_trade_sync,zScore1,zScore2,trade_cutoff)\n",
      "        tradeReturn[ii,jj] = 100*(((bankTracker1[-1]+bankTracker2[-1])/20000)-1)"
     ],
     "language": "python",
     "metadata": {},
     "outputs": [],
     "prompt_number": 55
    },
    {
     "cell_type": "code",
     "collapsed": false,
     "input": [
      "fig, ax = plt.subplots()\n",
      "ax.imshow(tradeReturn)\n",
      "xlabels = [item.get_text() for item in ax.get_xticklabels()]\n",
      "ylabels = [item.get_text() for item in ax.get_yticklabels()]\n",
      "ax.set_xticklabels(['','0.6','1.6','2.6','3.6',''])\n",
      "ax.set_yticklabels(['','1/12','1','2','4','6','8','10','12',''])\n",
      "plt.xlabel('Z-score threshold')\n",
      "plt.ylabel('Backward Window (hours)')\n",
      "plt.title('BTCE and Bitstamp Pairs Trading Return')\n",
      "plt.colorbar\n",
      "plt.show()"
     ],
     "language": "python",
     "metadata": {},
     "outputs": [],
     "prompt_number": 57
    },
    {
     "cell_type": "code",
     "collapsed": false,
     "input": [],
     "language": "python",
     "metadata": {},
     "outputs": []
    }
   ],
   "metadata": {}
  }
 ]
}