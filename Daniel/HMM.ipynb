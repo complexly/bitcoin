{
 "cells": [
  {
   "cell_type": "code",
   "execution_count": 77,
   "metadata": {
    "collapsed": true
   },
   "outputs": [],
   "source": [
    "import numpy as np\n",
    "from scipy.stats import distributions\n",
    "normal = distributions.norm.pdf\n",
    "import math"
   ]
  },
  {
   "cell_type": "code",
   "execution_count": 2,
   "metadata": {
    "collapsed": false
   },
   "outputs": [],
   "source": [
    "def getRows(dataBase,startInd,endInd):\n",
    "    import sqlite3\n",
    "    print(type(dataBase))\n",
    "    input1 = dataBase+'.rdb'\n",
    "    conn = sqlite3.connect(input1)\n",
    "    c = conn.cursor()\n",
    "    input2 = 'SELECT * FROM '+dataBase+'_ob'\n",
    "    aa = c.execute(input2)\n",
    "    rows = []\n",
    "    count = 0\n",
    "    for row in aa:\n",
    "        if (count >= startInd) & (count < endInd):\n",
    "            rows.append(row)\n",
    "        count += 1\n",
    "        if count == endInd:\n",
    "            break\n",
    "    return rows"
   ]
  },
  {
   "cell_type": "code",
   "execution_count": 3,
   "metadata": {
    "collapsed": false
   },
   "outputs": [],
   "source": [
    "def getStartTime(row):\n",
    "    import datetime as dt\n",
    "    start = dt.datetime(int(row[5][0:4]), int(row[5][5:7]), int(row[5][8:10]), int(row[5][11:13]), int(row[5][14:16]), int(float(row[5][17:-1])))\n",
    "    return start"
   ]
  },
  {
   "cell_type": "code",
   "execution_count": 4,
   "metadata": {
    "collapsed": false
   },
   "outputs": [],
   "source": [
    "def getTimes(rows,startTime):\n",
    "    import matplotlib.pyplot as plt\n",
    "    import datetime as dt\n",
    "    timeSec = [0]\n",
    "    for afterInd in range(1,len(rows)):\n",
    "        current = dt.datetime(int(rows[afterInd][5][0:4]), int(rows[afterInd][5][5:7]), int(rows[afterInd][5][8:10]), int(rows[afterInd][5][11:13]), int(rows[afterInd][5][14:16]), int(float(rows[afterInd][5][17:-1])))\n",
    "        currentDiff = current - startTime\n",
    "        currentDiffSeconds = currentDiff.days*(24*3600) + currentDiff.seconds\n",
    "        timeSec.append(currentDiffSeconds)\n",
    "    return timeSec"
   ]
  },
  {
   "cell_type": "code",
   "execution_count": 5,
   "metadata": {
    "collapsed": false
   },
   "outputs": [],
   "source": [
    "def extractTickData(rows,timeSec):\n",
    "    import numpy as np\n",
    "    buyPrices = []\n",
    "    sellPrices = []\n",
    "    buyTimes = []\n",
    "    sellTimes = []\n",
    "    buyQuantity = []\n",
    "    buyLevels = []\n",
    "    sellQuantity = []\n",
    "    sellLevels = []\n",
    "    for ii in range(len(rows)):\n",
    "        if rows[ii][1] == 'buy':\n",
    "            buyPrices.append(rows[ii][2])\n",
    "            buyTimes.append(timeSec[ii])\n",
    "            buyQuantity.append(rows[ii][3])\n",
    "            buyLevels.append(rows[ii][4])\n",
    "        else:\n",
    "            sellPrices.append(rows[ii][2])\n",
    "            sellTimes.append(timeSec[ii])\n",
    "            sellQuantity.append(rows[ii][3])\n",
    "            sellLevels.append(rows[ii][4])\n",
    "    buyPrices = np.array(buyPrices)\n",
    "    sellPrices = np.array(sellPrices)\n",
    "    buyTimes = np.array(buyTimes)\n",
    "    sellTimes = np.array(sellTimes)\n",
    "    buyQuantity = np.array(buyQuantity)\n",
    "    buyLevels = np.array(buyLevels)\n",
    "    sellQuantity = np.array(sellQuantity)\n",
    "    sellLevels = np.array(sellLevels)\n",
    "    \n",
    "    return buyPrices, sellPrices, buyTimes, sellTimes, buyQuantity, buyLevels, sellQuantity, sellLevels"
   ]
  },
  {
   "cell_type": "code",
   "execution_count": 6,
   "metadata": {
    "collapsed": false
   },
   "outputs": [],
   "source": [
    "def DHMS(seconds):\n",
    "    import numpy as np\n",
    "    days = np.floor(seconds/3600)\n",
    "    hours = np.floor((seconds/3600) - days*24)\n",
    "    minutes = np.floor(((seconds/3600) - days*24 - hours)*60)\n",
    "    seconds = np.floor((((seconds/3600) - days*24 - hours)*60 - minutes)*60)\n",
    "    return np.array([days,hours,minutes,seconds])"
   ]
  },
  {
   "cell_type": "code",
   "execution_count": 7,
   "metadata": {
    "collapsed": false
   },
   "outputs": [],
   "source": [
    "def plotTimes(sellTimes1,sellPrices1,buyTimes1,buyPrices1,sellTimes2,sellPrices2,buyTimes2,buyPrices2,label1,label2,start):\n",
    "    import matplotlib.pyplot as plt\n",
    "    fig, ax = plt.subplots()\n",
    "    import datetime as dt\n",
    "    ax.plot(buyTimes1,buyPrices1,'g-',label=label1+' Buy Prices')\n",
    "    ax.plot(sellTimes1,sellPrices1,'r-',label=label1+' Sell Prices')\n",
    "    ax.plot(buyTimes2,buyPrices2,'b-',label=label2+' Buy Prices')\n",
    "    ax.plot(sellTimes2,sellPrices2,'m-',label=label2+' Sell Prices')\n",
    "    plt.show()\n",
    "    labels = []\n",
    "    for ii in range(0,len(ax.get_xticklabels())):\n",
    "        if ax.get_xticklabels()[ii].get_text() != '':\n",
    "            timeInc = int(ax.get_xticklabels()[ii].get_text())\n",
    "            dhms = DHMS(timeInc)\n",
    "            step = dt.timedelta(days = dhms[0],hours = dhms[1],minutes = dhms[2],seconds = dhms[3]) \n",
    "            currentLabel = start + step\n",
    "            labels.append(currentLabel.strftime('%Y:%m:%d:%H:%M:%S'))\n",
    "        else:\n",
    "            labels.append(ax.get_xticklabels()[ii].get_text())\n",
    "    fig, ax = plt.subplots()\n",
    "    ax.plot(buyTimes1,buyPrices1,'g-',label=label1+' Buy Prices')\n",
    "    ax.plot(sellTimes1,sellPrices1,'r-',label=label1+' Sell Prices')\n",
    "    ax.plot(buyTimes2,buyPrices2,'b-',label=label2+' Buy Prices')\n",
    "    ax.plot(sellTimes2,sellPrices2,'m-',label=label2+' Sell Prices')\n",
    "    ax.set_xticklabels(labels)\n",
    "    plt.xlabel('Time')\n",
    "    plt.ylabel('Bitcoin Buy and Sell Prices')\n",
    "    plt.title(label1+' and '+label2+' Bitcoin Bid/Ask')\n",
    "    plt.legend()\n",
    "    plt.show()"
   ]
  },
  {
   "cell_type": "code",
   "execution_count": 8,
   "metadata": {
    "collapsed": false
   },
   "outputs": [],
   "source": [
    "def timeFilterData(data,times,cutoff1,cutoff2):\n",
    "    filteredData = data[(cutoff1 < times) & (times < cutoff2)]\n",
    "    return filteredData"
   ]
  },
  {
   "cell_type": "code",
   "execution_count": 9,
   "metadata": {
    "collapsed": false
   },
   "outputs": [],
   "source": [
    "def trainData(sellTimes1, sellPrices1, buyTimes1, buyPrices1, sellTimes2, sellPrices2, buyTimes2, buyPrices2):\n",
    "    import numpy as np\n",
    "    from scipy import interpolate\n",
    "    from sklearn import linear_model\n",
    "    \n",
    "    tck1 = interpolate.splrep(buyTimes1, buyPrices1, s=0)\n",
    "    tck2 = interpolate.splrep(buyTimes2, buyPrices2, s=0)\n",
    "    tck3 = interpolate.splrep(sellTimes2, sellPrices2, s=0)\n",
    "    compare_buy_1 = interpolate.splev(sellTimes1, tck1, der=0)\n",
    "    compare_buy_2 = interpolate.splev(sellTimes1, tck2, der=0)\n",
    "    compare_sell_2 = interpolate.splev(sellTimes1, tck3, der=0)\n",
    "    \n",
    "    clfT = linear_model.LinearRegression()\n",
    "    formatX = np.transpose(sellPrices1)\n",
    "    formatY = np.transpose(compare_buy_2)\n",
    "    newX = np.array([formatX]).T\n",
    "    clfT.fit(newX, formatY)\n",
    "    slopeToUse_1 = clfT.coef_\n",
    "    interceptToUse_1 = clfT.intercept_\n",
    "\n",
    "    clfT2 = linear_model.LinearRegression()\n",
    "    formatX = np.transpose(compare_buy_1)\n",
    "    formatY = np.transpose(compare_sell_2)\n",
    "    newX = np.array([formatX]).T\n",
    "    clfT2.fit(newX, formatY)\n",
    "    slopeToUse_2 = clfT2.coef_\n",
    "    interceptToUse_2 = clfT2.intercept_\n",
    "    \n",
    "    return slopeToUse_1, interceptToUse_1, slopeToUse_2, interceptToUse_2, compare_buy_1, compare_buy_2, compare_sell_2"
   ]
  },
  {
   "cell_type": "code",
   "execution_count": 10,
   "metadata": {
    "collapsed": false
   },
   "outputs": [],
   "source": [
    "def formatTradeData(sellTimes1,sellPrices1,buyTimes1,buyPrices1,sellTimes2,sellPrices2,buyTimes2,buyPrices2,sellTimes1_ref,sellPrices1_ref,buyTimes1_ref,buyPrices1_ref,sellTimes2_ref,sellPrices2_ref,buyTimes2_ref,buyPrices2_ref,backwardHours,slope1,int1,slope2,int2):\n",
    "    \n",
    "    import numpy as np\n",
    "    from scipy import interpolate\n",
    "    from sklearn import linear_model\n",
    "    from scipy.interpolate import interp1d\n",
    "    \"\"\"\n",
    "    tck1 = interpolate.splrep(buyTimes1, buyPrices1, s=0)\n",
    "    tck2 = interpolate.splrep(buyTimes2, buyPrices2, s=0)\n",
    "    tck3 = interpolate.splrep(sellTimes2, sellPrices2, s=0)\n",
    "    buy_1_sync = interpolate.splev(sellTimes1, tck1, der=0)\n",
    "    buy_2_sync = interpolate.splev(sellTimes1, tck2, der=0)\n",
    "    sell_2_sync = interpolate.splev(sellTimes1, tck3, der=0)\n",
    "    \"\"\"\n",
    "    leftPoint = max([buyTimes1[0],buyTimes2[0],sellTimes2[0],sellTimes1[0]])\n",
    "    rightPoint = min([buyTimes1[-1],buyTimes2[-1],sellTimes2[-1],sellTimes1[-1]])\n",
    "    trade_timeline = sellTimes1[(sellTimes1 > leftPoint) & (sellTimes1 < rightPoint)]\n",
    "    \n",
    "    f1 = interp1d(buyTimes1, buyPrices1)\n",
    "    f2 = interp1d(buyTimes2, buyPrices2)\n",
    "    f3 = interp1d(sellTimes2, sellPrices2)\n",
    "    f4 = interp1d(sellTimes1, sellPrices1)\n",
    "    buy_1_sync = f1(trade_timeline)\n",
    "    buy_2_sync = f2(trade_timeline)\n",
    "    sell_2_sync = f3(trade_timeline)\n",
    "    sell_1_sync = f4(trade_timeline)\n",
    "    \n",
    "    leftPoint_ref = max([buyTimes1_ref[0],buyTimes2_ref[0],sellTimes2_ref[0],sellTimes1_ref[0]])\n",
    "    rightPoint_ref = min([buyTimes1_ref[-1],buyTimes2_ref[-1],sellTimes2_ref[-1],sellTimes1_ref[-1]])\n",
    "    time_ref = sellTimes1_ref[(sellTimes1_ref > leftPoint_ref) & (sellTimes1_ref < rightPoint_ref)]\n",
    "    \n",
    "    \"\"\"       \n",
    "    tck1_ref = interpolate.splrep(buyTimes1_ref, buyPrices1_ref, s=0)\n",
    "    tck2_ref = interpolate.splrep(buyTimes2_ref, buyPrices2_ref, s=0)\n",
    "    tck3_ref = interpolate.splrep(sellTimes2_ref, sellPrices2_ref, s=0)\n",
    "    buy_1_ref_sync = interpolate.splev(time_ref, tck1_ref, der=0)\n",
    "    buy_2_ref_sync = interpolate.splev(time_ref, tck2_ref, der=0)\n",
    "    sell_2_ref_sync = interpolate.splev(time_ref, tck3_ref, der=0)\n",
    "    \"\"\"\n",
    "    g1 = interp1d(buyTimes1_ref, buyPrices1_ref)\n",
    "    g2 = interp1d(buyTimes2_ref, buyPrices2_ref)\n",
    "    g3 = interp1d(sellTimes2_ref, sellPrices2_ref)\n",
    "    g4 = interp1d(sellTimes1_ref, sellPrices1_ref)\n",
    "    \n",
    "    buy_1_ref_sync = g1(time_ref)\n",
    "    buy_2_ref_sync = g2(time_ref)\n",
    "    sell_2_ref_sync = g3(time_ref)\n",
    "    sell_1_ref_sync = g4(time_ref)\n",
    "    \n",
    "    zScore1 = np.zeros(len(trade_timeline)) \n",
    "    zScore2 = np.zeros(len(trade_timeline)) \n",
    "    \n",
    "    import time\n",
    "    startTime = time.time()\n",
    "    time0 = trade_timeline[0]\n",
    "    count = 0\n",
    "    calcFlag = True\n",
    "    for ii in range(0,len(zScore1)):\n",
    "        if ii == 10**4:\n",
    "            endTime = time.time()\n",
    "            # print(endTime-startTime)\n",
    "            # break\n",
    "        currentTime = trade_timeline[ii]\n",
    "        if (calcFlag == True):\n",
    "            count = count + 1\n",
    "            calcFlag = False\n",
    "            sellPrices1_past = sell_1_ref_sync[time_ref < currentTime]\n",
    "            buyPrices2_past = buy_2_ref_sync[time_ref < currentTime]\n",
    "            time_past = time_ref[time_ref < currentTime]\n",
    "           \n",
    "            time_filt = time_past - time_past[-1]\n",
    "\n",
    "            sellPrices1_past2 = sellPrices1_past[time_filt > -3600*backwardHours]\n",
    "            buyPrices2_past2 = buyPrices2_past[time_filt > -3600*backwardHours]\n",
    "            \n",
    "            standardDev_1 = np.std((slope1*sellPrices1_past2 + int1) - buyPrices2_past2)\n",
    "            meanHist_1 = np.mean((slope1*sellPrices1_past2 + int1) - buyPrices2_past2)\n",
    "\n",
    "            buyPrices1_past = buy_1_ref_sync[time_ref < currentTime]\n",
    "            sellPrices2_past = sell_2_ref_sync[time_ref < currentTime]\n",
    "\n",
    "            buyPrices1_past2 = buyPrices1_past[time_filt > -3600*backwardHours]\n",
    "            sellPrices2_past2 = sellPrices2_past[time_filt > -3600*backwardHours]\n",
    "\n",
    "            standardDev_2 = np.std((slope2*buyPrices1_past2 + int2) - sellPrices2_past2)\n",
    "            meanHist_2 = np.mean((slope2*buyPrices1_past2 + int2) - sellPrices2_past2)\n",
    "        else:\n",
    "            if (currentTime - time0 > 1*60*count):\n",
    "                calcFlag = True\n",
    "       \n",
    "        zScore1[ii] = (((slope1*sell_1_sync[ii] + int1) - buy_2_sync[ii]) - meanHist_1)/standardDev_1\n",
    "        zScore2[ii] = (((slope2*buy_1_sync[ii] + int2) - sell_2_sync[ii]) - meanHist_2)/standardDev_2\n",
    "        \"\"\"\n",
    "        if (abs(zScore1[ii]) > 10) | (abs(zScore2[ii]) > 10):\n",
    "            print(len(buyPrices1_past2))\n",
    "            print(currentTime)\n",
    "            print(time_past[-10:-1])\n",
    "            print(currentTime - 3600*backwardHours)\n",
    "        \"\"\"\n",
    "            \n",
    "    return zScore1, zScore2, trade_timeline, sell_1_sync, buy_1_sync, buy_2_sync, sell_2_sync "
   ]
  },
  {
   "cell_type": "code",
   "execution_count": 11,
   "metadata": {
    "collapsed": false
   },
   "outputs": [],
   "source": [
    "def pairs_trade(timeLine,sellPrices1,buyPrices1,sellPrices2,buyPrices2,zScore_1,zScore_2,trade_cutoff):\n",
    "    import numpy as np\n",
    "    bank1 = 10**4\n",
    "    bank2 = 10**4\n",
    "    coins1 = 0\n",
    "    coins2 = 0\n",
    "\n",
    "    bankTracker1 = [bank1]\n",
    "    coinTracker1 = [coins1]\n",
    "    naiveWorthTracker1 = [bank1 + coins1*buyPrices1[0]]\n",
    "\n",
    "    bankTracker2 = [bank2]\n",
    "    coinTracker2 = [coins2]\n",
    "    naiveWorthTracker2 = [bank2 + coins2*buyPrices2[0]]\n",
    "\n",
    "    zScoreTracker_1 = []\n",
    "    zScoreTracker_2 = []\n",
    "    cashOutTimes = []\n",
    "    cashOut1 = []\n",
    "    cashOut2 = []\n",
    "    cashOutz1 = []\n",
    "    cashOutz2 = []\n",
    "    \n",
    "    extremeFlag = 0\n",
    "    betSize = 1\n",
    "    \n",
    "    for ii in range(0,len(timeLine)):\n",
    "        \n",
    "        currentTime = timeLine[ii]\n",
    "        sellP1 = sellPrices1[ii]\n",
    "        sellP2 = sellPrices2[ii]\n",
    "        buyP1 = buyPrices1[ii]\n",
    "        buyP2 = buyPrices2[ii]\n",
    "\n",
    "        if zScore_1[ii] < -trade_cutoff:\n",
    "            bank2 = bank2 + betSize*buyP2\n",
    "            coins2 = coins2 - betSize\n",
    "            bank1 = bank1 - betSize*sellP1\n",
    "            coins1 = coins1 + betSize\n",
    "            extremeFlag = 1\n",
    "        if zScore_2[ii] > trade_cutoff:\n",
    "            bank1 = bank1 + betSize*buyP1\n",
    "            coins1 = coins1 - betSize\n",
    "            bank2 = bank2 - betSize*sellP2\n",
    "            coins2 = coins2 + betSize\n",
    "            extremeFlag = 1\n",
    "        if (abs(zScore_1[ii]) < .5) & (abs(zScore_2[ii]) < .5):\n",
    "        \n",
    "            if extremeFlag == 1:\n",
    "                cashOutTimes.append(currentTime)\n",
    "                if coins1 > 0:\n",
    "                    bank1 = bank1 + coins1*buyP1\n",
    "                    bank1 = bank1 - 0.002*coins1*buyP1\n",
    "                else:\n",
    "                    bank1 = bank1 + coins1*sellP1\n",
    "                    bank1 = bank1 + 0.002*coins1*sellP1\n",
    "                if coins2 > 0:\n",
    "                    bank2 = bank2 + coins2*buyP2\n",
    "                    bank2 = bank2 - 0.002*coins2*buyP2\n",
    "                else:\n",
    "                    bank2 = bank2 + coins2*sellP2 \n",
    "                    bank2 = bank2 + 0.002*coins2*sellP2\n",
    "                coins1 = 0\n",
    "                coins2 = 0\n",
    "                extremeFlag = 0\n",
    "                cashOut1.append(bank1)\n",
    "                cashOut2.append(bank2)\n",
    "                cashOutz1.append(zScore_1[ii])\n",
    "                cashOutz2.append(zScore_2[ii])\n",
    "                \n",
    "        bankTracker1.append(bank1)\n",
    "        coinTracker1.append(coins1)\n",
    "        naiveWorthTracker1.append(10**4 + 10*buyP1)\n",
    "\n",
    "        bankTracker2.append(bank2)\n",
    "        coinTracker2.append(coins2)\n",
    "        naiveWorthTracker2.append(10**4 + 10*buyP2)\n",
    "\n",
    "    bankTracker1 = np.array(bankTracker1)\n",
    "    coinTracker1 = np.array(coinTracker1)\n",
    "    naiveWorthTracker1 = np.array(naiveWorthTracker1)\n",
    "\n",
    "    bankTracker2 = np.array(bankTracker2)\n",
    "    coinTracker2 = np.array(coinTracker2)\n",
    "    naiveWorthTracker2 = np.array(naiveWorthTracker2)\n",
    "    cashOutTimes = np.array(cashOutTimes)\n",
    "    cashOut1 = np.array(cashOut1)\n",
    "    cashOut2 = np.array(cashOut2)\n",
    "    cashOutz1 = np.array(cashOutz1)\n",
    "    cashOutz2 = np.array(cashOutz2)\n",
    "    \n",
    "    return bankTracker1, naiveWorthTracker1, bankTracker2, naiveWorthTracker2, coinTracker1, coinTracker2, cashOutTimes, cashOut1, cashOut2, cashOutz1, cashOutz2"
   ]
  },
  {
   "cell_type": "code",
   "execution_count": 12,
   "metadata": {
    "collapsed": false
   },
   "outputs": [],
   "source": [
    "def plotReturn(timeLine,bankTracker1,naiveWorthTracker1,bankTracker2,naiveWorthTracker2,startTime,cashOutTimes,cashOutBank,label1,label2):\n",
    "    import numpy as np\n",
    "    fig, ax = plt.subplots()\n",
    "    #ax.plot(timeLine,bankTracker1[1:],'g-',label=label1+' Portfolio Pairs Trading')\n",
    "    #ax.plot(timeLine,10**4*np.ones(len(naiveWorthTracker1[1:])),'r-',label=u'Portfolio Inactive')\n",
    "    #ax.plot(timeLine,bankTracker2[1:],'b-',label=label2+' Portfolio Pairs Trading')\n",
    "    ax.plot(timeLine,bankTracker1[1:]+bankTracker2[1:],'c-',label=u'Total Portfolio Pairs Trading')\n",
    "    ax.plot(timeLine,2*10**4*np.ones(len(naiveWorthTracker1[1:])),'y-',label=u'Total Inactive Trading')\n",
    "    ax.plot(cashOutTimes,cashOutBank,'g*',label=u'Pairs Trading Cash Out')\n",
    "    plt.show()\n",
    "    labels = []\n",
    "    for ii in range(0,len(ax.get_xticklabels())):\n",
    "        if ax.get_xticklabels()[ii].get_text() != '':\n",
    "            timeInc = int(ax.get_xticklabels()[ii].get_text())\n",
    "            dhms = DHMS(timeInc)\n",
    "            step = dt.timedelta(days = dhms[0],hours = dhms[1],minutes = dhms[2],seconds = dhms[3]) \n",
    "            currentLabel = startTime + step\n",
    "            labels.append(currentLabel.strftime('%Y:%m:%d:%H:%M:%S'))\n",
    "        else:\n",
    "            labels.append(ax.get_xticklabels()[ii].get_text())\n",
    "    fig, ax = plt.subplots()\n",
    "    #ax.plot(timeLine,bankTracker1[1:],'g-',label=label1+' Portfolio Pairs Trading')\n",
    "    #ax.plot(timeLine,10**4*np.ones(len(naiveWorthTracker1[1:])),'r-',label=u'Portfolio Inactive')\n",
    "    #ax.plot(timeLine,bankTracker2[1:],'b-',label=label2+' Portfolio Pairs Trading')\n",
    "    ax.plot(timeLine,bankTracker1[1:]+bankTracker2[1:],'c-',label=u'Total Portfolio Pairs Trading')\n",
    "    ax.plot(timeLine,2*10**4*np.ones(len(naiveWorthTracker1[1:])),'y-',label=u'Total Inactive Trading')\n",
    "    ax.plot(cashOutTimes,cashOutBank,'g*',label=u'Pairs Trading Cash Out')\n",
    "    ax.set_xticklabels(labels)\n",
    "    plt.xlabel('Time')\n",
    "    plt.ylabel('Account Value')\n",
    "    plt.title(label1+' and '+label2+' Pairs Trading')\n",
    "    plt.legend(loc = 0)\n",
    "    plt.show()"
   ]
  },
  {
   "cell_type": "code",
   "execution_count": 13,
   "metadata": {
    "collapsed": false
   },
   "outputs": [
    {
     "name": "stdout",
     "output_type": "stream",
     "text": [
      "<class 'str'>\n"
     ]
    }
   ],
   "source": [
    "rows1 = getRows('huobi',20*10**6,24*10**6)"
   ]
  },
  {
   "cell_type": "code",
   "execution_count": 14,
   "metadata": {
    "collapsed": false
   },
   "outputs": [
    {
     "data": {
      "text/plain": [
       "4000000"
      ]
     },
     "execution_count": 14,
     "metadata": {},
     "output_type": "execute_result"
    }
   ],
   "source": [
    "len(rows1)"
   ]
  },
  {
   "cell_type": "code",
   "execution_count": 15,
   "metadata": {
    "collapsed": false
   },
   "outputs": [
    {
     "name": "stdout",
     "output_type": "stream",
     "text": [
      "<class 'str'>\n"
     ]
    }
   ],
   "source": [
    "rows2 = getRows('okcoin',0,4*10**6)"
   ]
  },
  {
   "cell_type": "code",
   "execution_count": 16,
   "metadata": {
    "collapsed": false
   },
   "outputs": [
    {
     "name": "stdout",
     "output_type": "stream",
     "text": [
      "2013-12-31 15:25:23\n"
     ]
    }
   ],
   "source": [
    "print(getStartTime(rows1[0]))"
   ]
  },
  {
   "cell_type": "code",
   "execution_count": 17,
   "metadata": {
    "collapsed": false
   },
   "outputs": [
    {
     "name": "stdout",
     "output_type": "stream",
     "text": [
      "2014-01-01 21:59:52\n"
     ]
    }
   ],
   "source": [
    "print(getStartTime(rows2[0]))"
   ]
  },
  {
   "cell_type": "code",
   "execution_count": 18,
   "metadata": {
    "collapsed": false
   },
   "outputs": [],
   "source": [
    "startTime = getStartTime(rows1[0])\n",
    "times1 = getTimes(rows1,startTime)\n",
    "times2 = getTimes(rows2,startTime)\n",
    "buyPrices1, sellPrices1, buyTimes1, sellTimes1, buyQuantity1, buyLevels1, sellQuantity1, sellLevels1 = extractTickData(rows1,times1)\n",
    "buyPrices2, sellPrices2, buyTimes2, sellTimes2, buyQuantity2, buyLevels2, sellQuantity2, sellLevels2 = extractTickData(rows2,times2)"
   ]
  },
  {
   "cell_type": "code",
   "execution_count": 19,
   "metadata": {
    "collapsed": false
   },
   "outputs": [],
   "source": [
    "plotTimes(sellTimes1,sellPrices1,buyTimes1,buyPrices1,sellTimes2,sellPrices2,buyTimes2,buyPrices2,'huobi','okcoin',startTime)"
   ]
  },
  {
   "cell_type": "code",
   "execution_count": 20,
   "metadata": {
    "collapsed": false
   },
   "outputs": [],
   "source": [
    "import datetime as dt\n",
    "startCutoff = dt.datetime(2014,1,2,10,0,0) - startTime\n",
    "startCutOffSeconds = startCutoff.days*(24*3600) + startCutoff.seconds\n",
    "trainCutoff = dt.datetime(2014,1,2,23,0,0) - startTime\n",
    "trainCutoffSeconds = trainCutoff.days*(24*3600) + trainCutoff.seconds\n",
    "endCutoff = dt.datetime(2014,1,4,2,0,0) - startTime\n",
    "endCutoffSeconds = endCutoff.days*(24*3600) + endCutoff.seconds"
   ]
  },
  {
   "cell_type": "code",
   "execution_count": 21,
   "metadata": {
    "collapsed": false
   },
   "outputs": [],
   "source": [
    "buyPrices1_train = timeFilterData(buyPrices1,buyTimes1,startCutOffSeconds,trainCutoffSeconds)\n",
    "sellPrices1_train = timeFilterData(sellPrices1,sellTimes1,startCutOffSeconds,trainCutoffSeconds)\n",
    "buyTimes1_train = timeFilterData(buyTimes1,buyTimes1,startCutOffSeconds,trainCutoffSeconds)\n",
    "sellTimes1_train = timeFilterData(sellTimes1,sellTimes1,startCutOffSeconds,trainCutoffSeconds)\n",
    "buyQuantity1_train = timeFilterData(buyQuantity1,buyTimes1,startCutOffSeconds,trainCutoffSeconds)\n",
    "buyLevels1_train = timeFilterData(buyLevels1,buyTimes1,startCutOffSeconds,trainCutoffSeconds)\n",
    "sellQuantity1_train = timeFilterData(sellQuantity1,sellTimes1,startCutOffSeconds,trainCutoffSeconds)\n",
    "sellLevels1_train = timeFilterData(sellLevels1,sellTimes1,startCutOffSeconds,trainCutoffSeconds)\n",
    "\n",
    "buyPrices2_train = timeFilterData(buyPrices2,buyTimes2,startCutOffSeconds,trainCutoffSeconds)\n",
    "sellPrices2_train = timeFilterData(sellPrices2,sellTimes2,startCutOffSeconds,trainCutoffSeconds)\n",
    "buyTimes2_train = timeFilterData(buyTimes2,buyTimes2,startCutOffSeconds,trainCutoffSeconds)\n",
    "sellTimes2_train = timeFilterData(sellTimes2,sellTimes2,startCutOffSeconds,trainCutoffSeconds)\n",
    "buyQuantity2_train = timeFilterData(buyQuantity2,buyTimes2,startCutOffSeconds,trainCutoffSeconds)\n",
    "buyLevels2_train = timeFilterData(buyLevels2,buyTimes2,startCutOffSeconds,trainCutoffSeconds)\n",
    "sellQuantity2_train = timeFilterData(sellQuantity2,sellTimes2,startCutOffSeconds,trainCutoffSeconds)\n",
    "sellLevels2_train = timeFilterData(sellLevels2,sellTimes2,startCutOffSeconds,trainCutoffSeconds)\n",
    "\n",
    "buyPrices1_trade = timeFilterData(buyPrices1,buyTimes1,trainCutoffSeconds,endCutoffSeconds)\n",
    "sellPrices1_trade = timeFilterData(sellPrices1,sellTimes1,trainCutoffSeconds,endCutoffSeconds)\n",
    "buyTimes1_trade = timeFilterData(buyTimes1,buyTimes1,trainCutoffSeconds,endCutoffSeconds)\n",
    "sellTimes1_trade = timeFilterData(sellTimes1,sellTimes1,trainCutoffSeconds,endCutoffSeconds)\n",
    "buyQuantity1_trade = timeFilterData(buyQuantity1,buyTimes1,trainCutoffSeconds,endCutoffSeconds)\n",
    "buyLevels1_trade = timeFilterData(buyLevels1,buyTimes1,trainCutoffSeconds,endCutoffSeconds)\n",
    "sellQuantity1_trade = timeFilterData(sellQuantity1,sellTimes1,trainCutoffSeconds,endCutoffSeconds)\n",
    "sellLevels1_trade = timeFilterData(sellLevels1,sellTimes1,trainCutoffSeconds,endCutoffSeconds)\n",
    "\n",
    "buyPrices2_trade = timeFilterData(buyPrices2,buyTimes2,trainCutoffSeconds,endCutoffSeconds)\n",
    "sellPrices2_trade = timeFilterData(sellPrices2,sellTimes2,trainCutoffSeconds,endCutoffSeconds)\n",
    "buyTimes2_trade = timeFilterData(buyTimes2,buyTimes2,trainCutoffSeconds,endCutoffSeconds)\n",
    "sellTimes2_trade = timeFilterData(sellTimes2,sellTimes2,trainCutoffSeconds,endCutoffSeconds)\n",
    "buyQuantity2_trade = timeFilterData(buyQuantity2,buyTimes2,trainCutoffSeconds,endCutoffSeconds)\n",
    "buyLevels2_trade = timeFilterData(buyLevels2,buyTimes2,trainCutoffSeconds,endCutoffSeconds)\n",
    "sellQuantity2_trade = timeFilterData(sellQuantity2,sellTimes2,trainCutoffSeconds,endCutoffSeconds)\n",
    "sellLevels2_trade = timeFilterData(sellLevels2,sellTimes2,trainCutoffSeconds,endCutoffSeconds)"
   ]
  },
  {
   "cell_type": "code",
   "execution_count": 22,
   "metadata": {
    "collapsed": false
   },
   "outputs": [],
   "source": [
    "sellTimes1_train =  sellTimes1_train[sellLevels1_train == 1]\n",
    "sellPrices1_train = sellPrices1_train[sellLevels1_train == 1]\n",
    "buyTimes1_train = buyTimes1_train[buyLevels1_train == 1]\n",
    "buyPrices1_train = buyPrices1_train[buyLevels1_train == 1]\n",
    "sellTimes2_train = sellTimes2_train[sellLevels2_train == 1]\n",
    "sellPrices2_train = sellPrices2_train[sellLevels2_train == 1]\n",
    "buyTimes2_train = buyTimes2_train[buyLevels2_train == 1]\n",
    "buyPrices2_train = buyPrices2_train[buyLevels2_train == 1]\n",
    "slopeToUse_1, interceptToUse_1, slopeToUse_2, interceptToUse_2, buyPrices1_train_syn, buyPrices2_train_sync, sellPrices2_train_sync = trainData(sellTimes1_train, sellPrices1_train, buyTimes1_train, buyPrices1_train, sellTimes2_train, sellPrices2_train, buyTimes2_train, buyPrices2_train)"
   ]
  },
  {
   "cell_type": "code",
   "execution_count": 23,
   "metadata": {
    "collapsed": false
   },
   "outputs": [
    {
     "data": {
      "text/plain": [
       "array([ 0.92720093])"
      ]
     },
     "execution_count": 23,
     "metadata": {},
     "output_type": "execute_result"
    }
   ],
   "source": [
    "slopeToUse_1"
   ]
  },
  {
   "cell_type": "code",
   "execution_count": 24,
   "metadata": {
    "collapsed": false
   },
   "outputs": [
    {
     "data": {
      "text/plain": [
       "317.69723545358011"
      ]
     },
     "execution_count": 24,
     "metadata": {},
     "output_type": "execute_result"
    }
   ],
   "source": [
    "interceptToUse_1"
   ]
  },
  {
   "cell_type": "code",
   "execution_count": 25,
   "metadata": {
    "collapsed": false
   },
   "outputs": [
    {
     "data": {
      "text/plain": [
       "array([ 0.92795483])"
      ]
     },
     "execution_count": 25,
     "metadata": {},
     "output_type": "execute_result"
    }
   ],
   "source": [
    "slopeToUse_2"
   ]
  },
  {
   "cell_type": "code",
   "execution_count": 26,
   "metadata": {
    "collapsed": false
   },
   "outputs": [
    {
     "data": {
      "text/plain": [
       "320.53174772890725"
      ]
     },
     "execution_count": 26,
     "metadata": {},
     "output_type": "execute_result"
    }
   ],
   "source": [
    "interceptToUse_2"
   ]
  },
  {
   "cell_type": "code",
   "execution_count": 27,
   "metadata": {
    "collapsed": false
   },
   "outputs": [],
   "source": [
    "import matplotlib.pyplot as plt\n",
    "plt.plot(sellPrices1_train,buyPrices2_train_sync,'b.')\n",
    "plt.plot(sellPrices1_train,slopeToUse_1*sellPrices1_train + interceptToUse_1,'r')\n",
    "plt.xlabel('Huobi sell prices')\n",
    "plt.ylabel('Okcoin sell prices')\n",
    "plt.title('Best Fit Parameters')\n",
    "plt.show()"
   ]
  },
  {
   "cell_type": "code",
   "execution_count": 28,
   "metadata": {
    "collapsed": false
   },
   "outputs": [],
   "source": [
    "buyPrices1_trade = buyPrices1_trade[buyLevels1_trade == 1]\n",
    "sellPrices1_trade = sellPrices1_trade[sellLevels1_trade == 1]\n",
    "buyTimes1_trade = buyTimes1_trade[buyLevels1_trade == 1]\n",
    "sellTimes1_trade = sellTimes1_trade[sellLevels1_trade == 1]\n",
    "\n",
    "buyPrices1_ref = buyPrices1[buyLevels1 == 1]\n",
    "sellPrices1_ref = sellPrices1[sellLevels1 == 1]\n",
    "buyTimes1_ref = buyTimes1[buyLevels1 == 1]\n",
    "sellTimes1_ref = sellTimes1[sellLevels1 == 1]\n",
    "\n",
    "buyPrices2_trade = buyPrices2_trade[buyLevels2_trade == 1]\n",
    "sellPrices2_trade = sellPrices2_trade[sellLevels2_trade == 1]\n",
    "buyTimes2_trade = buyTimes2_trade[buyLevels2_trade == 1]\n",
    "sellTimes2_trade = sellTimes2_trade[sellLevels2_trade == 1]\n",
    "\n",
    "buyPrices2_ref = buyPrices2[buyLevels2 == 1]\n",
    "sellPrices2_ref = sellPrices2[sellLevels2 == 1]\n",
    "buyTimes2_ref = buyTimes2[buyLevels2 == 1]\n",
    "sellTimes2_ref = sellTimes2[sellLevels2 == 1]"
   ]
  },
  {
   "cell_type": "code",
   "execution_count": 29,
   "metadata": {
    "collapsed": true
   },
   "outputs": [],
   "source": [
    "plt.plot(buyPrices2_trade)\n",
    "plt.show()"
   ]
  },
  {
   "cell_type": "code",
   "execution_count": 30,
   "metadata": {
    "collapsed": true
   },
   "outputs": [],
   "source": [
    "def shallowCopy(array):              # Create shallow copies for arrays to prevent different variables from pointing to the same\n",
    "    if len(array.shape) > 1:         # memory location\n",
    "        newArray = np.zeros((array.shape[0],array.shape[1]))\n",
    "        for ii in range(0,array.shape[0]):\n",
    "            for jj in range(0,array.shape[1]):\n",
    "                newArray[ii,jj] = array[ii,jj]\n",
    "    else:\n",
    "        newArray = np.zeros(len(array))\n",
    "        for ii in range(0,len(array)):\n",
    "            newArray[ii] = array[ii]\n",
    "    return newArray"
   ]
  },
  {
   "cell_type": "code",
   "execution_count": 31,
   "metadata": {
    "collapsed": true
   },
   "outputs": [],
   "source": [
    "def kmeans(data,K):\n",
    "    N = data.shape[1]\n",
    "    D = data.shape[0]\n",
    "    responsibilities = np.zeros((K,N))\n",
    "    for ii in range(0,N):\n",
    "        u = np.random.uniform(0,1)\n",
    "        init = np.floor(u*K)\n",
    "        responsibilities[init,ii] = 1\n",
    "    oldResp = np.zeros((K,N))\n",
    "    objectiveStream = []\n",
    "    while sum(abs(responsibilities.flatten() - oldResp.flatten())) > 0:\n",
    "        meansK = np.zeros((D,K))\n",
    "        nK = np.zeros(K)\n",
    "        for ii in range(0,K):\n",
    "            nK[ii] = sum(responsibilities[ii,:])\n",
    "            for jj in range(0,N):\n",
    "                meansK[:,ii] = meansK[:,ii] + responsibilities[ii,jj]*data[:,jj]\n",
    "            if nK[ii] > 0:\n",
    "                meansK[:,ii] = meansK[:,ii]/nK[ii]\n",
    "            else:\n",
    "                u = np.random.uniform(0,1)\n",
    "                pickInd = int(np.floor(u*N))\n",
    "                meansK[:,ii] = data[:,pickInd]\n",
    "        oldResp = shallowCopy(responsibilities)\n",
    "        responsibilities = np.zeros((K,N))\n",
    "        respVec = np.zeros(N)\n",
    "        objectiveValue = 0\n",
    "        objectiveVec = np.zeros(N)\n",
    "        for ii in range(0,N):\n",
    "            minAssignment = 0\n",
    "            minDistance = np.sqrt(sum((data[:,ii]-meansK[:,0])**2))\n",
    "            for jj in range(1,K):\n",
    "                cDistance = np.sqrt(sum((data[:,ii]-meansK[:,jj])**2))\n",
    "                if cDistance < minDistance:\n",
    "                    minDistance = cDistance\n",
    "                    minAssignment = jj\n",
    "            responsibilities[minAssignment,ii] = 1\n",
    "            respVec[ii] = minAssignment\n",
    "            objectiveValue = objectiveValue + minDistance\n",
    "            objectiveVec[ii] = minDistance\n",
    "        objectiveStream.append(objectiveValue)\n",
    "        # print(\"Objective Value is: %f\" % objectiveValue)\n",
    "    return responsibilities, respVec, meansK, objectiveValue, objectiveVec, np.array(objectiveStream)"
   ]
  },
  {
   "cell_type": "code",
   "execution_count": 32,
   "metadata": {
    "collapsed": true
   },
   "outputs": [],
   "source": [
    "def kmeansPlus(data,K):\n",
    "    N = data.shape[1]\n",
    "    D = data.shape[0]\n",
    "    responsibilities = np.zeros((K,N))\n",
    "    meansInit = np.zeros((D,K))\n",
    "    u = np.random.uniform(0,1)\n",
    "    randInd = np.floor(u*N)\n",
    "    meansInit[:,0] = data[:,randInd]\n",
    "    minDist = np.zeros(N)\n",
    "    for kk in range(1,K):\n",
    "        for ii in range(0,N):\n",
    "            minDist[ii] = np.sqrt(sum((data[:,ii]-meansInit[:,0])**2))\n",
    "            for jj in range(0,kk-1):\n",
    "                currentDist = np.sqrt(sum((data[:,ii]-meansInit[:,jj])**2))\n",
    "                if currentDist < minDist[ii]:\n",
    "                    minDist[ii] = currentDist\n",
    "        wDist = (minDist**2)/sum(minDist**2)\n",
    "        resultArray = np.random.multinomial(1, list(wDist), size=1)\n",
    "        for dd in range(0,N):\n",
    "            if resultArray[0][dd] == 1:\n",
    "                chosenInd = dd\n",
    "        meansInit[:,kk] = data[:,chosenInd]\n",
    "    for ii in range(0,N):\n",
    "        minAssignment = 0\n",
    "        minDistance = np.sqrt(sum((data[:,ii]-meansInit[:,0])**2))\n",
    "        for jj in range(1,K):\n",
    "            cDistance = np.sqrt(sum((data[:,ii]-meansInit[:,jj])**2))\n",
    "            if cDistance < minDistance:\n",
    "                minDistance = cDistance\n",
    "                minAssignment = jj\n",
    "        responsibilities[minAssignment,ii] = 1\n",
    "            \n",
    "    oldResp = np.zeros((K,N))\n",
    "    objectiveStream = []\n",
    "    while sum(abs(responsibilities.flatten() - oldResp.flatten())) > 0:\n",
    "        meansK = np.zeros((D,K))\n",
    "        nK = np.zeros(K)\n",
    "        for ii in range(0,K):\n",
    "            nK[ii] = sum(responsibilities[ii,:])\n",
    "            for jj in range(0,N):\n",
    "                meansK[:,ii] = meansK[:,ii] + responsibilities[ii,jj]*data[:,jj]\n",
    "            if nK[ii] > 0:\n",
    "                meansK[:,ii] = meansK[:,ii]/nK[ii]\n",
    "            else:\n",
    "                u = np.random.uniform(0,1)\n",
    "                pickInd = int(np.floor(u*N))\n",
    "                meansK[:,ii] = data[:,pickInd]\n",
    "        oldResp = shallowCopy(responsibilities)\n",
    "        responsibilities = np.zeros((K,N))\n",
    "        respVec = np.zeros(N)\n",
    "        objectiveValue = 0\n",
    "        objectiveVec = np.zeros(N)\n",
    "        for ii in range(0,N):\n",
    "            minAssignment = 0\n",
    "            minDistance = np.sqrt(sum((data[:,ii]-meansK[:,0])**2))\n",
    "            for jj in range(1,K):\n",
    "                cDistance = np.sqrt(sum((data[:,ii]-meansK[:,jj])**2))\n",
    "                if cDistance < minDistance:\n",
    "                    minDistance = cDistance\n",
    "                    minAssignment = jj\n",
    "            responsibilities[minAssignment,ii] = 1\n",
    "            respVec[ii] = minAssignment\n",
    "            objectiveValue = objectiveValue + minDistance\n",
    "            objectiveVec[ii] = minDistance\n",
    "        objectiveStream.append(objectiveValue)\n",
    "        #print(\"Objective Value is: %f\" % objectiveValue)\n",
    "    return responsibilities, respVec, meansK, objectiveValue, objectiveVec, np.array(objectiveStream)"
   ]
  },
  {
   "cell_type": "code",
   "execution_count": 140,
   "metadata": {
    "collapsed": true
   },
   "outputs": [],
   "source": [
    "def getViterbiPath(prices,piVec,transitionMatrix,meanMatrix,varMatrix):\n",
    "    nStates = transitionMatrix.shape[0]\n",
    "    nTime = len(prices[0])\n",
    "    deltaMat = np.zeros((nStates,nTime))\n",
    "    psiMat = np.zeros((nStates,nTime-1))\n",
    "    viterbiPath = np.zeros(nTime)\n",
    "    for ii in range(0,nTime):\n",
    "        if ii == 0:\n",
    "            prob = normal(prices[0][ii],meanMatrix,np.sqrt(varMatrix))\n",
    "            deltaMat[:,ii] = np.log(piVec*prob)\n",
    "        else:\n",
    "            for jj in range(0,nStates):\n",
    "                deltaMat[jj,ii] = max(deltaMat[:,ii-1] + np.log(transitionMatrix[:,jj]))+ np.log(normal(prices[0][ii],meanMatrix[0,jj],np.sqrt(varMatrix[0,jj])))\n",
    "                psiMat[jj,ii-1] = np.argmax(deltaMat[:,ii-1]+np.log(transitionMatrix[:,jj]))\n",
    "        if all(deltaMat[:,ii] == -np.inf):\n",
    "            print(\"All -inf\")\n",
    "    viterbiPath[-1] = np.argmax(deltaMat[:,nTime-1])\n",
    "    for ii in range(2,nTime+1):\n",
    "        viterbiPath[-ii] = psiMat[viterbiPath[-ii+1],nTime-ii]\n",
    "    return viterbiPath"
   ]
  },
  {
   "cell_type": "code",
   "execution_count": 141,
   "metadata": {
    "collapsed": true
   },
   "outputs": [],
   "source": [
    "def getLogLik(prices,stateVec,piVec,transitionMatrix,meanMatrix,varMatrix):\n",
    "    logLik = 0\n",
    "    for ii in range(0,len(prices[0])):\n",
    "        logLik = logLik + np.log(normal(prices[0][ii],meanMatrix[0,stateVec[0][ii]],np.sqrt(varMatrix[0,stateVec[0][ii]])))\n",
    "        if ii == 0:\n",
    "            logLik = logLik + np.log(piVec[0,stateVec[0][ii]])\n",
    "        if ii < len(prices)-1:\n",
    "            logLik = logLik + np.log(transitionMatrix[stateVec[0][ii],stateVec[0][ii+1]])\n",
    "    return logLik"
   ]
  },
  {
   "cell_type": "code",
   "execution_count": 142,
   "metadata": {
    "collapsed": true
   },
   "outputs": [],
   "source": [
    "def trainDataHMM_0(prices, nStates, nComponents, logLikThresh):\n",
    "    nTime = len(prices[0])\n",
    "    \n",
    "    meanNumbers = np.random.uniform(0,1,nComponents*nStates)\n",
    "    varNumbers = np.random.uniform(0,1,nComponents*nStates)\n",
    "    transitionNumbers = np.random.uniform(0,1,nStates*nStates)\n",
    "    transitionMatrix = np.reshape(transitionNumbers,(nStates,nStates))\n",
    "    for ii in range(0,nStates):\n",
    "        transitionMatrix[ii,:] = np.copy(transitionMatrix[ii,:]/sum(transitionMatrix[ii,:]))\n",
    "    piNumbers = np.random.uniform(0,1,nStates)\n",
    "    piNumbers = np.copy(piNumbers/sum(piNumbers))\n",
    "    piVec = np.reshape(piNumbers,(1,nStates))\n",
    "    \n",
    "    meanMatrix = np.reshape(meanNumbers,(nComponents,nStates))\n",
    "    varMatrix = np.reshape(varNumbers,(nComponents,nStates))\n",
    "    \n",
    "    stateVec = getViterbiPath(prices,piVec,transitionMatrix, meanMatrix,varMatrix)\n",
    "    stateVec = np.reshape(stateVec,(1,len(stateVec)))\n",
    "\n",
    "    currentLogLik = getLogLik(prices,stateVec,piVec,transitionMatrix,meanMatrix,varMatrix)\n",
    "    likVec = [currentLogLik]\n",
    "    \n",
    "    print(\"Initial Log Lik is: \", currentLogLik)\n",
    "    print(\"Initial pi is: \", piVec)\n",
    "    print(\"Initial transition is: \", transitionMatrix)\n",
    "    print(\"Initial mean is: \", meanMatrix)\n",
    "    print(\"Initial var is: \", varMatrix)\n",
    "    print(\"Initial path is: \", stateVec)\n",
    "    \n",
    "    newLogLik = 10\n",
    "\n",
    "    while abs(newLogLik - currentLogLik) > logLikThresh:\n",
    "        viterbiPath = getViterbiPath(prices,piVec,transitionMatrix, meanMatrix,varMatrix)\n",
    "        viterbiPath = np.reshape(viterbiPath,(1,len(viterbiPath)))\n",
    "        intermediateLogLik = getLogLik(prices,viterbiPath,piVec,transitionMatrix,meanMatrix,varMatrix)\n",
    "        print(\"Intermediate log lik is: \",intermediateLogLik)\n",
    "        \n",
    "        meanMatrixNew = np.zeros((nComponents,nStates))\n",
    "        varMatrixNew = np.zeros((nComponents,nStates))\n",
    "        for ii in range(0,nStates):\n",
    "            nGroup = sum(sum(viterbiPath == ii))\n",
    "            if nGroup == 0:\n",
    "                print('empty cluster',ii)\n",
    "            dataCurrent = prices[0,viterbiPath == ii]\n",
    "            if nComponents > 1:\n",
    "                respMatS, stateVec, meansKS, objValueS, objVecS, ojbStreamS = kmeansPlus(dataCurrent,nComponents)\n",
    "                for jj in range(0,nComponents):\n",
    "                    meanMatrixNew[ii,jj] = np.mean(dataCurrent[stateVec == jj])\n",
    "                    varMatrixNew[ii,jj] = np.var(dataCurrent[stateVec == jj])   \n",
    "            else:\n",
    "                meanMatrixNew[0,ii] = np.mean(dataCurrent)\n",
    "                varMatrixNew[0,ii] = np.var(dataCurrent)\n",
    "     \n",
    "        newLogLik = getLogLik(prices,viterbiPath,piVec,transitionMatrix,meanMatrixNew,varMatrixNew)\n",
    "        \n",
    "        if newLogLik > currentLogLik:\n",
    "            likVec.append(newLogLik)\n",
    "            meanMatrix = np.copy(meanMatrixNew)\n",
    "            varMatrix = np.copy(varMatrixNew)\n",
    "            stateVec = np.copy(viterbiPath)\n",
    "            currentLogLik = newLogLik\n",
    "            \n",
    "            print(\"New Log Lik is: \", currentLogLik)\n",
    "            print(\"New mean is: \", meanMatrix)\n",
    "            print(\"New var is: \", varMatrix)\n",
    "            print(\"New path is: \", stateVec)\n",
    "        else:\n",
    "            print(\"Worse New Log Lik is: \", newLogLik)\n",
    "            print(\"Worse path is: \",viterbiPath)\n",
    "            break\n",
    "        \n",
    "       \n",
    "    return piVec, transitionMatrix, meanMatrix, varMatrix, likVec"
   ]
  },
  {
   "cell_type": "code",
   "execution_count": 143,
   "metadata": {
    "collapsed": false
   },
   "outputs": [],
   "source": [
    "def trainDataHMM(prices, nStates, nComponents, logLikThresh):\n",
    "    nTime = len(prices[0])\n",
    "    respMat, stateVec, meansK, objValue, objVec, ojbStream = kmeansPlus(prices,nStates)\n",
    "    stateVec = np.reshape(stateVec,(1,len(stateVec)))\n",
    "    meanMatrix = np.zeros((nComponents,nStates))\n",
    "    varMatrix = np.zeros((nComponents,nStates))\n",
    "    for ii in range(0,nStates):\n",
    "        nGroup = sum(stateVec[0] == ii)\n",
    "        if nGroup == 0:\n",
    "            print('initial empty cluster',ii)\n",
    "        dataCurrent = prices[0,stateVec[0] == ii]\n",
    "        if nComponents > 1:\n",
    "            respMatS, stateVecS, meansKS, objValueS, objVecS, ojbStreamS = kmeansPlus(dataCurrent,nComponents)\n",
    "            for jj in range(0,nComponents):\n",
    "                meanMatrix[ii,jj] = np.mean(dataCurrent[stateVecS[0] == jj])\n",
    "                varMatrix[ii,jj] = np.var(dataCurrent[stateVecS[0] == jj])\n",
    "        else:\n",
    "            meanMatrix[0,ii] = np.mean(dataCurrent)\n",
    "            varMatrix[0,ii] = np.var(dataCurrent)\n",
    "            \n",
    "    transitionMatrix = np.zeros((nStates,nStates))\n",
    "    for ii in range(0,nStates):\n",
    "        for jj in range(0,nStates):\n",
    "            den = 0\n",
    "            for kk in range(0,nTime-1):\n",
    "                if (stateVec[0,kk] == ii) & (stateVec[0,kk+1] == jj):\n",
    "                    transitionMatrix[ii,jj] = transitionMatrix[ii,jj] + 1\n",
    "                if stateVec[0,kk] == ii:\n",
    "                    den = den + 1\n",
    "            if den > 0:\n",
    "                transitionMatrix[ii,jj] = transitionMatrix[ii,jj]/den\n",
    "    \n",
    "    initialObs = prices[0][0]\n",
    "    invDist = 1/abs(meansK-initialObs)\n",
    "    piVec = invDist/sum(invDist[0])\n",
    "\n",
    "    currentLogLik = getLogLik(prices,stateVec,piVec,transitionMatrix,meanMatrix,varMatrix)\n",
    "    print(\"Initial Log Lik is: \", currentLogLik)\n",
    "    print(\"Initial pi is: \", piVec)\n",
    "    print(\"Initial transition is: \", transitionMatrix)\n",
    "    print(\"Initial mean is: \", meanMatrix)\n",
    "    print(\"Initial var is: \", varMatrix)\n",
    "    print(\"Initial path is: \", stateVec)\n",
    "    likVec = [currentLogLik]\n",
    "    \n",
    "    newLogLik = 10\n",
    "\n",
    "    while abs(newLogLik - currentLogLik) > logLikThresh:\n",
    "        viterbiPath = getViterbiPath(prices,piVec,transitionMatrix, meanMatrix,varMatrix)\n",
    "        viterbiPath = np.reshape(viterbiPath,(1,len(viterbiPath)))\n",
    "        intermediateLogLik = getLogLik(prices,viterbiPath,piVec,transitionMatrix,meanMatrix,varMatrix)\n",
    "        print(\"Intermediate log lik is: \",intermediateLogLik)\n",
    "        \n",
    "        meanMatrixNew = np.zeros((nComponents,nStates))\n",
    "        varMatrixNew = np.zeros((nComponents,nStates))\n",
    "        for ii in range(0,nStates):\n",
    "            nGroup = sum(viterbiPath[0] == ii)\n",
    "            if nGroup == 0:\n",
    "                print('empty cluster',ii)\n",
    "            dataCurrent = prices[0,viterbiPath[0] == ii]\n",
    "            if nComponents > 1:\n",
    "                respMatS, stateVec, meansKS, objValueS, objVecS, ojbStreamS = kmeansPlus(dataCurrent,nComponents)\n",
    "                for jj in range(0,nComponents):\n",
    "                    meanMatrixNew[ii,jj] = np.mean(dataCurrent[stateVec[0] == jj])\n",
    "                    varMatrixNew[ii,jj] = np.var(dataCurrent[stateVec[0] == jj])   \n",
    "            else:\n",
    "                meanMatrixNew[0,ii] = np.mean(dataCurrent)\n",
    "                varMatrixNew[0,ii] = np.var(dataCurrent)\n",
    "        transitionMatrixNew = np.zeros((nStates,nStates))\n",
    "      \n",
    "        for ii in range(0,nStates):\n",
    "            for jj in range(0,nStates):\n",
    "                den = 0\n",
    "                for kk in range(0,nTime-1):\n",
    "                    if (viterbiPath[0,kk] == ii) & (viterbiPath[0,kk+1] == jj):\n",
    "                        transitionMatrixNew[ii,jj] = transitionMatrixNew[ii,jj] + 1\n",
    "                    if viterbiPath[0,kk] == ii:\n",
    "                        den = den + 1\n",
    "                if den > 0:\n",
    "                    transitionMatrixNew[ii,jj] = transitionMatrixNew[ii,jj]/den\n",
    "        meansKNew = np.zeros((nComponents,nStates))\n",
    "        for ii in range(0,nStates):\n",
    "            meansKNew[0,ii] = np.mean(prices[0][viterbiPath[0] == ii])\n",
    "        invDistNew = 1/abs(meansKNew-initialObs)\n",
    "        piVecNew = invDistNew/sum(invDistNew[0])\n",
    "     \n",
    "        newLogLik = getLogLik(prices,viterbiPath,piVecNew,transitionMatrixNew,meanMatrixNew,varMatrixNew)\n",
    "        \n",
    "        if newLogLik > currentLogLik:\n",
    "            likVec.append(newLogLik)\n",
    "            piVec = np.copy(piVecNew)\n",
    "            transitionMatrix = np.copy(transitionMatrixNew)\n",
    "            meanMatrix = np.copy(meanMatrixNew)\n",
    "            varMatrix = np.copy(varMatrixNew)\n",
    "            stateVec = np.copy(viterbiPath)\n",
    "            currentLogLik = newLogLik\n",
    "            \n",
    "            print(\"New Log Lik is: \", currentLogLik)\n",
    "            print(\"New pi is: \", piVec)\n",
    "            print(\"New transition is: \", transitionMatrix)\n",
    "            print(\"New mean is: \", meanMatrix)\n",
    "            print(\"New var is: \", varMatrix)\n",
    "            print(\"New path is: \", stateVec)\n",
    "        else:\n",
    "            print(\"Worse Candidate Log Lik is: \", newLogLik)\n",
    "            print(\"Worse path is: \",viterbiPath)\n",
    "            break\n",
    "        \n",
    "    return piVec, transitionMatrix, meanMatrix, varMatrix, likVec"
   ]
  },
  {
   "cell_type": "code",
   "execution_count": 134,
   "metadata": {
    "collapsed": false
   },
   "outputs": [
    {
     "name": "stdout",
     "output_type": "stream",
     "text": [
      "Initial Log Lik is:  -47818.4456546\n",
      "Initial pi is:  [[ 0.82717119  0.17282881]]\n",
      "Initial transition is:  [[  9.98708567e-01   1.29143349e-03]\n",
      " [  9.34055670e-04   9.99065944e-01]]\n",
      "Initial mean is:  [[ 4613.39978261  4773.92842548]]\n",
      "Initial var is:  [[ 1064.24570901   674.40131144]]\n",
      "Initial path is:  [[ 0.  0.  0. ...,  1.  1.  1.]]\n",
      "[[ -5.43830125e+00  -1.06881512e+01  -1.59380011e+01 ...,  -4.77881852e+04\n",
      "   -4.77925072e+04  -4.77968276e+04]\n",
      " [ -3.64620476e+01  -4.67968976e+01  -5.20467475e+01 ...,  -4.77710288e+04\n",
      "   -4.77753492e+04  -4.77796696e+04]]\n",
      "Intermediate log lik is:  -47748.3558349\n",
      "New Log Lik is:  -47701.2432821\n",
      "New pi is:  [[ 0.82290649  0.17709351]]\n",
      "New transition is:  [[  9.99577435e-01   4.22564969e-04]\n",
      " [  1.89897455e-04   9.99810103e-01]]\n",
      "New mean is:  [[ 4614.94332981  4775.19297513]]\n",
      "New var is:  [[ 1172.0086501    587.04984714]]\n",
      "New path is:  [[ 0.  0.  0. ...,  1.  1.  1.]]\n"
     ]
    }
   ],
   "source": [
    "trainBuy = np.reshape(buyPrices2_trade[0:10**4],(1,10**4))\n",
    "piVec, transitionMatrix, meanMatrix, varMatrix, likVec = trainDataHMM(trainBuy, 2, 1, 0.1)"
   ]
  },
  {
   "cell_type": "code",
   "execution_count": 193,
   "metadata": {
    "collapsed": false
   },
   "outputs": [],
   "source": [
    "def getAlpha(currentWindow,nStates,piVec,transitionMatrix,meanMatrix,varMatrix):\n",
    "    \n",
    "    alphaMat = np.zeros((nStates,len(currentWindow)))\n",
    "    alphaMat[:,0] = piVec*normal(currentWindow[0],meanMatrix,np.sqrt(varMatrix))\n",
    "    alphaMat[:,0] = np.copy(alphaMat[:,0]/sum(alphaMat[:,0]))\n",
    "    if any(alphaMat[:,0] == 0):\n",
    "        print('zero prob exist')\n",
    "    alphaMatUnNorm = np.zeros((nStates,len(currentWindow)))\n",
    "    alphaMatUnNorm[:,0] = piVec*normal(currentWindow[0],meanMatrix,np.sqrt(varMatrix))\n",
    "   \n",
    "    #logAlpha = np.zeros((nStates,len(currentWindow)))\n",
    "    #logAlpha[:,0] = np.log(piVec*normal(currentWindow[0],meanMatrix,np.sqrt(varMatrix)))\n",
    "    \n",
    "    for iTime in range(1,len(currentWindow)):\n",
    "        #minLog = min(logAlpha[:,iTime-1])\n",
    "        #if math.isnan(minLog):\n",
    "            #print(\"nan at time: \", iTime-1)\n",
    "            #print(\"log alpha: \", logAlpha[:,iTime-1])\n",
    "        for iState in range(0,nStates):\n",
    "            alphaMat[iState,iTime] = sum(transitionMatrix[:,iState]*alphaMat[:,iTime-1])*normal(currentWindow[iTime],meanMatrix[0][iState],np.sqrt(varMatrix[0][iState]))\n",
    "            if math.isnan(alphaMat[iState,iTime]):\n",
    "                #print(\"nan alert: \",iTime)\n",
    "                #print(\"initial prob: \",piVec)\n",
    "                #print(\"mean vec: \",meanMatrix)\n",
    "                print(\"var vec: \",varMatrix)\n",
    "                #print(transitionMatrix[:,iState])\n",
    "                #print(alphaMat[:,iTime-1])\n",
    "                #print(normal(currentWindow[iTime],meanMatrix[0][iState],np.sqrt(varMatrix[0][iState])))\n",
    "            alphaMatUnNorm[iState,iTime] = sum(transitionMatrix[:,iState]*alphaMatUnNorm[:,iTime-1])*normal(currentWindow[iTime],meanMatrix[0][iState],np.sqrt(varMatrix[0][iState]))\n",
    "            #logAlpha[iState,iTime] = minLog + np.log(normal(currentWindow[iTime],meanMatrix[0][iState],np.sqrt(varMatrix[0][iState]))) + np.log(sum(transitionMatrix[:,iState]*np.exp(logAlpha[:,iTime-1]-minLog)))\n",
    "        if sum(alphaMat[:,iTime]) > 0:\n",
    "            alphaMat[:,iTime] = np.copy(alphaMat[:,iTime]/sum(alphaMat[:,iTime]))\n",
    "        else:\n",
    "            print('Divide by zero')\n",
    "    \n",
    "    #minLog = min(logAlpha[:,len(currentWindow)-1])\n",
    "    #logPObs = np.log(sum(np.exp(logAlpha[:,len(currentWindow)-1]-minLog))) + minLog\n",
    "    if sum(alphaMatUnNorm[:,len(currentWindow)-1]) == 0:\n",
    "        print(\"Zero Final Prob\")\n",
    "    logPObs = np.log(sum(alphaMatUnNorm[:,len(currentWindow)-1]))\n",
    "  \n",
    "    return alphaMat, logPObs"
   ]
  },
  {
   "cell_type": "code",
   "execution_count": 194,
   "metadata": {
    "collapsed": true
   },
   "outputs": [],
   "source": [
    "def getBeta(currentWindow,nStates,piVec,transitionMatrix,meanMatrix,varMatrix):\n",
    "    betaMat = np.ones((nStates,len(currentWindow)))\n",
    "    betaMat[:,-1] = np.copy(betaMat[:,-1]/sum(betaMat[:,-1]))\n",
    "    for iTime in range(2,len(currentWindow)+1):\n",
    "        for iState in range(0,nStates):\n",
    "            betaMat[iState,-iTime] = sum(betaMat[:,-iTime+1]*transitionMatrix[iState,:]*normal(currentWindow[-iTime+1],meanMatrix[0],np.sqrt(varMatrix[0])))\n",
    "        betaMat[:,-iTime] = np.copy(betaMat[:,-iTime]/sum(betaMat[:,-iTime]))\n",
    "    return betaMat"
   ]
  },
  {
   "cell_type": "code",
   "execution_count": 198,
   "metadata": {
    "collapsed": false
   },
   "outputs": [],
   "source": [
    "def tradeHMM(buyData, tradeStart, nStates, nComponents, piVec, transitionMatrix, meanMatrix, varMatrix, windowLength, threshold):\n",
    "    prediction = np.zeros(len(buyData[0])-tradeStart)\n",
    "    truth = np.zeros(len(buyData[0])-tradeStart)\n",
    "    # true end = len(buyData[0])-1\n",
    "    for uu in range(tradeStart,tradeStart+10):\n",
    "        pObsNew = 10\n",
    "        pObsCurrent = 0\n",
    "        currentWindow = buyData[0,uu-windowLength:uu]\n",
    "        pTracker = []\n",
    "        while pObsNew - pObsCurrent > threshold:\n",
    "                   \n",
    "            alphaCurrent,pObsCurrent = getAlpha(currentWindow,nStates,piVec,transitionMatrix,meanMatrix,varMatrix)\n",
    "            betaCurrent = getBeta(currentWindow,nStates,piVec,transitionMatrix,meanMatrix,varMatrix)\n",
    "            pTracker.append(pObsCurrent)\n",
    "            \n",
    "            gammaCurrent = np.zeros((nStates,windowLength))\n",
    "            for hh in range(0,windowLength):\n",
    "                gammaCurrent[:,hh] = alphaCurrent[:,hh]*betaCurrent[:,hh]/sum(alphaCurrent[:,hh]*betaCurrent[:,hh])\n",
    "                        \n",
    "            newTransitionMatrix = np.zeros((nStates,nStates))\n",
    "            originalGamma = np.zeros(nStates)\n",
    "            for ii in range(0,nStates):\n",
    "                originalGamma[ii] = sum(gammaCurrent[ii,0:windowLength-1])\n",
    "            compareGamma = np.zeros(nStates)\n",
    "            for ii in range(0,nStates):\n",
    "                for jj in range(0,nStates):\n",
    "                    for cc in range(0,windowLength-1):\n",
    "                        currentDen = 0\n",
    "                        for dd in range(0,nStates):\n",
    "                            for ee in range(0,nStates):\n",
    "                                currentDen = currentDen + alphaCurrent[dd,cc]*transitionMatrix[dd,ee]*normal(currentWindow[cc+1],meanMatrix[0][ee],np.sqrt(varMatrix[0][ee]))*betaCurrent[ee,cc+1]\n",
    "                        newTransitionMatrix[ii,jj] = newTransitionMatrix[ii,jj] + (alphaCurrent[ii,cc]*transitionMatrix[ii,jj]*normal(currentWindow[cc+1],meanMatrix[0][jj],np.sqrt(varMatrix[0][jj]))*betaCurrent[jj,cc+1])/currentDen\n",
    "                        if jj == 0:\n",
    "                            for ff in range(0,nStates):\n",
    "                                compareGamma[ii] = compareGamma[ii] + (alphaCurrent[ii,cc]*transitionMatrix[ii,ff]*normal(currentWindow[cc+1],meanMatrix[0][ff],np.sqrt(varMatrix[0][ff]))*betaCurrent[ff,cc+1])/currentDen\n",
    "                    newTransitionMatrix[ii,jj] = newTransitionMatrix[ii,jj] / originalGamma[ii]\n",
    "                    \n",
    "            newPiVec = np.reshape(gammaCurrent[:,0],(nComponents,nStates))\n",
    "            \n",
    "            newMeanMatrix = np.zeros((nComponents,nStates))\n",
    "            newVarMatrix = np.zeros((nComponents,nStates))\n",
    "            #print(\"window \",currentWindow)\n",
    "            for ii in range(0,nStates):\n",
    "                valStore = np.copy(gammaCurrent[ii,:]*currentWindow)\n",
    "                newMeanMatrix[0,ii] = sum(valStore)/sum(gammaCurrent[ii,:])\n",
    "                valStore2 = np.copy(gammaCurrent[ii,:]*((currentWindow-newMeanMatrix[0,ii])**2))\n",
    "                #print(\"mean store\", ii, \": \",newMeanMatrix[0,ii])\n",
    "                newVarMatrix[0,ii] = sum(valStore2)/sum(gammaCurrent[ii,:])\n",
    "            #print(originalGamma)\n",
    "            #print(compareGamma)\n",
    "            #print(\"gamma: \",gammaCurrent)\n",
    "            #print(\"new mean matrix: \",newMeanMatrix)\n",
    "            print(\"new var mat: \",newVarMatrix)\n",
    "            newAlpha,pObsNew = getAlpha(currentWindow,nStates,newPiVec,newTransitionMatrix,newMeanMatrix,newVarMatrix)\n",
    "            pTracker.append(pObsNew)\n",
    "            \n",
    "            \"\"\"\n",
    "            if uu == tradeStart + 1:\n",
    "                print(\"old transition\",transitionMatrix)\n",
    "                print(\"new transition\", newTransitionMatrix)\n",
    "                print(\"old pi\", piVec)\n",
    "                print(\"new pi\", newPiVec)\n",
    "                print(\"old mean\", meanMatrix)\n",
    "                print(\"new mean\", newMeanMatrix)\n",
    "                print(\"old var\", varMatrix)\n",
    "                print(\"new var\", newVarMatrix)\n",
    "                print(\"old alpha\",alphaCurrent)\n",
    "                print(\"new alpha\",newAlpha)\n",
    "            \"\"\"\n",
    "            piVec = np.copy(newPiVec)\n",
    "            transitionMatrix = np.copy(newTransitionMatrix)\n",
    "            meanMatrix = np.copy(newMeanMatrix)\n",
    "            varMatrix = np.copy(newVarMatrix)\n",
    "        \n",
    "        viterbiPath = getViterbiPath(np.reshape(currentWindow,(1,len(currentWindow))),piVec,transitionMatrix, meanMatrix,varMatrix)\n",
    "            \n",
    "        prediction[uu] = np.sign(meanMatrix[0,np.argmax(transitionMatrix[viterbiPath[-1],:])]-currentWindow[-1])\n",
    "        truth[uu] = np.sign(buyData[0,uu+1]-currentWindow[-1])\n",
    "        print(\"p track\", pTracker)\n",
    "        print(\"pred\",meanMatrix[0,np.argmax(transitionMatrix[viterbiPath[-1],:])])\n",
    "        print(\"actual\",buyData[0,uu+1])\n",
    "        print(\"pred dir\",prediction[uu])\n",
    "        print(\"actual dir\",truth[uu])\n",
    "        print(\"next pi\",piVec)\n",
    "        print(\"next transition\",transitionMatrix)\n",
    "        print(\"next mean\",meanMatrix)\n",
    "        print(\"next var\",varMatrix)\n",
    "           \n",
    "    return truth, prediction"
   ]
  },
  {
   "cell_type": "code",
   "execution_count": 200,
   "metadata": {
    "collapsed": false
   },
   "outputs": [
    {
     "name": "stdout",
     "output_type": "stream",
     "text": [
      "new var mat:  [[ 54.81499675  25.04162249]]\n",
      "new var mat:  [[ 42.23150531  25.0416225 ]]\n",
      "p track [-416.82065873818192, -302.92082036897125, -302.92082036897125, -302.92082036444697]\n",
      "pred 4770.0093\n",
      "actual 4767.0\n",
      "pred dir 1.0\n",
      "actual dir 1.0\n",
      "next pi [[  1.82482569e-08   9.99999982e-01]]\n",
      "next transition [[  1.28566999e-04   9.99871433e-01]\n",
      " [  2.25481618e-10   1.00000000e+00]]\n",
      "next mean [[ 4770.07770997  4770.0093    ]]\n",
      "next var [[ 42.23150531  25.0416225 ]]\n",
      "new var mat:  [[ 32.67659669  25.78012184]]\n",
      "p track [-304.43963277329789, -304.37403950057632]\n",
      "pred 4769.8604\n",
      "actual 4767.0\n",
      "pred dir 1.0\n",
      "actual dir 1.0\n",
      "next pi [[  1.72017465e-08   9.99999983e-01]]\n",
      "next transition [[  1.35352245e-04   9.99864648e-01]\n",
      " [  2.26825012e-10   1.00000000e+00]]\n",
      "next mean [[ 4771.06705117  4769.8604    ]]\n",
      "next var [[ 32.67659669  25.78012184]]\n",
      "new var mat:  [[ 19.31753664  25.60172404]]\n",
      "p track [-304.0401450350551, -304.02683803341637]\n",
      "pred 4769.7814\n",
      "actual 4767.0\n",
      "pred dir 1.0\n",
      "actual dir 0.0\n",
      "next pi [[  1.99710545e-08   9.99999980e-01]]\n",
      "next transition [[  1.44208159e-04   9.99855792e-01]\n",
      " [  2.19228346e-10   1.00000000e+00]]\n",
      "next mean [[ 4772.38174536  4769.7814    ]]\n",
      "next var [[ 19.31753664  25.60172404]]\n",
      "new var mat:  [[  5.35787939  25.41084424]]\n",
      "p track [-303.66623966165685, -303.6526543139027]\n",
      "pred 4769.7024\n",
      "actual 4767.0\n",
      "pred dir 1.0\n",
      "actual dir 0.0\n",
      "next pi [[  3.25488600e-08   9.99999967e-01]]\n",
      "next transition [[  2.12512950e-04   9.99787487e-01]\n",
      " [  2.27042895e-10   1.00000000e+00]]\n",
      "next mean [[ 4773.72029648  4769.7024    ]]\n",
      "next var [[  5.35787939  25.41084424]]\n",
      "new var mat:  [[  1.26785374  25.20748244]]\n",
      "p track [-303.26478683870334, -303.25089625511902]\n",
      "pred 4769.62339999\n",
      "actual 4770.0\n",
      "pred dir 1.0\n",
      "actual dir 1.0\n",
      "next pi [[  1.05976414e-07   9.99999894e-01]]\n",
      "next transition [[  6.46184365e-04   9.99353816e-01]\n",
      " [  2.99215980e-10   1.00000000e+00]]\n",
      "next mean [[ 4774.53995161  4769.62339999]]\n",
      "next var [[  1.26785374  25.20748244]]\n",
      "new var mat:  [[  2.09366355e-02   2.49916386e+01]]\n",
      "p track [-302.83514113074204, -302.82085200025858]\n",
      "pred 4769.54439996\n",
      "actual 4770.0\n",
      "pred dir 1.0\n",
      "actual dir 1.0\n",
      "next pi [[  7.83199444e-07   9.99999217e-01]]\n",
      "next transition [[  4.71737960e-03   9.95282620e-01]\n",
      " [  4.93738800e-10   1.00000000e+00]]\n",
      "next mean [[ 4774.8919848   4769.54439996]]\n",
      "next var [[  2.09366355e-02   2.49916386e+01]]\n",
      "new var mat:  [[  2.29183578e-05   2.47044845e+01]]\n",
      "new var mat:  [[  2.46100080e-05   2.27762692e+01]]\n",
      "new var mat:  [[  2.46096004e-05   2.27760046e+01]]\n",
      "p track [-302.25116389857169, -225.22056379952011, -225.22056379952011, -192.01424369956086, -192.01424369956086, -192.01424324058863]\n",
      "pred 4768.46516958\n",
      "actual 4770.0\n",
      "pred dir -1.0\n",
      "actual dir 0.0\n",
      "next pi [[  1.00000000e+00   3.21210790e-19]]\n",
      "next transition [[  9.37497423e-01   6.25025768e-02]\n",
      " [  2.06449754e-14   1.00000000e+00]]\n",
      "next mean [[ 4774.90437518  4768.46516958]]\n",
      "next var [[  2.46096004e-05   2.27760046e+01]]\n",
      "new var mat:  [[  2.48890257e-05   2.25354416e+01]]\n",
      "p track [-198.48153992930952, -198.44995630297706]\n",
      "pred 4768.48322626\n",
      "actual 4770.0\n",
      "pred dir -1.0\n",
      "actual dir 0.0\n",
      "next pi [[  1.00000000e+00   4.37383838e-36]]\n",
      "next transition [[  9.33330402e-01   6.66695982e-02]\n",
      " [  1.62088931e-19   1.00000000e+00]]\n",
      "next mean [[ 4774.90466687  4768.48322626]]\n",
      "next var [[  2.48890257e-05   2.25354416e+01]]\n",
      "new var mat:  [[  2.49999999e-05   2.22998523e+01]]\n",
      "p track [-204.852554736005, -204.81576992268774]\n",
      "pred 4768.50086604\n",
      "actual 4767.0\n",
      "pred dir -1.0\n",
      "actual dir -1.0\n",
      "next pi [[  1.00000000e+00   4.96272998e-58]]\n",
      "next transition [[  9.28567857e-01   7.14321431e-02]\n",
      " [  1.23757837e-24   1.00000000e+00]]\n",
      "next mean [[ 4774.90500025  4768.50086604]]\n",
      "next var [[  2.49999999e-05   2.22998523e+01]]\n",
      "new var mat:  [[  2.48518316e-05   2.20690803e+01]]\n",
      "p track [-211.14260602090386, -211.09820024194622]\n",
      "pred 4768.51810108\n",
      "actual 4767.0\n",
      "pred dir -1.0\n",
      "actual dir -1.0\n",
      "next pi [[  1.00000000e+00   4.61369916e-85]]\n",
      "next transition [[  9.23072478e-01   7.69275222e-02]\n",
      " [  9.12889416e-30   1.00000000e+00]]\n",
      "next mean [[ 4774.90538493  4768.51810108]]\n",
      "next var [[  2.48518316e-05   2.20690803e+01]]\n"
     ]
    },
    {
     "name": "stderr",
     "output_type": "stream",
     "text": [
      "C:\\Users\\draj36\\Anaconda3\\lib\\site-packages\\IPython\\kernel\\__main__.py:13: RuntimeWarning: divide by zero encountered in log\n"
     ]
    }
   ],
   "source": [
    "buyData = np.reshape(buyPrices2_trade,(1,len(buyPrices2_trade)))\n",
    "tradeStart = 10**4\n",
    "truth,predictions = tradeHMM(buyData, tradeStart, 2, 1, piVec, transitionMatrix, meanMatrix, varMatrix, 100, 0.1)"
   ]
  },
  {
   "cell_type": "code",
   "execution_count": 139,
   "metadata": {
    "collapsed": false
   },
   "outputs": [
    {
     "data": {
      "text/plain": [
       "-inf"
      ]
     },
     "execution_count": 139,
     "metadata": {},
     "output_type": "execute_result"
    }
   ],
   "source": [
    "-np.inf"
   ]
  },
  {
   "cell_type": "code",
   "execution_count": 38,
   "metadata": {
    "collapsed": false
   },
   "outputs": [],
   "source": [
    "backwardHours = 6\n",
    "trade_cutoff = 2\n",
    "zScore1,zScore2,timeLine,sellPrices1_trade_sync,buyPrices1_trade_sync,sellPrices2_trade_sync,buyPrices2_trade_sync = formatTradeData(sellTimes1_trade,sellPrices1_trade,buyTimes1_trade,buyPrices1_trade,sellTimes2_trade,sellPrices2_trade,buyTimes2_trade,buyPrices2_trade,sellTimes1_ref,sellPrices1_ref,buyTimes1_ref,buyPrices1_ref,sellTimes2_ref,sellPrices2_ref,buyTimes2_ref,buyPrices2_ref,backwardHours,slopeToUse_1,interceptToUse_1,slopeToUse_2,interceptToUse_2)"
   ]
  },
  {
   "cell_type": "code",
   "execution_count": 39,
   "metadata": {
    "collapsed": false
   },
   "outputs": [],
   "source": [
    "bankTracker1, naiveWorthTracker1, bankTracker2, naiveWorthTracker2, coinTracker1, coinTracker2, cashOutTimes,cashOut1, cashOut2, cashOutz1, cashOutz2 = pairs_trade(timeLine,sellPrices1_trade_sync,buyPrices1_trade_sync,sellPrices2_trade_sync,buyPrices2_trade_sync,zScore1,zScore2,trade_cutoff)\n",
    "plotReturn(timeLine,bankTracker1,naiveWorthTracker1,bankTracker2,naiveWorthTracker2,startTime,cashOutTimes,cashOut1+cashOut2,'huobi','okcoin')"
   ]
  },
  {
   "cell_type": "code",
   "execution_count": 46,
   "metadata": {
    "collapsed": false
   },
   "outputs": [],
   "source": [
    "fig, ax = plt.subplots()\n",
    "ax.plot(timeLine,zScore1,'r',label=u'btce')\n",
    "ax.plot(timeLine,zScore2,'b',label=u'bitstamp')\n",
    "ax.plot(cashOutTimes,cashOutz1,'yo',label=u'btce cash out')\n",
    "ax.plot(cashOutTimes,cashOutz2,'wo',label=u'bitstamp cash out')\n",
    "plt.show()\n",
    "labels = []\n",
    "for ii in range(0,len(ax.get_xticklabels())):\n",
    "    if ax.get_xticklabels()[ii].get_text() != '':\n",
    "        timeInc = int(ax.get_xticklabels()[ii].get_text())\n",
    "        dhms = DHMS(timeInc)\n",
    "        step = dt.timedelta(days = dhms[0],hours = dhms[1],minutes = dhms[2],seconds = dhms[3]) \n",
    "        currentLabel = startTime + step\n",
    "        labels.append(currentLabel.strftime('%Y:%m:%d:%H:%M:%S'))\n",
    "    else:\n",
    "fig, ax = plt.subplots()\n",
    "        labels.append(ax.get_xticklabels()[ii].get_text())\n",
    "ax.plot(timeLine,zScore1,'r',label=u'btce')\n",
    "ax.plot(timeLine,zScore2,'b',label=u'bitstamp')\n",
    "ax.plot(cashOutTimes,cashOutz1,'yo',label=u'btce cash out')\n",
    "ax.plot(cashOutTimes,cashOutz2,'wo',label=u'bitstamp cash out')   \n",
    "ax.set_xticklabels(labels)\n",
    "plt.xlabel('Time')\n",
    "plt.ylabel('Z Score')\n",
    "plt.title('Huobi and okcoin Z scores with Cashout times (z_threshold = 2)')\n",
    "plt.legend(loc = 0)\n",
    "plt.show()"
   ]
  },
  {
   "cell_type": "code",
   "execution_count": 47,
   "metadata": {
    "collapsed": false
   },
   "outputs": [],
   "source": [
    "fig, ax = plt.subplots()\n",
    "ax.plot(timeLine,coinTracker1[1:],'r',label=u'btce')\n",
    "ax.plot(timeLine,coinTracker2[1:],'b',label=u'bitstamp')\n",
    "plt.show()\n",
    "labels = []\n",
    "for ii in range(0,len(ax.get_xticklabels())):\n",
    "    if ax.get_xticklabels()[ii].get_text() != '':\n",
    "        timeInc = int(ax.get_xticklabels()[ii].get_text())\n",
    "        dhms = DHMS(timeInc)\n",
    "        step = dt.timedelta(days = dhms[0],hours = dhms[1],minutes = dhms[2],seconds = dhms[3]) \n",
    "        currentLabel = startTime + step\n",
    "        labels.append(currentLabel.strftime('%Y:%m:%d:%H:%M:%S'))\n",
    "    else:\n",
    "        labels.append(ax.get_xticklabels()[ii].get_text())\n",
    "fig, ax = plt.subplots()\n",
    "ax.plot(timeLine,coinTracker1[1:],'r',label=u'btce')\n",
    "ax.plot(timeLine,coinTracker2[1:],'b',label=u'bitstamp') \n",
    "ax.set_xticklabels(labels)\n",
    "plt.xlabel('Time')\n",
    "plt.ylabel('Bitcoins')\n",
    "plt.title('Huobi and Okcoin Bitcoins with Cashout times (z_threshold = 2)')\n",
    "plt.legend(loc = 0)\n",
    "plt.show()"
   ]
  },
  {
   "cell_type": "code",
   "execution_count": 53,
   "metadata": {
    "collapsed": false
   },
   "outputs": [],
   "source": [
    "fig, ax = plt.subplots()\n",
    "ax.plot(timeLine,bankTracker1[1:],'r',label=u'btce')\n",
    "ax.plot(timeLine,bankTracker2[1:],'b',label=u'bitstamp')\n",
    "ax.plot(cashOutTimes,cashOut1,'yo',label=u'btce cash out')\n",
    "ax.plot(cashOutTimes,cashOut2,'wo',label=u'bitstamp cash out')\n",
    "plt.show()\n",
    "labels = []\n",
    "for ii in range(0,len(ax.get_xticklabels())):\n",
    "    if ax.get_xticklabels()[ii].get_text() != '':\n",
    "        timeInc = int(ax.get_xticklabels()[ii].get_text())\n",
    "        dhms = DHMS(timeInc)\n",
    "        step = dt.timedelta(days = dhms[0],hours = dhms[1],minutes = dhms[2],seconds = dhms[3]) \n",
    "        currentLabel = startTime + step\n",
    "        labels.append(currentLabel.strftime('%Y:%m:%d:%H:%M:%S'))\n",
    "    else:\n",
    "        labels.append(ax.get_xticklabels()[ii].get_text())\n",
    "fig, ax = plt.subplots()\n",
    "ax.plot(timeLine,bankTracker1[1:],'r',label=u'btce')\n",
    "ax.plot(timeLine,bankTracker2[1:],'b',label=u'bitstamp')\n",
    "ax.plot(cashOutTimes,cashOut1,'yo',label=u'btce cash out')\n",
    "ax.plot(cashOutTimes,cashOut2,'wo',label=u'bitstamp cash out')   \n",
    "ax.set_xticklabels(labels)\n",
    "plt.xlabel('Time')\n",
    "plt.ylabel('Account Values')\n",
    "plt.title('Huobi and OKcoin Account Values with Cashout times (z_threshold = 2)')\n",
    "plt.legend(loc = 0)\n",
    "plt.show()"
   ]
  },
  {
   "cell_type": "code",
   "execution_count": 54,
   "metadata": {
    "collapsed": true
   },
   "outputs": [],
   "source": [
    "timesInterest = timeLine[(cashOutTimes[8] < timeLine) & (timeLine < cashOutTimes[9] + 60)]\n",
    "bank1 = bankTracker1[1:]\n",
    "bank2 = bankTracker2[1:]\n",
    "coins1 = coinTracker1[1:]\n",
    "coins2 = coinTracker2[1:]\n",
    "bank1Interest = bank1[(cashOutTimes[8] < timeLine) & (timeLine < cashOutTimes[9] + 60)]\n",
    "bank2Interest = bank2[(cashOutTimes[8] < timeLine) & (timeLine < cashOutTimes[9] + 60)]\n",
    "coin1Interest = coins1[(cashOutTimes[8] < timeLine) & (timeLine < cashOutTimes[9] + 60)]\n",
    "coin2Interest = coins2[(cashOutTimes[8] < timeLine) & (timeLine < cashOutTimes[9] + 60)]"
   ]
  },
  {
   "cell_type": "code",
   "execution_count": 79,
   "metadata": {
    "collapsed": false
   },
   "outputs": [],
   "source": [
    "fig, ax = plt.subplots()\n",
    "ax.plot(timesInterest,bank1Interest)\n",
    "plt.show()\n",
    "labels = []\n",
    "for ii in range(0,len(ax.get_xticklabels())):\n",
    "    if ax.get_xticklabels()[ii].get_text() != '':\n",
    "        timeInc = int(ax.get_xticklabels()[ii].get_text())\n",
    "        dhms = DHMS(timeInc)\n",
    "        step = dt.timedelta(days = dhms[0],hours = dhms[1],minutes = dhms[2],seconds = dhms[3]) \n",
    "        currentLabel = startTime + step\n",
    "        labels.append(currentLabel.strftime('%Y:%m:%d:%H:%M:%S'))\n",
    "    else:\n",
    "        labels.append(ax.get_xticklabels()[ii].get_text())\n",
    "fig, ax = plt.subplots()\n",
    "ax.plot(timesInterest,bank1Interest)\n",
    "ax.set_xticklabels(labels)\n",
    "plt.title('Huobi account')\n",
    "plt.show()"
   ]
  },
  {
   "cell_type": "code",
   "execution_count": 80,
   "metadata": {
    "collapsed": true
   },
   "outputs": [],
   "source": [
    "fig, ax = plt.subplots()\n",
    "ax.plot(timesInterest,bank2Interest)\n",
    "plt.show()\n",
    "labels = []\n",
    "for ii in range(0,len(ax.get_xticklabels())):\n",
    "    if ax.get_xticklabels()[ii].get_text() != '':\n",
    "        timeInc = int(ax.get_xticklabels()[ii].get_text())\n",
    "        dhms = DHMS(timeInc)\n",
    "        step = dt.timedelta(days = dhms[0],hours = dhms[1],minutes = dhms[2],seconds = dhms[3]) \n",
    "        currentLabel = startTime + step\n",
    "        labels.append(currentLabel.strftime('%Y:%m:%d:%H:%M:%S'))\n",
    "    else:\n",
    "        labels.append(ax.get_xticklabels()[ii].get_text())\n",
    "fig, ax = plt.subplots()\n",
    "ax.plot(timesInterest,bank2Interest)\n",
    "ax.set_xticklabels(labels)\n",
    "plt.title('OKcoin account')\n",
    "plt.show()"
   ]
  },
  {
   "cell_type": "code",
   "execution_count": 81,
   "metadata": {
    "collapsed": true
   },
   "outputs": [],
   "source": [
    "fig, ax = plt.subplots()\n",
    "ax.plot(timesInterest,coin1Interest)\n",
    "plt.show()\n",
    "labels = []\n",
    "for ii in range(0,len(ax.get_xticklabels())):\n",
    "    if ax.get_xticklabels()[ii].get_text() != '':\n",
    "        timeInc = int(ax.get_xticklabels()[ii].get_text())\n",
    "        dhms = DHMS(timeInc)\n",
    "        step = dt.timedelta(days = dhms[0],hours = dhms[1],minutes = dhms[2],seconds = dhms[3]) \n",
    "        currentLabel = startTime + step\n",
    "        labels.append(currentLabel.strftime('%Y:%m:%d:%H:%M:%S'))\n",
    "    else:\n",
    "        labels.append(ax.get_xticklabels()[ii].get_text())\n",
    "fig, ax = plt.subplots()\n",
    "ax.plot(timesInterest,coin1Interest)\n",
    "ax.set_xticklabels(labels)\n",
    "plt.title('huobi coins')\n",
    "plt.show()"
   ]
  },
  {
   "cell_type": "code",
   "execution_count": 82,
   "metadata": {
    "collapsed": true
   },
   "outputs": [],
   "source": [
    "fig, ax = plt.subplots()\n",
    "ax.plot(timesInterest,coin2Interest)\n",
    "plt.show()\n",
    "labels = []\n",
    "for ii in range(0,len(ax.get_xticklabels())):\n",
    "    if ax.get_xticklabels()[ii].get_text() != '':\n",
    "        timeInc = int(ax.get_xticklabels()[ii].get_text())\n",
    "        dhms = DHMS(timeInc)\n",
    "        step = dt.timedelta(days = dhms[0],hours = dhms[1],minutes = dhms[2],seconds = dhms[3]) \n",
    "        currentLabel = startTime + step\n",
    "        labels.append(currentLabel.strftime('%Y:%m:%d:%H:%M:%S'))\n",
    "    else:\n",
    "        labels.append(ax.get_xticklabels()[ii].get_text())\n",
    "fig, ax = plt.subplots()\n",
    "ax.plot(timesInterest,coin2Interest)\n",
    "ax.set_xticklabels(labels)\n",
    "plt.title('okcoin coins')\n",
    "plt.show()"
   ]
  },
  {
   "cell_type": "code",
   "execution_count": 91,
   "metadata": {
    "collapsed": false
   },
   "outputs": [
    {
     "data": {
      "text/plain": [
       "0"
      ]
     },
     "execution_count": 91,
     "metadata": {},
     "output_type": "execute_result"
    }
   ],
   "source": [
    "coin1Interest[-1]"
   ]
  },
  {
   "cell_type": "code",
   "execution_count": 84,
   "metadata": {
    "collapsed": false
   },
   "outputs": [
    {
     "data": {
      "text/plain": [
       "11855.443767187322"
      ]
     },
     "execution_count": 84,
     "metadata": {},
     "output_type": "execute_result"
    }
   ],
   "source": [
    "bank2Interest[0]"
   ]
  },
  {
   "cell_type": "code",
   "execution_count": 85,
   "metadata": {
    "collapsed": false
   },
   "outputs": [
    {
     "data": {
      "text/plain": [
       "21441.728358006756"
      ]
     },
     "execution_count": 85,
     "metadata": {},
     "output_type": "execute_result"
    }
   ],
   "source": [
    "bank1Interest[-1]"
   ]
  },
  {
   "cell_type": "code",
   "execution_count": 86,
   "metadata": {
    "collapsed": false
   },
   "outputs": [
    {
     "data": {
      "text/plain": [
       "4402.8212709548916"
      ]
     },
     "execution_count": 86,
     "metadata": {},
     "output_type": "execute_result"
    }
   ],
   "source": [
    "bank2Interest[-1]"
   ]
  },
  {
   "cell_type": "code",
   "execution_count": 87,
   "metadata": {
    "collapsed": false
   },
   "outputs": [
    {
     "data": {
      "text/plain": [
       "18.265436932891998"
      ]
     },
     "execution_count": 87,
     "metadata": {},
     "output_type": "execute_result"
    }
   ],
   "source": [
    "100*(((bank2Interest[-1]+bank1Interest[-1])/(bank1Interest[0]+bank2Interest[0]))-1)"
   ]
  },
  {
   "cell_type": "code",
   "execution_count": 33,
   "metadata": {
    "collapsed": false
   },
   "outputs": [],
   "source": [
    "import numpy as np\n",
    "backwardHours = 6\n",
    "trade_cutoff_vector = np.linspace(.6,4,40)\n",
    "tradeReturn = np.zeros(len(trade_cutoff_vector))\n",
    "zScore1,zScore2,timeLine,sellPrices1_trade_sync,buyPrices1_trade_sync,sellPrices2_trade_sync,buyPrices2_trade_sync = formatTradeData(sellTimes1_trade,sellPrices1_trade,buyTimes1_trade,buyPrices1_trade,sellTimes2_trade,sellPrices2_trade,buyTimes2_trade,buyPrices2_trade,sellTimes1_ref,sellPrices1_ref,buyTimes1_ref,buyPrices1_ref,sellTimes2_ref,sellPrices2_ref,buyTimes2_ref,buyPrices2_ref,backwardHours,slopeToUse_1,interceptToUse_1,slopeToUse_2,interceptToUse_2)\n",
    "for ii in range(0,len(trade_cutoff_vector)): \n",
    "    trade_cutoff = trade_cutoff_vector[ii]\n",
    "    bankTracker1, naiveWorthTracker1, bankTracker2, naiveWorthTracker2, coinTracker1, coinTracker2, cashOutTimes,cashOut1, cashOut2, cashOutz1, cashOutz2 = pairs_trade(timeLine,sellPrices1_trade_sync,buyPrices1_trade_sync,sellPrices2_trade_sync,buyPrices2_trade_sync,zScore1,zScore2,trade_cutoff)\n",
    "    tradeReturn[ii] = 100*(((bankTracker1[-1]+bankTracker2[-1])/20000)-1)\n",
    "plt.plot(trade_cutoff_vector,tradeReturn,'b')\n",
    "plt.xlabel('Z Score Threshold')\n",
    "plt.ylabel('Percent Return')\n",
    "plt.title('Pairs Trading Return')\n",
    "plt.show()"
   ]
  },
  {
   "cell_type": "code",
   "execution_count": 34,
   "metadata": {
    "collapsed": false
   },
   "outputs": [],
   "source": [
    "import numpy as np\n",
    "backwardHoursVec = [1/12,1/2,1,2,3,4,5,6,7,8,9,10,11,12]\n",
    "trade_cutoff_vector = np.linspace(.6,4,20)\n",
    "tradeReturn = np.zeros((14,len(trade_cutoff_vector)))\n",
    "for ii in range(0,14):\n",
    "    backwardHours = backwardHoursVec[ii]\n",
    "    zScore1,zScore2,timeLine,sellPrices1_trade_sync,buyPrices1_trade_sync,sellPrices2_trade_sync,buyPrices2_trade_sync = formatTradeData(sellTimes1_trade,sellPrices1_trade,buyTimes1_trade,buyPrices1_trade,sellTimes2_trade,sellPrices2_trade,buyTimes2_trade,buyPrices2_trade,sellTimes1_ref,sellPrices1_ref,buyTimes1_ref,buyPrices1_ref,sellTimes2_ref,sellPrices2_ref,buyTimes2_ref,buyPrices2_ref,backwardHours,slopeToUse_1,interceptToUse_1,slopeToUse_2,interceptToUse_2)\n",
    "    for jj in range(len(trade_cutoff_vector)):\n",
    "        trade_cutoff = trade_cutoff_vector[jj]\n",
    "        bankTracker1, naiveWorthTracker1, bankTracker2, naiveWorthTracker2, coinTracker1, coinTracker2, cashOutTimes,cashOut1, cashOut2, cashOutz1, cashOutz2 = pairs_trade(timeLine,sellPrices1_trade_sync,buyPrices1_trade_sync,sellPrices2_trade_sync,buyPrices2_trade_sync,zScore1,zScore2,trade_cutoff)\n",
    "        tradeReturn[ii,jj] = 100*(((bankTracker1[-1]+bankTracker2[-1])/20000)-1)"
   ]
  },
  {
   "cell_type": "code",
   "execution_count": 35,
   "metadata": {
    "collapsed": false
   },
   "outputs": [],
   "source": [
    "fig, ax = plt.subplots()\n",
    "ax.imshow(tradeReturn)\n",
    "xlabels = [item.get_text() for item in ax.get_xticklabels()]\n",
    "ylabels = [item.get_text() for item in ax.get_yticklabels()]\n",
    "ax.set_xticklabels(['','0.6','1.6','2.6','3.6',''])\n",
    "ax.set_yticklabels(['','1/12','1','2','4','6','8','10','12',''])\n",
    "plt.xlabel('Z-score threshold')\n",
    "plt.ylabel('Backward Window (hours)')\n",
    "plt.title('huobi and okcoin Pairs Trading Return')\n",
    "plt.colorbar\n",
    "plt.show()"
   ]
  },
  {
   "cell_type": "code",
   "execution_count": 153,
   "metadata": {
    "collapsed": false
   },
   "outputs": [
    {
     "ename": "IndexError",
     "evalue": "index 3 is out of bounds for axis 1 with size 3",
     "output_type": "error",
     "traceback": [
      "\u001b[1;31m---------------------------------------------------------------------------\u001b[0m",
      "\u001b[1;31mIndexError\u001b[0m                                Traceback (most recent call last)",
      "\u001b[1;32m<ipython-input-153-d8fd6471ebd4>\u001b[0m in \u001b[0;36m<module>\u001b[1;34m()\u001b[0m\n\u001b[0;32m      1\u001b[0m \u001b[0maa\u001b[0m \u001b[1;33m=\u001b[0m \u001b[0mnp\u001b[0m\u001b[1;33m.\u001b[0m\u001b[0marray\u001b[0m\u001b[1;33m(\u001b[0m\u001b[1;33m[\u001b[0m\u001b[1;33m[\u001b[0m\u001b[1;36m1\u001b[0m\u001b[1;33m,\u001b[0m\u001b[1;36m2\u001b[0m\u001b[1;33m,\u001b[0m\u001b[1;36m3\u001b[0m\u001b[1;33m]\u001b[0m\u001b[1;33m,\u001b[0m\u001b[1;33m[\u001b[0m\u001b[1;36m1\u001b[0m\u001b[1;33m,\u001b[0m\u001b[1;36m2\u001b[0m\u001b[1;33m,\u001b[0m\u001b[1;36m3\u001b[0m\u001b[1;33m]\u001b[0m\u001b[1;33m]\u001b[0m\u001b[1;33m)\u001b[0m\u001b[1;33m\u001b[0m\u001b[0m\n\u001b[1;32m----> 2\u001b[1;33m \u001b[0maa\u001b[0m\u001b[1;33m[\u001b[0m\u001b[1;33m:\u001b[0m\u001b[1;33m,\u001b[0m\u001b[1;36m3\u001b[0m\u001b[1;33m]\u001b[0m\u001b[1;33m\u001b[0m\u001b[0m\n\u001b[0m",
      "\u001b[1;31mIndexError\u001b[0m: index 3 is out of bounds for axis 1 with size 3"
     ]
    }
   ],
   "source": [
    "aa = np.array([[1,2,3],[1,2,3]])\n",
    "aa[:,3]"
   ]
  },
  {
   "cell_type": "code",
   "execution_count": null,
   "metadata": {
    "collapsed": true
   },
   "outputs": [],
   "source": []
  }
 ],
 "metadata": {
  "kernelspec": {
   "display_name": "Python 3",
   "language": "python",
   "name": "python3"
  },
  "language_info": {
   "codemirror_mode": {
    "name": "ipython",
    "version": 3
   },
   "file_extension": ".py",
   "mimetype": "text/x-python",
   "name": "python",
   "nbconvert_exporter": "python",
   "pygments_lexer": "ipython3",
   "version": "3.4.1"
  }
 },
 "nbformat": 4,
 "nbformat_minor": 0
}
