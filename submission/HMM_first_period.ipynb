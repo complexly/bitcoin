{
 "cells": [
  {
   "cell_type": "code",
   "execution_count": 4,
   "metadata": {
    "collapsed": true
   },
   "outputs": [],
   "source": [
    "import numpy as np\n",
    "from scipy.stats import distributions\n",
    "from __future__ import division\n",
    "normal = distributions.norm.pdf\n",
    "import math\n",
    "font = {'size'   : 20}\n",
    "import matplotlib\n",
    "matplotlib.rc('font', **font)"
   ]
  },
  {
   "cell_type": "code",
   "execution_count": 5,
   "metadata": {
    "collapsed": false
   },
   "outputs": [],
   "source": [
    "def getRows(dataBase,startInd,endInd):\n",
    "    import sqlite3\n",
    "    print(type(dataBase))\n",
    "    input1 = dataBase+'.rdb'\n",
    "    conn = sqlite3.connect(input1)\n",
    "    c = conn.cursor()\n",
    "    input2 = 'SELECT * FROM '+dataBase+'_ob'\n",
    "    aa = c.execute(input2)\n",
    "    rows = []\n",
    "    count = 0\n",
    "    for row in aa:\n",
    "        if (count >= startInd) & (count < endInd):\n",
    "            rows.append(row)\n",
    "        count += 1\n",
    "        if count == endInd:\n",
    "            break\n",
    "    return rows"
   ]
  },
  {
   "cell_type": "code",
   "execution_count": 6,
   "metadata": {
    "collapsed": false
   },
   "outputs": [],
   "source": [
    "def getStartTime(row):\n",
    "    import datetime as dt\n",
    "    start = dt.datetime(int(row[5][0:4]), int(row[5][5:7]), int(row[5][8:10]), int(row[5][11:13]), int(row[5][14:16]), int(float(row[5][17:-1])))\n",
    "    return start"
   ]
  },
  {
   "cell_type": "code",
   "execution_count": 7,
   "metadata": {
    "collapsed": false
   },
   "outputs": [],
   "source": [
    "def getTimes(rows,startTime):\n",
    "    import datetime as dt\n",
    "    timeSec = [0]\n",
    "    for afterInd in range(1,len(rows)):\n",
    "        current = dt.datetime(int(rows[afterInd][5][0:4]), int(rows[afterInd][5][5:7]), int(rows[afterInd][5][8:10]), int(rows[afterInd][5][11:13]), int(rows[afterInd][5][14:16]), int(float(rows[afterInd][5][17:-1])))\n",
    "        currentDiff = current - startTime\n",
    "        currentDiffSeconds = currentDiff.days*(24*3600) + currentDiff.seconds\n",
    "        timeSec.append(currentDiffSeconds)\n",
    "    return timeSec"
   ]
  },
  {
   "cell_type": "code",
   "execution_count": 8,
   "metadata": {
    "collapsed": false
   },
   "outputs": [],
   "source": [
    "def extractTickData(rows,timeSec):\n",
    "    import numpy as np\n",
    "    buyPrices = []\n",
    "    sellPrices = []\n",
    "    buyTimes = []\n",
    "    sellTimes = []\n",
    "    buyQuantity = []\n",
    "    buyLevels = []\n",
    "    sellQuantity = []\n",
    "    sellLevels = []\n",
    "    for ii in range(len(rows)):\n",
    "        if rows[ii][1] == 'buy':\n",
    "            buyPrices.append(rows[ii][2])\n",
    "            buyTimes.append(timeSec[ii])\n",
    "            buyQuantity.append(rows[ii][3])\n",
    "            buyLevels.append(rows[ii][4])\n",
    "        else:\n",
    "            sellPrices.append(rows[ii][2])\n",
    "            sellTimes.append(timeSec[ii])\n",
    "            sellQuantity.append(rows[ii][3])\n",
    "            sellLevels.append(rows[ii][4])\n",
    "    buyPrices = np.array(buyPrices)\n",
    "    sellPrices = np.array(sellPrices)\n",
    "    buyTimes = np.array(buyTimes)\n",
    "    sellTimes = np.array(sellTimes)\n",
    "    buyQuantity = np.array(buyQuantity)\n",
    "    buyLevels = np.array(buyLevels)\n",
    "    sellQuantity = np.array(sellQuantity)\n",
    "    sellLevels = np.array(sellLevels)\n",
    "    \n",
    "    return buyPrices, sellPrices, buyTimes, sellTimes, buyQuantity, buyLevels, sellQuantity, sellLevels"
   ]
  },
  {
   "cell_type": "code",
   "execution_count": 9,
   "metadata": {
    "collapsed": false
   },
   "outputs": [],
   "source": [
    "def DHMS(seconds):\n",
    "    import numpy as np\n",
    "    days = np.floor(seconds/3600)\n",
    "    hours = np.floor((seconds/3600) - days*24)\n",
    "    minutes = np.floor(((seconds/3600) - days*24 - hours)*60)\n",
    "    seconds = np.floor((((seconds/3600) - days*24 - hours)*60 - minutes)*60)\n",
    "    return np.array([days,hours,minutes,seconds])"
   ]
  },
  {
   "cell_type": "code",
   "execution_count": 10,
   "metadata": {
    "collapsed": false
   },
   "outputs": [],
   "source": [
    "def timeFilterData(data,times,cutoff1,cutoff2):\n",
    "    filteredData = data[(cutoff1 < times) & (times < cutoff2)]\n",
    "    return filteredData"
   ]
  },
  {
   "cell_type": "code",
   "execution_count": 9,
   "metadata": {
    "collapsed": false
   },
   "outputs": [
    {
     "name": "stdout",
     "output_type": "stream",
     "text": [
      "<type 'str'>\n"
     ]
    }
   ],
   "source": [
    "rows1 = getRows('huobi',20*10**6,27*10**6)"
   ]
  },
  {
   "cell_type": "code",
   "execution_count": 224,
   "metadata": {
    "collapsed": false
   },
   "outputs": [
    {
     "data": {
      "text/plain": [
       "3132800"
      ]
     },
     "execution_count": 224,
     "metadata": {},
     "output_type": "execute_result"
    }
   ],
   "source": [
    "len(rows1)"
   ]
  },
  {
   "cell_type": "code",
   "execution_count": 11,
   "metadata": {
    "collapsed": false
   },
   "outputs": [
    {
     "name": "stdout",
     "output_type": "stream",
     "text": [
      "<type 'str'>\n"
     ]
    }
   ],
   "source": [
    "rows1 = getRows('okcoin',0,4*10**6)"
   ]
  },
  {
   "cell_type": "code",
   "execution_count": 12,
   "metadata": {
    "collapsed": false
   },
   "outputs": [
    {
     "name": "stdout",
     "output_type": "stream",
     "text": [
      "2014-01-01 21:59:52\n"
     ]
    }
   ],
   "source": [
    "print(getStartTime(rows1[0]))"
   ]
  },
  {
   "cell_type": "code",
   "execution_count": 13,
   "metadata": {
    "collapsed": false
   },
   "outputs": [],
   "source": [
    "startTime = getStartTime(rows1[0])\n",
    "times1 = getTimes(rows1,startTime)\n",
    "buyPrices1, sellPrices1, buyTimes1, sellTimes1, buyQuantity1, buyLevels1, sellQuantity1, sellLevels1 = extractTickData(rows1,times1)"
   ]
  },
  {
   "cell_type": "code",
   "execution_count": 14,
   "metadata": {
    "collapsed": false
   },
   "outputs": [],
   "source": [
    "import datetime as dt\n",
    "startCutoff = dt.datetime(2014,1,2,10,0,0) - startTime\n",
    "startCutOffSeconds = startCutoff.days*(24*3600) + startCutoff.seconds\n",
    "trainCutoff = dt.datetime(2014,1,2,23,0,0) - startTime\n",
    "trainCutoffSeconds = trainCutoff.days*(24*3600) + trainCutoff.seconds\n",
    "endCutoff = dt.datetime(2014,1,4,2,0,0) - startTime\n",
    "endCutoffSeconds = endCutoff.days*(24*3600) + endCutoff.seconds"
   ]
  },
  {
   "cell_type": "code",
   "execution_count": 15,
   "metadata": {
    "collapsed": false
   },
   "outputs": [],
   "source": [
    "buyPrices1_train = timeFilterData(buyPrices1,buyTimes1,startCutOffSeconds,trainCutoffSeconds)\n",
    "sellPrices1_train = timeFilterData(sellPrices1,sellTimes1,startCutOffSeconds,trainCutoffSeconds)\n",
    "buyTimes1_train = timeFilterData(buyTimes1,buyTimes1,startCutOffSeconds,trainCutoffSeconds)\n",
    "sellTimes1_train = timeFilterData(sellTimes1,sellTimes1,startCutOffSeconds,trainCutoffSeconds)\n",
    "buyQuantity1_train = timeFilterData(buyQuantity1,buyTimes1,startCutOffSeconds,trainCutoffSeconds)\n",
    "buyLevels1_train = timeFilterData(buyLevels1,buyTimes1,startCutOffSeconds,trainCutoffSeconds)\n",
    "sellQuantity1_train = timeFilterData(sellQuantity1,sellTimes1,startCutOffSeconds,trainCutoffSeconds)\n",
    "sellLevels1_train = timeFilterData(sellLevels1,sellTimes1,startCutOffSeconds,trainCutoffSeconds)\n",
    "\n",
    "buyPrices1_trade = timeFilterData(buyPrices1,buyTimes1,trainCutoffSeconds,endCutoffSeconds)\n",
    "sellPrices1_trade = timeFilterData(sellPrices1,sellTimes1,trainCutoffSeconds,endCutoffSeconds)\n",
    "buyTimes1_trade = timeFilterData(buyTimes1,buyTimes1,trainCutoffSeconds,endCutoffSeconds)\n",
    "sellTimes1_trade = timeFilterData(sellTimes1,sellTimes1,trainCutoffSeconds,endCutoffSeconds)\n",
    "buyQuantity1_trade = timeFilterData(buyQuantity1,buyTimes1,trainCutoffSeconds,endCutoffSeconds)\n",
    "buyLevels1_trade = timeFilterData(buyLevels1,buyTimes1,trainCutoffSeconds,endCutoffSeconds)\n",
    "sellQuantity1_trade = timeFilterData(sellQuantity1,sellTimes1,trainCutoffSeconds,endCutoffSeconds)\n",
    "sellLevels1_trade = timeFilterData(sellLevels1,sellTimes1,trainCutoffSeconds,endCutoffSeconds)"
   ]
  },
  {
   "cell_type": "code",
   "execution_count": 16,
   "metadata": {
    "collapsed": false
   },
   "outputs": [],
   "source": [
    "import matplotlib.pyplot as plt\n",
    "plt.plot(buyTimes1_trade,buyQuantity1_trade,'b-')\n",
    "plt.xlabel('OK Coin sell times')\n",
    "plt.ylabel('Ok Coin sell prices')\n",
    "plt.title('Best Fit Parameters')\n",
    "plt.show()"
   ]
  },
  {
   "cell_type": "code",
   "execution_count": 17,
   "metadata": {
    "collapsed": false
   },
   "outputs": [],
   "source": [
    "buyPrices1_train = buyPrices1_train[buyLevels1_train == 1]\n",
    "sellPrices1_train = sellPrices1_train[sellLevels1_train == 1]\n",
    "buyTimes1_train = buyTimes1_train[buyLevels1_train == 1]\n",
    "sellTimes1_train = sellTimes1_train[sellLevels1_train == 1]\n",
    "\n",
    "buyPrices1_trade = buyPrices1_trade[buyLevels1_trade == 1]\n",
    "sellPrices1_trade = sellPrices1_trade[sellLevels1_trade == 1]\n",
    "buyTimes1_trade = buyTimes1_trade[buyLevels1_trade == 1]\n",
    "sellTimes1_trade = sellTimes1_trade[sellLevels1_trade == 1]\n",
    "sellQuantity1_trade = sellQuantity1_trade[sellLevels1_trade == 1]\n",
    "buyQuantity1_trade = buyQuantity1_trade[buyLevels1_trade == 1]\n",
    "\n",
    "buyPrices1_ref = buyPrices1[buyLevels1 == 1]\n",
    "sellPrices1_ref = sellPrices1[sellLevels1 == 1]\n",
    "buyTimes1_ref = buyTimes1[buyLevels1 == 1]\n",
    "sellTimes1_ref = sellTimes1[sellLevels1 == 1]"
   ]
  },
  {
   "cell_type": "code",
   "execution_count": 272,
   "metadata": {
    "collapsed": true
   },
   "outputs": [],
   "source": [
    "plt.plot(buyPrices1_trade)\n",
    "plt.show()"
   ]
  },
  {
   "cell_type": "code",
   "execution_count": 20,
   "metadata": {
    "collapsed": true
   },
   "outputs": [],
   "source": [
    "def shallowCopy(array):              # Create shallow copies for arrays to prevent different variables from pointing to the same\n",
    "    if len(array.shape) > 1:         # memory location\n",
    "        newArray = np.zeros((array.shape[0],array.shape[1]))\n",
    "        for ii in range(0,array.shape[0]):\n",
    "            for jj in range(0,array.shape[1]):\n",
    "                newArray[ii,jj] = array[ii,jj]\n",
    "    else:\n",
    "        newArray = np.zeros(len(array))\n",
    "        for ii in range(0,len(array)):\n",
    "            newArray[ii] = array[ii]\n",
    "    return newArray"
   ]
  },
  {
   "cell_type": "code",
   "execution_count": 21,
   "metadata": {
    "collapsed": true
   },
   "outputs": [],
   "source": [
    "def kmeansPlus(data,K):\n",
    "    N = data.shape[1]\n",
    "    D = data.shape[0]\n",
    "    responsibilities = np.zeros((K,N))\n",
    "    meansInit = np.zeros((D,K))\n",
    "    u = np.random.uniform(0,1)\n",
    "    randInd = np.floor(u*N)\n",
    "    meansInit[:,0] = data[:,randInd]\n",
    "    minDist = np.zeros(N)\n",
    "    for kk in range(1,K):\n",
    "        for ii in range(0,N):\n",
    "            minDist[ii] = np.sqrt(sum((data[:,ii]-meansInit[:,0])**2))\n",
    "            for jj in range(0,kk-1):\n",
    "                currentDist = np.sqrt(sum((data[:,ii]-meansInit[:,jj])**2))\n",
    "                if currentDist < minDist[ii]:\n",
    "                    minDist[ii] = currentDist\n",
    "        wDist = (minDist**2)/sum(minDist**2)\n",
    "        resultArray = np.random.multinomial(1, list(wDist), size=1)\n",
    "        for dd in range(0,N):\n",
    "            if resultArray[0][dd] == 1:\n",
    "                chosenInd = dd\n",
    "        meansInit[:,kk] = data[:,chosenInd]\n",
    "    for ii in range(0,N):\n",
    "        minAssignment = 0\n",
    "        minDistance = np.sqrt(sum((data[:,ii]-meansInit[:,0])**2))\n",
    "        for jj in range(1,K):\n",
    "            cDistance = np.sqrt(sum((data[:,ii]-meansInit[:,jj])**2))\n",
    "            if cDistance < minDistance:\n",
    "                minDistance = cDistance\n",
    "                minAssignment = jj\n",
    "        responsibilities[minAssignment,ii] = 1\n",
    "            \n",
    "    oldResp = np.zeros((K,N))\n",
    "    objectiveStream = []\n",
    "    while sum(abs(responsibilities.flatten() - oldResp.flatten())) > 0:\n",
    "        meansK = np.zeros((D,K))\n",
    "        nK = np.zeros(K)\n",
    "        for ii in range(0,K):\n",
    "            nK[ii] = sum(responsibilities[ii,:])\n",
    "            for jj in range(0,N):\n",
    "                meansK[:,ii] = meansK[:,ii] + responsibilities[ii,jj]*data[:,jj]\n",
    "            if nK[ii] > 0:\n",
    "                meansK[:,ii] = meansK[:,ii]/nK[ii]\n",
    "            else:\n",
    "                u = np.random.uniform(0,1)\n",
    "                pickInd = int(np.floor(u*N))\n",
    "                meansK[:,ii] = data[:,pickInd]\n",
    "        oldResp = shallowCopy(responsibilities)\n",
    "        responsibilities = np.zeros((K,N))\n",
    "        respVec = np.zeros(N)\n",
    "        objectiveValue = 0\n",
    "        objectiveVec = np.zeros(N)\n",
    "        for ii in range(0,N):\n",
    "            minAssignment = 0\n",
    "            minDistance = np.sqrt(sum((data[:,ii]-meansK[:,0])**2))\n",
    "            for jj in range(1,K):\n",
    "                cDistance = np.sqrt(sum((data[:,ii]-meansK[:,jj])**2))\n",
    "                if cDistance < minDistance:\n",
    "                    minDistance = cDistance\n",
    "                    minAssignment = jj\n",
    "            responsibilities[minAssignment,ii] = 1\n",
    "            respVec[ii] = minAssignment\n",
    "            objectiveValue = objectiveValue + minDistance\n",
    "            objectiveVec[ii] = minDistance\n",
    "        objectiveStream.append(objectiveValue)\n",
    "        #print(\"Objective Value is: %f\" % objectiveValue)\n",
    "    return responsibilities, respVec, meansK, objectiveValue, objectiveVec, np.array(objectiveStream)"
   ]
  },
  {
   "cell_type": "code",
   "execution_count": 22,
   "metadata": {
    "collapsed": true
   },
   "outputs": [],
   "source": [
    "def getViterbiPath(prices,piVec,transitionMatrix,meanMatrix,varMatrix):\n",
    "    nStates = transitionMatrix.shape[0]\n",
    "    nTime = len(prices[0])\n",
    "    deltaMat = np.zeros((nStates,nTime))\n",
    "    psiMat = np.zeros((nStates,nTime-1))\n",
    "    viterbiPath = np.zeros(nTime)\n",
    "    for ii in range(0,nTime):\n",
    "        if ii == 0:\n",
    "            for jj in range(0,nStates):\n",
    "                if piVec[0][jj] > 0:\n",
    "                    if varMatrix[0][jj] > 0:\n",
    "                        deltaMat[jj,ii] = np.log(piVec[0][jj]) - (1/2)*np.log(2*np.pi*varMatrix[0][jj]) - (.5*(meanMatrix[0][jj] - prices[0][ii])**2)/varMatrix[0][jj] \n",
    "                    else:\n",
    "                        if meanMatrix[0][jj] == prices[0][ii]:\n",
    "                            deltaMat[jj,ii] = np.log(piVec[0][jj]) \n",
    "                        else:\n",
    "                            deltaMat[jj,ii] = -np.Inf\n",
    "                else:\n",
    "                    deltaMat[jj,ii] = -np.Inf\n",
    "        else:\n",
    "            for jj in range(0,nStates):\n",
    "                substituteCol = np.copy(transitionMatrix[:,jj])\n",
    "                for kk in range(0,nStates):\n",
    "                    if transitionMatrix[kk,jj] == 0:\n",
    "                        substituteCol[kk] = -np.Inf\n",
    "                    else:\n",
    "                        substituteCol[kk] = np.log(transitionMatrix[kk,jj])\n",
    "                if varMatrix[0,jj] > 0:\n",
    "                    deltaMat[jj,ii] = max(deltaMat[:,ii-1] + substituteCol) - (1/2)*np.log(2*np.pi*varMatrix[0,jj]) - (.5*(prices[0][ii]-meanMatrix[0,jj])**2)/varMatrix[0,jj]\n",
    "                else:\n",
    "                    if prices[0][ii] == meanMatrix[0,jj]:\n",
    "                        deltaMat[jj,ii] = max(deltaMat[:,ii-1] + substituteCol) \n",
    "                    else:\n",
    "                        deltaMat[jj,ii] = -np.Inf\n",
    "                psiMat[jj,ii-1] = np.argmax(deltaMat[:,ii-1] + substituteCol)\n",
    "        if all(deltaMat[:,ii] == -np.inf):\n",
    "            print(\"All -inf\")\n",
    "    viterbiPath[-1] = np.argmax(deltaMat[:,nTime-1])\n",
    "    for ii in range(2,nTime+1):\n",
    "        viterbiPath[-ii] = psiMat[viterbiPath[-ii+1],nTime-ii]\n",
    "    return viterbiPath"
   ]
  },
  {
   "cell_type": "code",
   "execution_count": 23,
   "metadata": {
    "collapsed": true
   },
   "outputs": [],
   "source": [
    "def getLogLik(prices,stateVec,piVec,transitionMatrix,meanMatrix,varMatrix):\n",
    "    logLik = 0\n",
    "    for ii in range(0,len(prices[0])):\n",
    "        if varMatrix[0,stateVec[0][ii]] > 0:\n",
    "            logLik = logLik - ((.5*(prices[0][ii]-meanMatrix[0,stateVec[0][ii]])**2)/(varMatrix[0,stateVec[0][ii]])) - (1/2)*np.log(2*np.pi*varMatrix[0,stateVec[0][ii]])\n",
    "        else:\n",
    "            if prices[0][ii] != meanMatrix[0,stateVec[0][ii]]:\n",
    "                logLik = -np.Inf\n",
    "                break\n",
    "        if ii == 0:\n",
    "            logLik = logLik + np.log(piVec[0,stateVec[0][ii]])\n",
    "        if ii < len(prices)-1:\n",
    "            logLik = logLik + np.log(transitionMatrix[stateVec[0][ii],stateVec[0][ii+1]])\n",
    "    return logLik"
   ]
  },
  {
   "cell_type": "code",
   "execution_count": 24,
   "metadata": {
    "collapsed": false
   },
   "outputs": [],
   "source": [
    "def trainDataHMM(prices, nStates, nComponents, logLikThresh):\n",
    "    nTime = len(prices[0])\n",
    "    respMat, stateVec, meansK, objValue, objVec, ojbStream = kmeansPlus(prices,nStates)\n",
    "    stateVec = np.reshape(stateVec,(1,len(stateVec)))\n",
    "    meanMatrix = np.zeros((nComponents,nStates))\n",
    "    varMatrix = np.zeros((nComponents,nStates))\n",
    "    for ii in range(0,nStates):\n",
    "        nGroup = sum(stateVec[0] == ii)\n",
    "        if nGroup == 0:\n",
    "            print('initial empty cluster',ii)\n",
    "        dataCurrent = prices[0,stateVec[0] == ii]\n",
    "        if nComponents > 1:\n",
    "            respMatS, stateVecS, meansKS, objValueS, objVecS, ojbStreamS = kmeansPlus(dataCurrent,nComponents)\n",
    "            for jj in range(0,nComponents):\n",
    "                meanMatrix[ii,jj] = np.mean(dataCurrent[stateVecS[0] == jj])\n",
    "                varMatrix[ii,jj] = np.var(dataCurrent[stateVecS[0] == jj])\n",
    "        else:\n",
    "            meanMatrix[0,ii] = np.mean(dataCurrent)\n",
    "            varMatrix[0,ii] = np.var(dataCurrent)\n",
    "            \n",
    "    transitionMatrix = np.zeros((nStates,nStates))\n",
    "    for ii in range(0,nStates):\n",
    "        for jj in range(0,nStates):\n",
    "            den = 0\n",
    "            for kk in range(0,nTime-1):\n",
    "                if (stateVec[0,kk] == ii) & (stateVec[0,kk+1] == jj):\n",
    "                    transitionMatrix[ii,jj] = transitionMatrix[ii,jj] + 1\n",
    "                if stateVec[0,kk] == ii:\n",
    "                    den = den + 1\n",
    "            if den > 0:\n",
    "                transitionMatrix[ii,jj] = transitionMatrix[ii,jj]/den\n",
    "    \n",
    "    initialObs = prices[0][0]\n",
    "    invDist = 1/abs(meansK-initialObs)\n",
    "    piVec = invDist/sum(invDist[0])\n",
    "\n",
    "    currentLogLik = getLogLik(prices,stateVec,piVec,transitionMatrix,meanMatrix,varMatrix)\n",
    "    #print(\"Initial Log Lik is: \", currentLogLik)\n",
    "    #print(\"Initial pi is: \", piVec)\n",
    "    #print(\"Initial transition is: \", transitionMatrix)\n",
    "    #print(\"Initial mean is: \", meanMatrix)\n",
    "    #print(\"Initial var is: \", varMatrix)\n",
    "    #print(\"Initial path is: \", stateVec)\n",
    "    likVec = [currentLogLik]\n",
    "    \n",
    "    newLogLik = 10\n",
    "\n",
    "    while abs(newLogLik - currentLogLik) > logLikThresh:\n",
    "        viterbiPath = getViterbiPath(prices,piVec,transitionMatrix, meanMatrix,varMatrix)\n",
    "        viterbiPath = np.reshape(viterbiPath,(1,len(viterbiPath)))\n",
    "        intermediateLogLik = getLogLik(prices,viterbiPath,piVec,transitionMatrix,meanMatrix,varMatrix)\n",
    "        #print(\"Intermediate log lik is: \",intermediateLogLik)\n",
    "        \n",
    "        meanMatrixNew = np.zeros((nComponents,nStates))\n",
    "        varMatrixNew = np.zeros((nComponents,nStates))\n",
    "        for ii in range(0,nStates):\n",
    "            nGroup = sum(viterbiPath[0] == ii)\n",
    "            if nGroup == 0:\n",
    "                print('empty cluster',ii)\n",
    "            dataCurrent = prices[0,viterbiPath[0] == ii]\n",
    "            if nComponents > 1:\n",
    "                respMatS, stateVec, meansKS, objValueS, objVecS, ojbStreamS = kmeansPlus(dataCurrent,nComponents)\n",
    "                for jj in range(0,nComponents):\n",
    "                    meanMatrixNew[ii,jj] = np.mean(dataCurrent[stateVec[0] == jj])\n",
    "                    varMatrixNew[ii,jj] = np.var(dataCurrent[stateVec[0] == jj])   \n",
    "            else:\n",
    "                meanMatrixNew[0,ii] = np.mean(dataCurrent)\n",
    "                varMatrixNew[0,ii] = np.var(dataCurrent)\n",
    "        transitionMatrixNew = np.zeros((nStates,nStates))\n",
    "      \n",
    "        for ii in range(0,nStates):\n",
    "            for jj in range(0,nStates):\n",
    "                den = 0\n",
    "                for kk in range(0,nTime-1):\n",
    "                    if (viterbiPath[0,kk] == ii) & (viterbiPath[0,kk+1] == jj):\n",
    "                        transitionMatrixNew[ii,jj] = transitionMatrixNew[ii,jj] + 1\n",
    "                    if viterbiPath[0,kk] == ii:\n",
    "                        den = den + 1\n",
    "                if den > 0:\n",
    "                    transitionMatrixNew[ii,jj] = transitionMatrixNew[ii,jj]/den\n",
    "        meansKNew = np.zeros((nComponents,nStates))\n",
    "        for ii in range(0,nStates):\n",
    "            meansKNew[0,ii] = np.mean(prices[0][viterbiPath[0] == ii])\n",
    "        invDistNew = 1/abs(meansKNew-initialObs)\n",
    "        piVecNew = invDistNew/sum(invDistNew[0])\n",
    "        \n",
    "        newLogLik = getLogLik(prices,viterbiPath,piVecNew,transitionMatrixNew,meanMatrixNew,varMatrixNew)\n",
    "        \n",
    "        if newLogLik > currentLogLik:\n",
    "            likVec.append(newLogLik)\n",
    "            piVec = np.copy(piVecNew)\n",
    "            transitionMatrix = np.copy(transitionMatrixNew)\n",
    "            meanMatrix = np.copy(meanMatrixNew)\n",
    "            varMatrix = np.copy(varMatrixNew)\n",
    "            stateVec = np.copy(viterbiPath)\n",
    "            currentLogLik = newLogLik\n",
    "            \n",
    "            #print(\"New Log Lik is: \", currentLogLik)\n",
    "            #print(\"New pi is: \", piVec)\n",
    "            #print(\"New transition is: \", transitionMatrix)\n",
    "            #print(\"New mean is: \", meanMatrix)\n",
    "            #print(\"New var is: \", varMatrix)\n",
    "            #print(\"New path is: \", stateVec)\n",
    "        else:\n",
    "            #print(\"Worse Candidate Log Lik is: \", newLogLik)\n",
    "            #print(\"Worse path is: \",viterbiPath)\n",
    "            break\n",
    "        \n",
    "    return piVec, transitionMatrix, meanMatrix, varMatrix, likVec, stateVec"
   ]
  },
  {
   "cell_type": "code",
   "execution_count": 24,
   "metadata": {
    "collapsed": false
   },
   "outputs": [],
   "source": [
    "trainBuy = np.reshape(buyPrices1_train,(1,buyPrices1_train.shape[0]))\n",
    "piVec, transitionMatrix, meanMatrix, varMatrix, likVec, stateVec = trainDataHMM(trainBuy, 2, 1, 0.1)"
   ]
  },
  {
   "cell_type": "code",
   "execution_count": 25,
   "metadata": {
    "collapsed": false
   },
   "outputs": [],
   "source": [
    "yTrain = trainBuy[0]\n",
    "yTrade = buyPrices1_trade\n",
    "timeIndTrain = np.linspace(0,len(yTrain)-1,len(yTrain))\n",
    "timeIndTrade = len(yTrain) + np.linspace(0,len(yTrade)-1,len(yTrade))\n",
    "plt.plot(timeIndTrain[stateVec[0]==0],yTrain[stateVec[0]==0],'b.',label='Train Clust 1')\n",
    "plt.plot(timeIndTrain[stateVec[0]==1],yTrain[stateVec[0]==1],'g.',label='Train Clust 2')\n",
    "plt.plot(timeIndTrade,yTrade,'r.',label='Trade')\n",
    "plt.legend(loc=(0,.7))\n",
    "plt.ylabel('BTC Price')\n",
    "plt.xlabel('Tick')\n",
    "plt.title('Training and Trade')\n",
    "plt.show()"
   ]
  },
  {
   "cell_type": "code",
   "execution_count": 25,
   "metadata": {
    "collapsed": true
   },
   "outputs": [],
   "source": [
    "def balanceLogSum(logs):\n",
    "    if sum(logs != -np.Inf) == 0:\n",
    "        return -np.Inf\n",
    "    else:\n",
    "        logM = logs[logs != -np.Inf]\n",
    "        maxLS = max(logM)\n",
    "        lb = maxLS - 50\n",
    "        return lb + np.log(sum(np.exp(logM - lb)))"
   ]
  },
  {
   "cell_type": "code",
   "execution_count": 26,
   "metadata": {
    "collapsed": false
   },
   "outputs": [],
   "source": [
    "def getAlpha(currentWindow,nStates,piVec,transitionMatrix,meanMatrix,varMatrix,stopFlag):\n",
    "       \n",
    "    alphaMat = np.zeros((nStates,len(currentWindow)))\n",
    "    logAlphaNorm = np.zeros((nStates,len(currentWindow)))\n",
    "    \n",
    "    for iState in range(0,nStates):\n",
    "        var = varMatrix[0][iState]\n",
    "        if var > 0:\n",
    "            if piVec[0][iState] > 0:\n",
    "                alphaMat[iState,0] = np.log(piVec[0][iState]) - ((.5*(currentWindow[0]-meanMatrix[0][iState])**2)/var)-(1/2)*np.log(2*np.pi*var)\n",
    "            else:\n",
    "                alphaMat[iState,0] = -np.Inf\n",
    "        else:\n",
    "            if currentWindow[0] == meanMatrix[0][iState]:\n",
    "                if piVec[0][iState] > 0:\n",
    "                    alphaMat[iState,0] = np.log(piVec[0][iState])\n",
    "                else:\n",
    "                    alphaMat[iState,0] = -np.Inf\n",
    "            else:\n",
    "                alphaMat[iState,0] = -np.Inf\n",
    "        if all(alphaMat[:,0] == -np.Inf):\n",
    "            print(\"both -inf\")\n",
    "            print(\"alpha: \",alphaMat)\n",
    "            print(\"pi: \",piVec[0])\n",
    "            print(\"var: \",varMatrix[0])\n",
    "            print(\"mean: \",meanMatrix[0])\n",
    "            print(\"value: \",currentWindow[0])\n",
    "            print(\"transition: \",transitionMatrix)\n",
    "            print(\"window: \",currentWindow)\n",
    "            return\n",
    "        \n",
    "    for iTime in range(1,len(currentWindow)):\n",
    "        for iState in range(0,nStates):\n",
    "            logTransitionColumn = np.log(transitionMatrix[:,iState])\n",
    "            logSum = logTransitionColumn + alphaMat[:,iTime-1]\n",
    "            var = varMatrix[0][iState]\n",
    "            if var > 0:\n",
    "                logObs = - ((.5*(currentWindow[iTime]-meanMatrix[0][iState])**2)/var)-(1/2)*np.log(2*np.pi*var)\n",
    "            else:\n",
    "                if currentWindow[iTime] == meanMatrix[0][iState]:\n",
    "                    logObs = 0\n",
    "                else:\n",
    "                    logObs = -np.Inf\n",
    "            alphaMat[iState,iTime] = logObs + balanceLogSum(logSum)\n",
    "            if math.isnan(alphaMat[iState,iTime]):\n",
    "                print(\"alpha: \",alphaMat[:,0:iTime+1])\n",
    "                print(\"time: \",iTime)\n",
    "                print(\"state: \",iState)\n",
    "                print(\"log t: \",logTransitionColumn)\n",
    "                print(\"trans mat: \",transitionMatrix)\n",
    "                print(\"log sum: \",logSum)\n",
    "                print(\"var vec: \",varMatrix)\n",
    "                print(\"logObs: \",logObs)\n",
    "                print(\"balSum: \",balanceLogSum(logSum))\n",
    "                return\n",
    "    for ii in range(0,len(currentWindow)):\n",
    "        balancedLogSum = balanceLogSum(alphaMat[:,ii])\n",
    "        if balancedLogSum == -np.Inf:\n",
    "            print('error alpha')\n",
    "            print('alpha column: ',alphaMat[:,ii])\n",
    "            print('alpha: ',alphaMat)\n",
    "            print(\"trans mat: \",transitionMatrix)\n",
    "            print(\"log sum: \",logSum)\n",
    "            print(\"var vec: \",varMatrix)\n",
    "            print(\"logObs: \",logObs)\n",
    "            return\n",
    "        for iS in range(0,nStates):\n",
    "            if alphaMat[iS,ii] == -np.Inf:\n",
    "                logAlphaNorm[iS,ii] = -np.Inf\n",
    "            else:\n",
    "                logAlphaNorm[iS,ii] = alphaMat[iS,ii] - balancedLogSum\n",
    "    alphaNorm = np.exp(logAlphaNorm)\n",
    "    logPass = alphaMat[:,len(currentWindow)-1]\n",
    "    logPObs = balanceLogSum(logPass)\n",
    "    \n",
    "    return alphaMat, alphaNorm, logPObs"
   ]
  },
  {
   "cell_type": "code",
   "execution_count": 27,
   "metadata": {
    "collapsed": false
   },
   "outputs": [],
   "source": [
    "def getBeta(currentWindow,nStates,transitionMatrix,meanMatrix,varMatrix):\n",
    "    betaMat = np.zeros((nStates,len(currentWindow)))\n",
    "    logBetaNorm = np.zeros((nStates,len(currentWindow)))\n",
    "    #if any(varMatrix[0] == 0):\n",
    "        #print(\"zero var\")\n",
    "    for iTime in range(2,len(currentWindow)+1):\n",
    "        logObs = np.zeros(nStates)\n",
    "        for iS in range(0,nStates):\n",
    "            var = varMatrix[0][iS]\n",
    "            if var > 0:\n",
    "                logObs[iS] = -((.5*(currentWindow[-iTime+1]-meanMatrix[0][iS])**2)/var)-(1/2)*np.log(2*np.pi*var)\n",
    "            else:\n",
    "                if currentWindow[-iTime + 1] == meanMatrix[0][iS]:\n",
    "                    logObs[iS] = 0\n",
    "                else:\n",
    "                    logObs[iS] = -np.Inf\n",
    "        for iState in range(0,nStates):\n",
    "            substituteRow = np.copy(transitionMatrix[iState,:])\n",
    "            for jj in range(0,nStates):\n",
    "                if transitionMatrix[iState,jj] == 0:\n",
    "                    substituteRow[jj] = -np.Inf\n",
    "                else:\n",
    "                    substituteRow[jj] = np.log(transitionMatrix[iState,jj])\n",
    "            logSum = substituteRow + betaMat[:,-iTime+1] + logObs\n",
    "            betaMat[iState,-iTime] = balanceLogSum(logSum)\n",
    "    for ii in range(0,len(currentWindow)):\n",
    "        logSum = betaMat[:,ii]\n",
    "        balancedLogSum = balanceLogSum(logSum)\n",
    "        logBetaNorm[:,ii] = betaMat[:,ii] - balancedLogSum\n",
    "    betaNorm = np.exp(logBetaNorm)\n",
    "    return betaMat, betaNorm"
   ]
  },
  {
   "cell_type": "code",
   "execution_count": 28,
   "metadata": {
    "collapsed": false
   },
   "outputs": [],
   "source": [
    "def tradeHMM(buyData, tradeStart, nStates, nComponents, piVec, transitionMatrix, meanMatrix, varMatrix, npred, windowLength, threshold, discount):\n",
    "    #npred = len(buyData[0]) - tradeStart -1\n",
    "    predictionDir = np.zeros(npred)\n",
    "    predictionDirMomentum = np.zeros(npred)\n",
    "    truthDir = np.zeros(npred)\n",
    "    prediction = np.zeros(npred)\n",
    "    changeState = np.zeros(npred)\n",
    "    truth = np.zeros(npred)\n",
    "    betPrice = np.zeros(npred)\n",
    "    stateTrack = [[] for ii in range(0,npred-1)]\n",
    "    meanTrack = [[] for ii in range(0,npred-1)]\n",
    "    meanAll = np.zeros((nStates,npred))\n",
    "    varAll = np.zeros((nStates,npred))\n",
    "    pTrack = []\n",
    "    piVec0 = np.copy(piVec)\n",
    "    transitionMatrix0 = np.copy(transitionMatrix)\n",
    "    meanMatrix0 = np.copy(meanMatrix)\n",
    "    varMatrix0 = np.copy(varMatrix)\n",
    "    \"\"\"\n",
    "    piVec = np.copy(piVec + np.random.uniform(0,1,2))\n",
    "    piVec = np.copy(piVec / sum(piVec[0]))\n",
    "    transitionMatrix = np.copy(transitionMatrix.flatten() + np.random.uniform(0,1,4))\n",
    "    transitionMatrix = np.reshape(transitionMatrix,(2,2))\n",
    "    transitionMatrix[0,:] = transitionMatrix[0,:]/sum(transitionMatrix[0,:])\n",
    "    transitionMatrix[1,:] = transitionMatrix[1,:]/sum(transitionMatrix[1,:])\n",
    "    meanMatrix = np.copy(meanMatrix + np.random.uniform(-1,1,2))\n",
    "    varMatrix = np.copy(varMatrix + np.random.uniform(-min(varMatrix.flatten())/2,min(varMatrix.flatten())/2,2))\n",
    "    \"\"\"\n",
    "    for uu in range(tradeStart,tradeStart+npred):\n",
    "        pObsNew = 10\n",
    "        pObsCurrent = 0\n",
    "        currentWindow = buyData[0,uu-windowLength:uu]\n",
    "        pTracker = []\n",
    "        if uu > tradeStart:\n",
    "            piVec = np.copy(piVec0)\n",
    "            transitionMatrix = np.copy(transitionMatrix0)\n",
    "            meanMatrix = np.copy(meanMatrix0)\n",
    "            varMatrix = np.copy(varMatrix0)\n",
    "        while pObsNew - pObsCurrent > threshold:\n",
    "                   \n",
    "            alphaCurrent, alphaNorm, pObsCurrent = getAlpha(currentWindow,nStates,piVec,transitionMatrix,meanMatrix,varMatrix,0)\n",
    "            betaCurrent, betaNorm = getBeta(currentWindow,nStates,transitionMatrix,meanMatrix,varMatrix)\n",
    "            pTracker.append(pObsCurrent)\n",
    "            \n",
    "            gammaCurrent = np.zeros((nStates,windowLength))\n",
    "            for hh in range(0,windowLength):\n",
    "                logSum = np.copy(alphaCurrent[:,hh]+betaCurrent[:,hh])\n",
    "                gammaCurrent[:,hh] = np.copy(alphaCurrent[:,hh] + betaCurrent[:,hh] - balanceLogSum(logSum))\n",
    "                \n",
    "            gammaCurrent = np.exp(gammaCurrent)\n",
    "            newPiVec = np.reshape(gammaCurrent[:,0],(nComponents,nStates))\n",
    "            newTransitionMatrix = np.zeros((nStates,nStates))\n",
    "            originalGamma = np.zeros(nStates)\n",
    "            if discount == 1:\n",
    "                discountWindow0 = np.ones(windowLength-1)\n",
    "            else:\n",
    "                discountWindow0 = discount*((1-discount)**(windowLength-1-(np.linspace(0,windowLength-2,windowLength-1))))\n",
    "            for ii in range(0,nStates):\n",
    "                originalGamma[ii] = sum(discountWindow0*gammaCurrent[ii,0:windowLength-1])\n",
    "                \n",
    "            compareGamma = np.zeros(nStates)\n",
    "            currentDens = np.zeros(windowLength-1)\n",
    "            for cc in range(0,windowLength-1):\n",
    "                currentDen = 0\n",
    "                for dd in range(0,nStates):\n",
    "                    for ee in range(0,nStates):\n",
    "                        if varMatrix[0][ee] == 0:\n",
    "                            if currentWindow[cc+1] == meanMatrix[0][ee]:\n",
    "                                currentDen = currentDen + alphaNorm[dd,cc]*transitionMatrix[dd,ee]*betaNorm[ee,cc+1]\n",
    "                        else:\n",
    "                            currentDen = currentDen + alphaNorm[dd,cc]*transitionMatrix[dd,ee]*normal(currentWindow[cc+1],meanMatrix[0][ee],np.sqrt(varMatrix[0][ee]))*betaNorm[ee,cc+1]\n",
    "                currentDens[cc] = currentDen           \n",
    "            for ii in range(0,nStates):\n",
    "                for jj in range(0,nStates):\n",
    "                    for cc in range(0,windowLength-1):\n",
    "                        currentDen = currentDens[cc]\n",
    "                        if currentDen > 0:\n",
    "                            if varMatrix[0][jj] == 0:\n",
    "                                if currentWindow[cc+1] == meanMatrix[0][jj]:\n",
    "                                    if discount == 1:\n",
    "                                        newTransitionMatrix[ii,jj] = newTransitionMatrix[ii,jj] + (alphaNorm[ii,cc]*transitionMatrix[ii,jj]*betaNorm[jj,cc+1])/currentDen\n",
    "                                    else:\n",
    "                                        newTransitionMatrix[ii,jj] = newTransitionMatrix[ii,jj] + discount*((1-discount)**(windowLength-1-cc))*(alphaNorm[ii,cc]*transitionMatrix[ii,jj]*betaNorm[jj,cc+1])/currentDen      \n",
    "                            else:\n",
    "                                if discount == 1:\n",
    "                                    newTransitionMatrix[ii,jj] = newTransitionMatrix[ii,jj] + (alphaNorm[ii,cc]*transitionMatrix[ii,jj]*normal(currentWindow[cc+1],meanMatrix[0][jj],np.sqrt(varMatrix[0][jj]))*betaNorm[jj,cc+1])/currentDen\n",
    "                                else:\n",
    "                                    newTransitionMatrix[ii,jj] = newTransitionMatrix[ii,jj] + discount*((1-discount)**(windowLength-1-cc))*(alphaNorm[ii,cc]*transitionMatrix[ii,jj]*normal(currentWindow[cc+1],meanMatrix[0][jj],np.sqrt(varMatrix[0][jj]))*betaNorm[jj,cc+1])/currentDen\n",
    "                            if jj == 0:\n",
    "                                for ff in range(0,nStates):\n",
    "                                    if varMatrix[0][ff] > 0:\n",
    "                                        if discount == 1:\n",
    "                                            compareGamma[ii] = compareGamma[ii] + (alphaNorm[ii,cc]*transitionMatrix[ii,ff]*normal(currentWindow[cc+1],meanMatrix[0][ff],np.sqrt(varMatrix[0][ff]))*betaNorm[ff,cc+1])/currentDen\n",
    "                                        else:\n",
    "                                            compareGamma[ii] = compareGamma[ii] + discount*((1-discount)**(windowLength-1-cc))*(alphaNorm[ii,cc]*transitionMatrix[ii,ff]*normal(currentWindow[cc+1],meanMatrix[0][ff],np.sqrt(varMatrix[0][ff]))*betaNorm[ff,cc+1])/currentDen    \n",
    "                                    else:\n",
    "                                        if currentWindow[cc+1] == meanMatrix[0][ff]:\n",
    "                                            if discount == 1:\n",
    "                                                compareGamma[ii] = compareGamma[ii] + (alphaNorm[ii,cc]*transitionMatrix[ii,ff]*betaNorm[ff,cc+1])/currentDen\n",
    "                                            else:\n",
    "                                                compareGamma[ii] = compareGamma[ii] + discount*((1-discount)**(windowLength-1-cc))*(alphaNorm[ii,cc]*transitionMatrix[ii,ff]*betaNorm[ff,cc+1])/currentDen\n",
    "                    if originalGamma[ii] > 0:\n",
    "                        newTransitionMatrix[ii,jj] = newTransitionMatrix[ii,jj] / originalGamma[ii]\n",
    "                    else:\n",
    "                        if newTransitionMatrix[ii,jj] != 0:\n",
    "                            print('error trans compute: original')\n",
    "                                       \n",
    "            newMeanMatrix = np.zeros((nComponents,nStates))\n",
    "            newVarMatrix = np.zeros((nComponents,nStates))\n",
    "            if discount == 1:\n",
    "                discountWindow = np.ones(windowLength)\n",
    "            else:\n",
    "                discountWindow = (discount*((1-discount)**(windowLength-1-(np.linspace(0,windowLength-1,windowLength)))))\n",
    "            for ii in range(0,nStates):\n",
    "                if sum(gammaCurrent[ii,:]) > 0:\n",
    "                    valStore = np.copy(gammaCurrent[ii,:]*currentWindow)\n",
    "                    newMeanMatrix[0,ii] = sum(discountWindow*valStore)/sum(discountWindow*gammaCurrent[ii,:])\n",
    "                    valStore2 = np.copy(gammaCurrent[ii,:]*((currentWindow-newMeanMatrix[0,ii])**2))\n",
    "                    newVarMatrix[0,ii] = sum(discountWindow*valStore2)/sum(discountWindow*gammaCurrent[ii,:])\n",
    "            \"\"\"\n",
    "            if any(newVarMatrix[0] == 0):\n",
    "                print(\"gamma: \",gammaCurrent)\n",
    "                print(\"old pi: \",piVec)\n",
    "                print(\"means: \",newMeanMatrix)\n",
    "                print(\"vars: \",newVarMatrix)\n",
    "                print(\"window: \",currentWindow)\n",
    "                print(\"trans: \",newTransitionMatrix)\n",
    "                print(\"alpha: \",alphaCurrent)\n",
    "                print(\"beta: \",betaCurrent)\n",
    "                print(\"alpha norm: \",alphaNorm)\n",
    "                print(\"beta norm: \",betaNorm)\n",
    "                print(\"original gamma: \",originalGamma)\n",
    "                print(\"compare gamma: \",compareGamma)\n",
    "            \"\"\"\n",
    "            transitionNumbers = newTransitionMatrix.flatten()\n",
    "            for iTrans in range(0,len(transitionNumbers)):\n",
    "                if math.isnan(transitionNumbers[iTrans]):\n",
    "                    print(\"Nan transition:\", newTransitionMatrix)\n",
    "                    print(\"old transition: \", transitionMatrix)\n",
    "                    print(\"gamma: \",originalGamma)\n",
    "                    print(\"alpha norm: \",alphaNorm)\n",
    "                    print(\"beta norm: \",betaNorm)\n",
    "                    print(\"mean matrix: \",meanMatrix)\n",
    "                    print(\"var matrix: \",varMatrix)\n",
    "                    return\n",
    "            if sum(newTransitionMatrix.flatten() != 0) == 0:\n",
    "                print('trans error: all zero')\n",
    "                print(\"old transition: \", transitionMatrix)\n",
    "                print(\"gamma: \",originalGamma)\n",
    "                print(\"alpha norm: \",alphaNorm)\n",
    "                print(\"beta norm: \",betaNorm)\n",
    "                print(\"mean matrix: \",meanMatrix)\n",
    "                print(\"var matrix: \",varMatrix)\n",
    "                return\n",
    "            for ii in range(0,len(newVarMatrix[0])):\n",
    "                if newVarMatrix[0][ii] == 0:\n",
    "                    newVarMatrix[0][ii] = 10**-10\n",
    "            newAlpha, newAlphaNorm, pObsNew = getAlpha(currentWindow,nStates,newPiVec,newTransitionMatrix,newMeanMatrix,newVarMatrix,1)\n",
    "            \n",
    "            pTracker.append(pObsNew)\n",
    "            \"\"\"    \n",
    "            if pObsCurrent > pObsNew + .01:\n",
    "                print(\"original gamma\", originalGamma)\n",
    "                print(\"compare gamma\", compareGamma)\n",
    "                print(\"old transition\",transitionMatrix)\n",
    "                print(\"new transition\", newTransitionMatrix)\n",
    "                print(\"old pi\", piVec)\n",
    "                print(\"new pi\", newPiVec)\n",
    "                print(\"old mean\", meanMatrix)\n",
    "                print(\"new mean\", newMeanMatrix)\n",
    "                print(\"old var\", varMatrix)\n",
    "                print(\"new var\", newVarMatrix)\n",
    "                print(\"old alpha\",alphaCurrent)\n",
    "                print(\"new alpha\",newAlpha)\n",
    "                print(\"p old\",pObsCurrent)\n",
    "                print(\"p new\",pObsNew)\n",
    "            \n",
    "            if uu == tradeStart:\n",
    "                print(\"original gamma\", originalGamma)\n",
    "                print(\"compare gamma\", compareGamma)\n",
    "                print(\"old transition\",transitionMatrix)\n",
    "                print(\"new transition\", newTransitionMatrix)\n",
    "                print(\"old pi\", piVec)\n",
    "                print(\"new pi\", newPiVec)\n",
    "                print(\"old mean\", meanMatrix)\n",
    "                print(\"new mean\", newMeanMatrix)\n",
    "                print(\"old var\", varMatrix)\n",
    "                print(\"new var\", newVarMatrix)\n",
    "                print(\"old alpha\",alphaCurrent)\n",
    "                print(\"new alpha\",newAlpha)\n",
    "                print(\"p old\",pObsCurrent)\n",
    "                print(\"p new\",pObsNew)\n",
    "                return\n",
    "            \"\"\"\n",
    "            if pObsNew > pObsCurrent:\n",
    "                piVec = np.copy(newPiVec)\n",
    "                transitionMatrix = np.copy(newTransitionMatrix)\n",
    "                meanMatrix = np.copy(newMeanMatrix)\n",
    "                varMatrix = np.copy(newVarMatrix)\n",
    "            else:\n",
    "                break\n",
    "        \n",
    "        viterbiPath = getViterbiPath(np.reshape(currentWindow,(1,len(currentWindow))),piVec,transitionMatrix, meanMatrix,varMatrix)\n",
    "        maxNextState = np.argmax(transitionMatrix[viterbiPath[-1],:])\n",
    "        predictionDir[uu-tradeStart] = np.sign(meanMatrix[0,maxNextState]-buyData[0,uu-1])\n",
    "        if viterbiPath[-1] != np.argmax(transitionMatrix[viterbiPath[-1],:]):\n",
    "            changeState[uu-tradeStart] = 1\n",
    "        else:\n",
    "            changeState[uu-tradeStart] = 0\n",
    "        if (currentWindow[-1]-meanMatrix[0,viterbiPath[-1]])/np.sqrt(varMatrix[0,viterbiPath[-1]]) > .7:\n",
    "            predictionDirMomentum[uu-tradeStart] = -1\n",
    "        elif (currentWindow[-1]-meanMatrix[0,viterbiPath[-1]])/np.sqrt(varMatrix[0,viterbiPath[-1]]) < -.7:\n",
    "            predictionDirMomentum[uu-tradeStart] = 1\n",
    "        else:\n",
    "            predictionDirMomentum[uu-tradeStart] = 0\n",
    "            \n",
    "        truthDir[uu-tradeStart] = np.sign(buyData[0,uu]-buyData[0,uu-1])\n",
    "        prediction[uu-tradeStart] = meanMatrix[0,np.argmax(transitionMatrix[viterbiPath[-1],:])]\n",
    "        for iS in range(0,nStates):\n",
    "            meanAll[iS,uu-tradeStart] = meanMatrix[0,iS]\n",
    "            varAll[iS,uu-tradeStart] = varMatrix[0,iS]\n",
    "        if uu > tradeStart:\n",
    "            stateTrack[uu-tradeStart-1].append(viterbiPath[-1])\n",
    "            meanTrack[uu-tradeStart-1].append(meanMatrix[0,viterbiPath[-1]])\n",
    "            backStep = min(windowLength-1,uu-tradeStart-1)\n",
    "            if backStep > 0:\n",
    "                for jj in range(1,backStep+1):\n",
    "                    stateTrack[uu-tradeStart-1-jj].append(viterbiPath[-1-jj])\n",
    "                    meanTrack[uu-tradeStart-1-jj].append(meanMatrix[0,viterbiPath[-1-jj]])\n",
    "        truth[uu-tradeStart] = buyData[0,uu]\n",
    "        betPrice[uu-tradeStart] = buyData[0,uu-1]\n",
    "        pTrack.append(pTracker)\n",
    "        #print(\"p track\", pTracker)\n",
    "        #print(\"pred\",meanMatrix[0,np.argmax(transitionMatrix[viterbiPath[-1],:])])\n",
    "        #print(\"actual\",buyData[0,uu+1])\n",
    "        #print(\"pred dir\",prediction[uu])\n",
    "        #print(\"actual dir\",truth[uu])\n",
    "        #print(\"next pi\",piVec)\n",
    "        #print(\"next transition\",transitionMatrix)\n",
    "        #print(\"next mean\",meanMatrix)\n",
    "        #print(\"next var\",varMatrix)\n",
    "           \n",
    "    return truthDir, predictionDir, predictionDirMomentum, betPrice, stateTrack, meanTrack, meanAll, varAll, changeState, truth, prediction, pTrack"
   ]
  },
  {
   "cell_type": "code",
   "execution_count": 29,
   "metadata": {
    "collapsed": true
   },
   "outputs": [],
   "source": [
    "def FscoreTradeParam(predictionDirList, truthDir, windowLength):\n",
    "    FscoreDir = np.zeros(len(predictionDirList[0]))\n",
    "    nStrategies = len(predictionDirList)\n",
    "    for ii in range(0,len(predictionDirList[0])):\n",
    "        if ii == 0:\n",
    "            runsum = 0\n",
    "            for jj in range(0,nStrategies):\n",
    "                runsum = runsum + predictionDirList[jj][ii]\n",
    "            FscoreDir[ii] = runsum/nStrategies\n",
    "        else:\n",
    "            backStep = min(windowLength,ii)\n",
    "            Fscores = np.zeros(nStrategies)\n",
    "            preds = np.zeros(nStrategies)\n",
    "            for jj in range(0,nStrategies):\n",
    "                histPred = predictionDirList[jj][ii-backStep:ii]\n",
    "                truth = truthDir[ii-backStep:ii]\n",
    "                preds[jj] = predictionDirList[jj][ii]\n",
    "                releventSignals = (truth != 0)\n",
    "                recall = sum(histPred[releventSignals] == truth[releventSignals])/sum(releventSignals)\n",
    "                retrievedSignals = (histPred != 0)\n",
    "                precision = sum(histPred[retrievedSignals] == truth[retrievedSignals])/sum(retrievedSignals)\n",
    "                Fscores[jj] = 2*precision*recall/(precision+recall)\n",
    "            FscoreDir[ii] = sum(Fscores*preds)/sum(Fscores)\n",
    "    return FscoreDir"
   ]
  },
  {
   "cell_type": "code",
   "execution_count": 44,
   "metadata": {
    "collapsed": true
   },
   "outputs": [],
   "source": [
    "trainBuy = np.reshape(buyPrices1_train,(1,buyPrices1_train.shape[0]))\n",
    "piVecB, transitionMatrixB, meanMatrixB, varMatrixB, likVecB, stateVecB = trainDataHMM(trainBuy, 4, 1, 0.1)\n",
    "trainSell = np.reshape(sellPrices1_train,(1,sellPrices1_train.shape[0]))\n",
    "piVecS, transitionMatrixS, meanMatrixS, varMatrixS, likVecS, stateVecS = trainDataHMM(trainSell, 4, 1, 0.1)"
   ]
  },
  {
   "cell_type": "code",
   "execution_count": 45,
   "metadata": {
    "collapsed": false
   },
   "outputs": [],
   "source": [
    "buyCombine = np.zeros(50 + len(buyPrices1_trade))\n",
    "sellCombine = np.zeros(50 + len(sellPrices1_trade))\n",
    "buyCombine[0:50] = np.copy(buyPrices1_train[len(buyPrices1_train)-50:len(buyPrices1_train)]) \n",
    "buyCombine[50:] = np.copy(buyPrices1_trade) \n",
    "sellCombine[0:50] = np.copy(sellPrices1_train[len(sellPrices1_train)-50:len(sellPrices1_train)]) \n",
    "sellCombine[50:] = np.copy(sellPrices1_trade) \n",
    "timesPred = np.copy(buyTimes1_trade)"
   ]
  },
  {
   "cell_type": "code",
   "execution_count": 89,
   "metadata": {
    "collapsed": false
   },
   "outputs": [
    {
     "data": {
      "text/plain": [
       "29490"
      ]
     },
     "execution_count": 89,
     "metadata": {},
     "output_type": "execute_result"
    }
   ],
   "source": [
    "len(buyCombine) - tradeStart"
   ]
  },
  {
   "cell_type": "code",
   "execution_count": 100,
   "metadata": {
    "collapsed": false
   },
   "outputs": [
    {
     "name": "stdout",
     "output_type": "stream",
     "text": [
      "total time spent: 3314.193000\n"
     ]
    },
    {
     "name": "stderr",
     "output_type": "stream",
     "text": [
      "C:\\Users\\draj36\\Anaconda2\\lib\\site-packages\\IPython\\kernel\\__main__.py:34: RuntimeWarning: divide by zero encountered in log\n"
     ]
    }
   ],
   "source": [
    "import time\n",
    "startExec = time.time()\n",
    "buyData = np.reshape(buyCombine,(1,len(buyCombine)))\n",
    "sellData = np.reshape(sellCombine,(1,len(sellCombine)))\n",
    "tradeStart = 50\n",
    "windowLength = 10\n",
    "discount = 1\n",
    "npred = len(buyCombine) - tradeStart\n",
    "nStates = 4\n",
    "truthDirB,predictionDirB,predictionDirMomentumB,betPriceB,stateTrackB,meanTrackB,meanAllB,varAllB,changeStateB,truthB,predictionB,pTrackB = tradeHMM(buyData, tradeStart, nStates, 1, piVecB, transitionMatrixB, meanMatrixB, varMatrixB, npred, windowLength, 0.1, discount)\n",
    "truthDirS,predictionDirS,predictionDirMomentumS,betPriceS,stateTrackS,meanTrackS,meanAllS,varAllS,changeStateS,truthS,predictionS,pTrackS = tradeHMM(sellData, tradeStart, nStates, 1, piVecS, transitionMatrixS, meanMatrixS, varMatrixS, npred, windowLength, 0.1, discount)\n",
    "endExec = time.time()\n",
    "totalTime = endExec - startExec\n",
    "print \"total time spent: %f\" % totalTime"
   ]
  },
  {
   "cell_type": "code",
   "execution_count": 221,
   "metadata": {
    "collapsed": true
   },
   "outputs": [],
   "source": [
    "np.savetxt('predictionDirBuyMomentum_0_4.txt', predictionDirMomentumB, delimiter=',')\n",
    "np.savetxt('predictionDirSellMomentum_0_4.txt', predictionDirMomentumS, delimiter=',')\n",
    "np.savetxt('predictionDirBuy_0_4.txt', predictionDirB, delimiter=',')\n",
    "np.savetxt('predictionDirSell_0_4.txt', predictionDirS, delimiter=',')\n",
    "np.savetxt('predictionBuy_0_4.txt', predictionB, delimiter=',')\n",
    "np.savetxt('predictionSell_0_4.txt', predictionS, delimiter=',')\n",
    "with file('meanBuy_0_4.txt', 'w') as outfile:\n",
    "    for data_slice in meanAllB:\n",
    "        np.savetxt(outfile, data_slice, fmt='%-7.7f')\n",
    "with file('meanSell_0_4.txt', 'w') as outfile:\n",
    "    for data_slice in meanAllS:\n",
    "        np.savetxt(outfile, data_slice, fmt='%-7.7f')\n",
    "with file('varBuy_0_4.txt', 'w') as outfile:\n",
    "    for data_slice in varAllB:\n",
    "        np.savetxt(outfile, data_slice, fmt='%-7.7f')\n",
    "with file('varSell_0_4.txt', 'w') as outfile:\n",
    "    for data_slice in varAllS:\n",
    "        np.savetxt(outfile, data_slice, fmt='%-7.7f')"
   ]
  },
  {
   "cell_type": "code",
   "execution_count": 101,
   "metadata": {
    "collapsed": false
   },
   "outputs": [
    {
     "name": "stdout",
     "output_type": "stream",
     "text": [
      "HMM Buy accuracy:  0.383282468633\n",
      "Momentum HMM Buy accuracy:  0.503797897592\n",
      "HMM Sell accuracy:  0.393964055612\n",
      "Momentum HMM Sell accuracy:  0.522550016955\n"
     ]
    }
   ],
   "source": [
    "print \"HMM Buy accuracy: \", sum(truthDirB == predictionDirB)/len(truthDirB)\n",
    "print \"Momentum HMM Buy accuracy: \", sum(truthDirB == predictionDirMomentumB)/len(truthDirB)\n",
    "print \"HMM Sell accuracy: \", sum(truthDirS == predictionDirS)/len(truthDirS)\n",
    "print \"Momentum HMM Sell accuracy: \", sum(truthDirS == predictionDirMomentumS)/len(truthDirS)"
   ]
  },
  {
   "cell_type": "code",
   "execution_count": 258,
   "metadata": {
    "collapsed": false
   },
   "outputs": [
    {
     "name": "stdout",
     "output_type": "stream",
     "text": [
      "RMSE Buy:  2.63814194816\n",
      "RMSE Sell:  4.74119585083\n"
     ]
    }
   ],
   "source": [
    "print \"RMSE Buy: \", np.sqrt(np.mean(abs(predictionB-truthB)**2))\n",
    "print \"RMSE Sell: \", np.sqrt(np.mean(abs(predictionS-truthS)**2))"
   ]
  },
  {
   "cell_type": "code",
   "execution_count": 271,
   "metadata": {
    "collapsed": true
   },
   "outputs": [],
   "source": [
    "plt.plot(betPriceB,'b.')\n",
    "plt.plot(betPriceS,'r.')\n",
    "plt.show()"
   ]
  },
  {
   "cell_type": "code",
   "execution_count": 236,
   "metadata": {
    "collapsed": false
   },
   "outputs": [
    {
     "name": "stdout",
     "output_type": "stream",
     "text": [
      "Profit: $ -1877.904\n"
     ]
    }
   ],
   "source": [
    "profit, bankTracker, assetTracker = simple_trade(betPriceB,betPriceS,truthB[-1],truthS[-1],predictionDirB,predictionDirS)\n",
    "print \"Profit: $\", profit"
   ]
  },
  {
   "cell_type": "code",
   "execution_count": 104,
   "metadata": {
    "collapsed": false
   },
   "outputs": [
    {
     "name": "stderr",
     "output_type": "stream",
     "text": [
      "C:\\Users\\draj36\\Anaconda2\\lib\\site-packages\\IPython\\kernel\\__main__.py:34: RuntimeWarning: divide by zero encountered in log\n",
      "C:\\Users\\draj36\\Anaconda2\\lib\\site-packages\\IPython\\kernel\\__main__.py:38: RuntimeWarning: overflow encountered in double_scalars\n",
      "C:\\Users\\draj36\\Anaconda2\\lib\\site-packages\\IPython\\kernel\\__main__.py:11: RuntimeWarning: overflow encountered in double_scalars\n",
      "C:\\Users\\draj36\\Anaconda2\\lib\\site-packages\\scipy\\stats\\_continuous_distns.py:78: RuntimeWarning: overflow encountered in square\n",
      "  return exp(-x**2/2.0) / _norm_pdf_C\n",
      "C:\\Users\\draj36\\Anaconda2\\lib\\site-packages\\IPython\\kernel\\__main__.py:29: RuntimeWarning: overflow encountered in double_scalars\n"
     ]
    },
    {
     "name": "stdout",
     "output_type": "stream",
     "text": [
      "HMM Buy accuracy:  0.369040352662\n",
      "Momentum HMM Buy accuracy:  0.505561207189\n",
      "HMM Sell accuracy:  0.374499830451\n",
      "Momentum HMM Sell accuracy:  0.506578501187\n",
      "Profit: $ -5814.097\n"
     ]
    }
   ],
   "source": [
    "piVecB2, transitionMatrixB2, meanMatrixB2, varMatrixB2, likVecB2, stateVecB2 = trainDataHMM(trainBuy, 8, 1, 0.1)\n",
    "piVecS2, transitionMatrixS2, meanMatrixS2, varMatrixS2, likVecS2, stateVecS2 = trainDataHMM(trainSell, 8, 1, 0.1)\n",
    "import time\n",
    "startExec = time.time()\n",
    "tradeStart = 50\n",
    "windowLength = 10\n",
    "discount = 1\n",
    "npred = len(buyCombine) - tradeStart\n",
    "nStates = 8\n",
    "truthDirB2,predictionDirB2,predictionDirMomentumB2,betPriceB2,stateTrackB2,meanTrackB2,meanAllB2,varAllB2,changeStateB2,truthB2,predictionB2,pTrackB2 = tradeHMM(buyData, tradeStart, nStates, 1, piVecB2, transitionMatrixB2, meanMatrixB2, varMatrixB2, npred, windowLength, 0.1, discount)\n",
    "truthDirS2,predictionDirS2,predictionDirMomentumS2,betPriceS2,stateTrackS2,meanTrackS2,meanAllS2,varAllS2,changeStateS2,truthS2,predictionS2,pTrackS2 = tradeHMM(sellData, tradeStart, nStates, 1, piVecS2, transitionMatrixS2, meanMatrixS2, varMatrixS2, npred, windowLength, 0.1, discount)\n",
    "endExec = time.time()\n",
    "totalTime = endExec - startExec\n",
    "print \"total time spent: %f\" % totalTime\n",
    "print \"HMM Buy accuracy: \", sum(truthDirB2 == predictionDirB2)/len(truthDirB2)\n",
    "print \"Momentum HMM Buy accuracy: \", sum(truthDirB2 == predictionDirMomentumB2)/len(truthDirB2)\n",
    "print \"HMM Sell accuracy: \", sum(truthDirS2 == predictionDirS2)/len(truthDirS2)\n",
    "print \"Momentum HMM Sell accuracy: \", sum(truthDirS2 == predictionDirMomentumS2)/len(truthDirS2)"
   ]
  },
  {
   "cell_type": "code",
   "execution_count": 218,
   "metadata": {
    "collapsed": true
   },
   "outputs": [],
   "source": [
    "np.savetxt('predictionDirBuyMomentum_0_8.txt', predictionDirMomentumB2, delimiter=',')\n",
    "np.savetxt('predictionDirSellMomentum_0_8.txt', predictionDirMomentumS2, delimiter=',')\n",
    "np.savetxt('predictionDirBuy_0_8.txt', predictionDirB2, delimiter=',')\n",
    "np.savetxt('predictionDirSell_0_8.txt', predictionDirS2, delimiter=',')\n",
    "np.savetxt('predictionBuy_0_8.txt', predictionB2, delimiter=',')\n",
    "np.savetxt('predictionSell_0_8.txt', predictionS2, delimiter=',')\n",
    "with file('meanBuy_0_8.txt', 'w') as outfile:\n",
    "    for data_slice in meanAllB2:\n",
    "        np.savetxt(outfile, data_slice, fmt='%-7.7f')\n",
    "with file('meanSell_0_8.txt', 'w') as outfile:\n",
    "    for data_slice in meanAllS2:\n",
    "        np.savetxt(outfile, data_slice, fmt='%-7.7f')\n",
    "with file('varBuy_0_8.txt', 'w') as outfile:\n",
    "    for data_slice in varAllB2:\n",
    "        np.savetxt(outfile, data_slice, fmt='%-7.7f')\n",
    "with file('varSell_0_8.txt', 'w') as outfile:\n",
    "    for data_slice in varAllS2:\n",
    "        np.savetxt(outfile, data_slice, fmt='%-7.7f')"
   ]
  },
  {
   "cell_type": "code",
   "execution_count": 256,
   "metadata": {
    "collapsed": false
   },
   "outputs": [
    {
     "name": "stdout",
     "output_type": "stream",
     "text": [
      "RMSE Buy:  2.64865141631\n",
      "RMSE Sell:  163.4796027\n"
     ]
    }
   ],
   "source": [
    "print \"RMSE Buy: \", np.sqrt(np.mean(abs(predictionB2-truthB)**2))\n",
    "print \"RMSE Sell: \", np.sqrt(np.mean(abs(predictionS2-truthS)**2))"
   ]
  },
  {
   "cell_type": "code",
   "execution_count": 235,
   "metadata": {
    "collapsed": false
   },
   "outputs": [
    {
     "name": "stdout",
     "output_type": "stream",
     "text": [
      "Profit: $ 3698.09300001\n"
     ]
    }
   ],
   "source": [
    "profit2, bankTracker2, assetTracker2 = simple_trade(betPriceB2,betPriceS2,truthB2[-1],truthS2[-1],predictionDirB2,predictionDirS2)\n",
    "print \"Profit: $\", profit2"
   ]
  },
  {
   "cell_type": "code",
   "execution_count": 132,
   "metadata": {
    "collapsed": false
   },
   "outputs": [
    {
     "name": "stdout",
     "output_type": "stream",
     "text": [
      "total time spent: 893.836000\n",
      "HMM Buy accuracy:  0.363987792472\n",
      "Momentum HMM Buy accuracy:  0.506408952187\n",
      "HMM Sell accuracy:  0.383757205832\n",
      "Momentum HMM Sell accuracy:  0.522414377755\n"
     ]
    },
    {
     "name": "stderr",
     "output_type": "stream",
     "text": [
      "C:\\Users\\draj36\\Anaconda2\\lib\\site-packages\\IPython\\kernel\\__main__.py:34: RuntimeWarning: divide by zero encountered in log\n"
     ]
    }
   ],
   "source": [
    "piVecB0, transitionMatrixB0, meanMatrixB0, varMatrixB0, likVecB0, stateVecB0 = trainDataHMM(trainBuy, 2, 1, 0.1)\n",
    "piVecS0, transitionMatrixS0, meanMatrixS0, varMatrixS0, likVecS0, stateVecS0 = trainDataHMM(trainSell, 2, 1, 0.1)\n",
    "import time\n",
    "startExec = time.time()\n",
    "tradeStart = 50\n",
    "windowLength = 10\n",
    "discount = 1\n",
    "npred = len(buyCombine) - tradeStart\n",
    "nStates = 2\n",
    "truthDirB0,predictionDirB0,predictionDirMomentumB0,betPriceB0,stateTrackB0,meanTrackB0,meanAllB0,varAllB0,changeStateB0,truthB0,predictionB0,pTrackB0 = tradeHMM(buyData, tradeStart, nStates, 1, piVecB0, transitionMatrixB0, meanMatrixB0, varMatrixB0, npred, windowLength, 0.1, discount)\n",
    "truthDirS0,predictionDirS0,predictionDirMomentumS0,betPriceS0,stateTrackS0,meanTrackS0,meanAllS0,varAllS0,changeStateS0,truthS0,predictionS0,pTrackS0 = tradeHMM(sellData, tradeStart, nStates, 1, piVecS0, transitionMatrixS0, meanMatrixS0, varMatrixS0, npred, windowLength, 0.1, discount)\n",
    "endExec = time.time()\n",
    "totalTime = endExec - startExec\n",
    "print \"total time spent: %f\" % totalTime\n",
    "print \"HMM Buy accuracy: \", sum(truthDirB0 == predictionDirB0)/len(truthDirB0)\n",
    "print \"Momentum HMM Buy accuracy: \", sum(truthDirB0 == predictionDirMomentumB0)/len(truthDirB0)\n",
    "print \"HMM Sell accuracy: \", sum(truthDirS0 == predictionDirS0)/len(truthDirS0)\n",
    "print \"Momentum HMM Sell accuracy: \", sum(truthDirS0 == predictionDirMomentumS0)/len(truthDirS0)"
   ]
  },
  {
   "cell_type": "code",
   "execution_count": 215,
   "metadata": {
    "collapsed": true
   },
   "outputs": [],
   "source": [
    "np.savetxt('truthDirBuy_0.txt', truthDirB0, delimiter=',')\n",
    "np.savetxt('truthDirSell_0.txt', truthDirS0, delimiter=',')\n",
    "np.savetxt('predictionDirBuyMomentum_0_2.txt', predictionDirMomentumB0, delimiter=',')\n",
    "np.savetxt('predictionDirSellMomentum_0_2.txt', predictionDirMomentumS0, delimiter=',')\n",
    "np.savetxt('predictionDirBuy_0_2.txt', predictionDirB0, delimiter=',')\n",
    "np.savetxt('predictionDirSell_0_2.txt', predictionDirS0, delimiter=',')\n",
    "np.savetxt('predictionBuy_0_2.txt', predictionB0, delimiter=',')\n",
    "np.savetxt('predictionSell_0_2.txt', predictionS0, delimiter=',')"
   ]
  },
  {
   "cell_type": "code",
   "execution_count": 216,
   "metadata": {
    "collapsed": true
   },
   "outputs": [],
   "source": [
    "with file('meanBuy_0_2.txt', 'w') as outfile:\n",
    "    for data_slice in meanAllB0:\n",
    "        np.savetxt(outfile, data_slice, fmt='%-7.7f')\n",
    "with file('meanSell_0_2.txt', 'w') as outfile:\n",
    "    for data_slice in meanAllS0:\n",
    "        np.savetxt(outfile, data_slice, fmt='%-7.7f')\n",
    "with file('varBuy_0_2.txt', 'w') as outfile:\n",
    "    for data_slice in varAllB0:\n",
    "        np.savetxt(outfile, data_slice, fmt='%-7.7f')\n",
    "with file('varSell_0_2.txt', 'w') as outfile:\n",
    "    for data_slice in varAllS0:\n",
    "        np.savetxt(outfile, data_slice, fmt='%-7.7f')"
   ]
  },
  {
   "cell_type": "code",
   "execution_count": 217,
   "metadata": {
    "collapsed": false
   },
   "outputs": [
    {
     "name": "stdout",
     "output_type": "stream",
     "text": [
      "6.16717422672e-09\n"
     ]
    }
   ],
   "source": [
    "new_data = np.loadtxt('meanBuy_0_2.txt')\n",
    "new_data = new_data.reshape((2,npred))\n",
    "print(np.mean(abs(new_data-meanAllB0)))"
   ]
  },
  {
   "cell_type": "code",
   "execution_count": 257,
   "metadata": {
    "collapsed": false
   },
   "outputs": [
    {
     "name": "stdout",
     "output_type": "stream",
     "text": [
      "RMSE Buy:  2.65350911392\n",
      "RMSE Sell:  4.78980732505\n"
     ]
    }
   ],
   "source": [
    "print \"RMSE Buy: \", np.sqrt(np.mean(abs(predictionB0-truthB)**2))\n",
    "print \"RMSE Sell: \", np.sqrt(np.mean(abs(predictionS0-truthS)**2))"
   ]
  },
  {
   "cell_type": "code",
   "execution_count": 269,
   "metadata": {
    "collapsed": false
   },
   "outputs": [
    {
     "name": "stdout",
     "output_type": "stream",
     "text": [
      "Profit: $ -1058.24999999\n"
     ]
    }
   ],
   "source": [
    "profit0,a0,b0 = simple_trade(betPriceB0[1:],betPriceS0[1:],truthB0[-1],truthS0[-1],predictionDirB0[1:],predictionDirS0[1:])\n",
    "print \"Profit: $\", profit0"
   ]
  },
  {
   "cell_type": "code",
   "execution_count": 270,
   "metadata": {
    "collapsed": true
   },
   "outputs": [],
   "source": [
    "plt.plot(bankTracker2,'r',label='HMM trade')\n",
    "plt.plot(1000*np.ones(len(bankTracker2)),'b',label='do nothing')\n",
    "plt.ylabel('Account Value')\n",
    "plt.xlabel('Day')\n",
    "plt.title('HMM Trading Account Value K = 2')\n",
    "plt.legend(loc=(0,.9))\n",
    "plt.show()"
   ]
  },
  {
   "cell_type": "code",
   "execution_count": 259,
   "metadata": {
    "collapsed": true
   },
   "outputs": [],
   "source": [
    "meanB0 = np.copy(meanAllB0)\n",
    "for ii in range(0,2):\n",
    "    for jj in range(0,len(meanB0[ii,:])):\n",
    "        if meanB0[ii,jj] == 0:\n",
    "            meanB0[ii,jj] = meanB0[ii,jj-1]\n",
    "\n",
    "meanS0 = np.copy(meanAllS0)\n",
    "for ii in range(0,2):\n",
    "    for jj in range(0,len(meanS0[ii,:])):\n",
    "        if meanS0[ii,jj] == 0:\n",
    "            meanS0[ii,jj] = meanS0[ii,jj-1]"
   ]
  },
  {
   "cell_type": "code",
   "execution_count": 260,
   "metadata": {
    "collapsed": false
   },
   "outputs": [],
   "source": [
    "plt.plot(meanB0[0,:],'b')\n",
    "plt.plot(meanB0[1,:],'r')\n",
    "plt.plot(truthB0,'g')\n",
    "plt.show()"
   ]
  },
  {
   "cell_type": "code",
   "execution_count": 265,
   "metadata": {
    "collapsed": true
   },
   "outputs": [],
   "source": [
    "plt.plot(meanS0[0,:],'b')\n",
    "plt.plot(meanS0[1,:],'r')\n",
    "plt.plot(truthS0,'g')\n",
    "plt.show()"
   ]
  },
  {
   "cell_type": "code",
   "execution_count": 273,
   "metadata": {
    "collapsed": false
   },
   "outputs": [],
   "source": [
    "fig, ax = plt.subplots()\n",
    "npred = len(predictionB0)\n",
    "#npred = 500\n",
    "xaxis = timesPred[0:npred]\n",
    "ax.plot(xaxis,meanB0[0,0:npred],'b',label='Mean 1')\n",
    "ax.fill_between(xaxis, meanB0[0,0:npred]-1.96*np.sqrt(varAllB0[0,0:npred]), meanB0[0,0:npred]+1.96*np.sqrt(varAllB0[0,0:npred]), alpha=0.3, color='b',label='2-sigma confidence')\n",
    "ax.plot(xaxis,meanB0[1,0:npred],'r',label='Mean 2')\n",
    "ax.fill_between(xaxis, meanB0[1,0:npred]-1.96*np.sqrt(varAllB0[1,0:npred]), meanB0[1,0:npred]+1.96*np.sqrt(varAllB0[1,0:npred]), alpha=0.1, color='r',label='2-sigma confidence')\n",
    "ax.plot(xaxis,truthB0[0:npred],'g',label='Truth')\n",
    "plt.show()\n",
    "labels = []\n",
    "for ii in range(0,len(ax.get_xticklabels())):\n",
    "    if ax.get_xticklabels()[ii].get_text() != '':\n",
    "        timeInc = int(ax.get_xticklabels()[ii].get_text())\n",
    "        dhms = DHMS(timeInc)\n",
    "        step = dt.timedelta(days = dhms[0],hours = dhms[1],minutes = dhms[2],seconds = dhms[3]) \n",
    "        currentLabel = startTime + step\n",
    "        labels.append(currentLabel.strftime('%m/%d %H:%M'))\n",
    "    else:\n",
    "        labels.append(ax.get_xticklabels()[ii].get_text())\n",
    "fig, ax = plt.subplots()\n",
    "ax.plot(xaxis,meanB0[0,0:npred],'b',label='Mean 1')\n",
    "ax.fill_between(xaxis, meanB0[0,0:npred]-1.96*np.sqrt(varAllB0[0,0:npred]), meanB0[0,0:npred]+1.96*np.sqrt(varAllB0[0,0:npred]), alpha=0.3, color='b',label='2-sigma confidence')\n",
    "ax.plot(xaxis,meanB0[1,0:npred],'r',label='Mean 2')\n",
    "ax.fill_between(xaxis, meanB0[1,0:npred]-1.96*np.sqrt(varAllB0[1,0:npred]), meanB0[1,0:npred]+1.96*np.sqrt(varAllB0[1,0:npred]), alpha=0.1, color='r',label='2-sigma confidence')\n",
    "ax.plot(xaxis,truthB0[0:npred],'g',label='Truth')\n",
    "plt.legend(loc=(0,.8))\n",
    "plt.ylabel(\"price\")\n",
    "plt.xlabel(\"time\")\n",
    "plt.title(\"BTC price and Hidden State Means with 95 percent coverage over Trading Period\")\n",
    "ax.set_xticklabels(labels)\n",
    "plt.show()"
   ]
  },
  {
   "cell_type": "code",
   "execution_count": 189,
   "metadata": {
    "collapsed": false
   },
   "outputs": [],
   "source": [
    "fig, ax = plt.subplots()\n",
    "xaxis = timesPred[0:len(predictionB0)]\n",
    "ax.plot(xaxis,meanS0[0,:],'b',label='Mean 1')\n",
    "ax.fill_between(xaxis, meanS0[0,:]-1.96*np.sqrt(varAllS0[0,:]), meanS0[0,:]+1.96*np.sqrt(varAllS0[0,:]), alpha=0.3, color='b',label='2-sigma confidence')\n",
    "ax.plot(xaxis,meanB0[1,:],'r',label='Mean 2')\n",
    "ax.fill_between(xaxis, meanS0[1,:]-1.96*np.sqrt(varAllS0[1,:]), meanS0[1,:]+1.96*np.sqrt(varAllS0[1,:]), alpha=0.1, color='r',label='2-sigma confidence')\n",
    "ax.plot(xaxis,truthS0,'g',label='Truth')\n",
    "plt.show()\n",
    "labels = []\n",
    "for ii in range(0,len(ax.get_xticklabels())):\n",
    "    if ax.get_xticklabels()[ii].get_text() != '':\n",
    "        timeInc = int(ax.get_xticklabels()[ii].get_text())\n",
    "        dhms = DHMS(timeInc)\n",
    "        step = dt.timedelta(days = dhms[0],hours = dhms[1],minutes = dhms[2],seconds = dhms[3]) \n",
    "        currentLabel = startTime + step\n",
    "        labels.append(currentLabel.strftime('%m/%d %H:%M'))\n",
    "    else:\n",
    "        labels.append(ax.get_xticklabels()[ii].get_text())\n",
    "fig, ax = plt.subplots()\n",
    "ax.plot(xaxis,meanS0[0,:],'b',label='Mean 1')\n",
    "ax.fill_between(xaxis, meanS0[0,:]-1.96*np.sqrt(varAllS0[0,:]), meanS0[0,:]+1.96*np.sqrt(varAllS0[0,:]), alpha=0.3, color='b',label='2-sigma confidence')\n",
    "ax.plot(xaxis,meanB0[1,:],'r',label='Mean 2')\n",
    "ax.fill_between(xaxis, meanS0[1,:]-1.96*np.sqrt(varAllS0[1,:]), meanS0[1,:]+1.96*np.sqrt(varAllS0[1,:]), alpha=0.1, color='r',label='2-sigma confidence')\n",
    "ax.plot(xaxis,truthS0,'g',label='Truth')\n",
    "plt.legend(loc=(0,.8))\n",
    "plt.ylabel(\"price\")\n",
    "plt.xlabel(\"time\")\n",
    "plt.title(\"BTC price and Hidden State Means with 95 percent coverage over Trading Period\")\n",
    "ax.set_xticklabels(labels)\n",
    "plt.show()"
   ]
  },
  {
   "cell_type": "code",
   "execution_count": 275,
   "metadata": {
    "collapsed": true
   },
   "outputs": [],
   "source": [
    "fig, ax = plt.subplots()\n",
    "xaxis = timesPred[0:len(predictionB0)]\n",
    "ax.plot(xaxis,truthB0,'r',label='Bid')\n",
    "ax.plot(xaxis,truthS0,'b',label='Ask')\n",
    "plt.show()\n",
    "labels = []\n",
    "for ii in range(0,len(ax.get_xticklabels())):\n",
    "    if ax.get_xticklabels()[ii].get_text() != '':\n",
    "        timeInc = int(ax.get_xticklabels()[ii].get_text())\n",
    "        dhms = DHMS(timeInc)\n",
    "        step = dt.timedelta(days = dhms[0],hours = dhms[1],minutes = dhms[2],seconds = dhms[3]) \n",
    "        currentLabel = startTime + step\n",
    "        labels.append(currentLabel.strftime('%m/%d %H:%M'))\n",
    "    else:\n",
    "        labels.append(ax.get_xticklabels()[ii].get_text())\n",
    "fig, ax = plt.subplots()\n",
    "ax.plot(xaxis,truthB0,'r',label='Bid')\n",
    "ax.plot(xaxis,truthS0,'b',label='Ask')\n",
    "plt.legend(loc=(0,.8))\n",
    "plt.ylabel(\"price\")\n",
    "plt.xlabel(\"time\")\n",
    "plt.title(\"OK Coin BTC Bid and Ask Period 1\")\n",
    "ax.set_xticklabels(labels)\n",
    "plt.show()"
   ]
  },
  {
   "cell_type": "code",
   "execution_count": 190,
   "metadata": {
    "collapsed": false
   },
   "outputs": [],
   "source": [
    "fig, ax = plt.subplots()\n",
    "xaxis = timesPred[0:len(predictionB)]\n",
    "ax.plot(xaxis,predictionB,'b-',label='predicted price')\n",
    "ax.plot(xaxis[predictionDirB==truthDirB],predictionB[predictionDirB==truthDirB],'k*',label='correct pred')\n",
    "ax.plot(xaxis,truthB,'r-',label='actual price')\n",
    "plt.show()\n",
    "labels = []\n",
    "for ii in range(0,len(ax.get_xticklabels())):\n",
    "    if ax.get_xticklabels()[ii].get_text() != '':\n",
    "        timeInc = int(ax.get_xticklabels()[ii].get_text())\n",
    "        dhms = DHMS(timeInc)\n",
    "        step = dt.timedelta(days = dhms[0],hours = dhms[1],minutes = dhms[2],seconds = dhms[3]) \n",
    "        currentLabel = startTime + step\n",
    "        labels.append(currentLabel.strftime('%m/%d %H:%M'))\n",
    "    else:\n",
    "        labels.append(ax.get_xticklabels()[ii].get_text())\n",
    "fig, ax = plt.subplots()\n",
    "ax.plot(xaxis,predictionB,'b-',label='predicted price')\n",
    "ax.plot(xaxis[predictionDirB==truthDirB],predictionB[predictionDirB==truthDirB],'k*',label='correct pred')\n",
    "ax.plot(xaxis,truthB,'r-',label='actual price')\n",
    "ax.set_xticklabels(labels)\n",
    "plt.xlabel('Time')\n",
    "plt.ylabel('BTC Price')\n",
    "plt.title('HMM Prediction on OKCoin K = 2')\n",
    "plt.legend(loc = 0)\n",
    "plt.show()"
   ]
  },
  {
   "cell_type": "code",
   "execution_count": 227,
   "metadata": {
    "collapsed": false
   },
   "outputs": [],
   "source": [
    "def simple_trade(buyPrice,sellPrice,lastBuyPrice,lastSellPrice,predictionDirB,predictionDirS):\n",
    "    bank1 = 10**3\n",
    "    assets1 = 0\n",
    "\n",
    "    bankTracker1 = [bank1]\n",
    "    assetTracker1 = [0]\n",
    "\n",
    "    betSize = .1\n",
    "    \n",
    "    for ii in range(0,len(buyPrice)):\n",
    "    \n",
    "        buyP1 = buyPrice[ii]\n",
    "        sellP1 = sellPrice[ii]\n",
    "        \n",
    "        if predictionDirS[ii] > 0: # buy\n",
    "            bank1 = bank1 - betSize*sellP1\n",
    "            assets1 = assets1 + betSize\n",
    "        if predictionDirB[ii] < 0: # sell\n",
    "            bank1 = bank1 + betSize*buyP1\n",
    "            assets1 = assets1 - betSize\n",
    "            \n",
    "        bankTracker1.append(bank1)\n",
    "        assetTracker1.append(assets1)\n",
    "        \n",
    "    # close position at end\n",
    "    if assets1 > 0: # sell\n",
    "        bank1 = bank1 + assets1*lastBuyPrice\n",
    "        assets1 = 0\n",
    "    if assets1 < 0: # buy\n",
    "        bank1 = bank1 + assets1*lastSellPrice\n",
    "        assets1 = 0\n",
    "        \n",
    "    bankTracker1.append(bank1)\n",
    "    assetTracker1.append(assets1)\n",
    "\n",
    "    bankTracker1 = np.array(bankTracker1)\n",
    "    assetTracker1 = np.array(assetTracker1)\n",
    "    profit = bankTracker1[-1] - bankTracker1[0]\n",
    "    \n",
    "    return profit, bankTracker1, assetTracker1"
   ]
  },
  {
   "cell_type": "raw",
   "metadata": {
    "collapsed": true
   },
   "source": [
    "falseCount = 0\n",
    "for ii in range(0,len(pTrack)):\n",
    "    for jj in range(1,len(pTrack[ii])):\n",
    "        if pTrack[ii][jj] < pTrack[ii][jj-1] - 1:\n",
    "            falseCount += 1\n",
    "            #print(ii,pTrack[ii])\n",
    "print falseCount\n",
    "print falseCount/len(pTrack)"
   ]
  },
  {
   "cell_type": "code",
   "execution_count": 354,
   "metadata": {
    "collapsed": false
   },
   "outputs": [
    {
     "data": {
      "text/plain": [
       "-3.0"
      ]
     },
     "execution_count": 354,
     "metadata": {},
     "output_type": "execute_result"
    }
   ],
   "source": [
    "np.floor(-2.5)"
   ]
  },
  {
   "cell_type": "code",
   "execution_count": null,
   "metadata": {
    "collapsed": true
   },
   "outputs": [],
   "source": []
  }
 ],
 "metadata": {
  "kernelspec": {
   "display_name": "Python 2",
   "language": "python",
   "name": "python2"
  },
  "language_info": {
   "codemirror_mode": {
    "name": "ipython",
    "version": 2
   },
   "file_extension": ".py",
   "mimetype": "text/x-python",
   "name": "python",
   "nbconvert_exporter": "python",
   "pygments_lexer": "ipython2",
   "version": "2.7.9"
  }
 },
 "nbformat": 4,
 "nbformat_minor": 0
}
