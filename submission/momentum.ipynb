{
 "cells": [
  {
   "cell_type": "code",
   "execution_count": 1,
   "metadata": {
    "collapsed": true
   },
   "outputs": [],
   "source": [
    "from __future__ import division\n",
    "font = {'size'   : 20}\n",
    "import matplotlib\n",
    "matplotlib.rc('font', **font)\n",
    "import matplotlib.pylab as plt\n",
    "import numpy as np"
   ]
  },
  {
   "cell_type": "code",
   "execution_count": 2,
   "metadata": {
    "collapsed": false
   },
   "outputs": [],
   "source": [
    "def getRows(dataBase,startInd,endInd):\n",
    "    import sqlite3\n",
    "    print(type(dataBase))\n",
    "    input1 = dataBase+'.rdb'\n",
    "    conn = sqlite3.connect(input1)\n",
    "    c = conn.cursor()\n",
    "    input2 = 'SELECT * FROM '+dataBase+'_ob'\n",
    "    aa = c.execute(input2)\n",
    "    rows = []\n",
    "    count = 0\n",
    "    for row in aa:\n",
    "        if (count >= startInd) & (count < endInd):\n",
    "            rows.append(row)\n",
    "        count += 1\n",
    "        if count == endInd:\n",
    "            break\n",
    "    return rows"
   ]
  },
  {
   "cell_type": "code",
   "execution_count": 3,
   "metadata": {
    "collapsed": false
   },
   "outputs": [],
   "source": [
    "def getStartTime(row):\n",
    "    import datetime as dt\n",
    "    start = dt.datetime(int(row[5][0:4]), int(row[5][5:7]), int(row[5][8:10]), int(row[5][11:13]), int(row[5][14:16]), int(float(row[5][17:-1])))\n",
    "    return start"
   ]
  },
  {
   "cell_type": "code",
   "execution_count": 4,
   "metadata": {
    "collapsed": false
   },
   "outputs": [],
   "source": [
    "def getTimes(rows,startTime):\n",
    "    import matplotlib.pyplot as plt\n",
    "    import datetime as dt\n",
    "    timeSec = [0]\n",
    "    for afterInd in range(1,len(rows)):\n",
    "        current = dt.datetime(int(rows[afterInd][5][0:4]), int(rows[afterInd][5][5:7]), int(rows[afterInd][5][8:10]), int(rows[afterInd][5][11:13]), int(rows[afterInd][5][14:16]), int(float(rows[afterInd][5][17:-1])))\n",
    "        currentDiff = current - startTime\n",
    "        currentDiffSeconds = currentDiff.days*(24*3600) + currentDiff.seconds\n",
    "        timeSec.append(currentDiffSeconds)\n",
    "    return timeSec"
   ]
  },
  {
   "cell_type": "code",
   "execution_count": 5,
   "metadata": {
    "collapsed": false
   },
   "outputs": [],
   "source": [
    "def extractTickData(rows,timeSec):\n",
    "    import numpy as np\n",
    "    buyPrices = []\n",
    "    sellPrices = []\n",
    "    buyTimes = []\n",
    "    sellTimes = []\n",
    "    buyQuantity = []\n",
    "    buyLevels = []\n",
    "    sellQuantity = []\n",
    "    sellLevels = []\n",
    "    for ii in range(len(rows)):\n",
    "        if rows[ii][1] == 'buy':\n",
    "            buyPrices.append(rows[ii][2])\n",
    "            buyTimes.append(timeSec[ii])\n",
    "            buyQuantity.append(rows[ii][3])\n",
    "            buyLevels.append(rows[ii][4])\n",
    "        else:\n",
    "            sellPrices.append(rows[ii][2])\n",
    "            sellTimes.append(timeSec[ii])\n",
    "            sellQuantity.append(rows[ii][3])\n",
    "            sellLevels.append(rows[ii][4])\n",
    "    buyPrices = np.array(buyPrices)\n",
    "    sellPrices = np.array(sellPrices)\n",
    "    buyTimes = np.array(buyTimes)\n",
    "    sellTimes = np.array(sellTimes)\n",
    "    buyQuantity = np.array(buyQuantity)\n",
    "    buyLevels = np.array(buyLevels)\n",
    "    sellQuantity = np.array(sellQuantity)\n",
    "    sellLevels = np.array(sellLevels)\n",
    "    \n",
    "    return buyPrices, sellPrices, buyTimes, sellTimes, buyQuantity, buyLevels, sellQuantity, sellLevels"
   ]
  },
  {
   "cell_type": "code",
   "execution_count": 6,
   "metadata": {
    "collapsed": false
   },
   "outputs": [],
   "source": [
    "def DHMS(seconds):\n",
    "    import numpy as np\n",
    "    days = np.floor(seconds/3600)\n",
    "    hours = np.floor((seconds/3600) - days*24)\n",
    "    minutes = np.floor(((seconds/3600) - days*24 - hours)*60)\n",
    "    seconds = np.floor((((seconds/3600) - days*24 - hours)*60 - minutes)*60)\n",
    "    return np.array([days,hours,minutes,seconds])"
   ]
  },
  {
   "cell_type": "code",
   "execution_count": 7,
   "metadata": {
    "collapsed": false
   },
   "outputs": [],
   "source": [
    "def plotTimes_momentum(sellTimes1,sellPrices1,buyTimes1,buyPrices1,label1,start):\n",
    "    import matplotlib.pyplot as plt\n",
    "    fig, ax = plt.subplots()\n",
    "    import datetime as dt\n",
    "    ax.plot(buyTimes1,buyPrices1,'g-',label=label1+' Buy Prices')\n",
    "    ax.plot(sellTimes1,sellPrices1,'r-',label=label1+' Sell Prices')\n",
    "    plt.show()\n",
    "    labels = []\n",
    "    for ii in range(0,len(ax.get_xticklabels())):\n",
    "        if ax.get_xticklabels()[ii].get_text() != '':\n",
    "            timeInc = int(ax.get_xticklabels()[ii].get_text())\n",
    "            dhms = DHMS(timeInc)\n",
    "            step = dt.timedelta(days = dhms[0],hours = dhms[1],minutes = dhms[2],seconds = dhms[3]) \n",
    "            currentLabel = start + step\n",
    "            labels.append(currentLabel.strftime('%Y:%m:%d:%H:%M:%S'))\n",
    "        else:\n",
    "            labels.append(ax.get_xticklabels()[ii].get_text())\n",
    "    fig, ax = plt.subplots()\n",
    "    ax.plot(buyTimes1,buyPrices1,'g-',label=label1+' Buy Prices')\n",
    "    ax.plot(sellTimes1,sellPrices1,'r-',label=label1+' Sell Prices')\n",
    "    ax.set_xticklabels(labels)\n",
    "    plt.xlabel('Time')\n",
    "    plt.ylabel(label1 + ' Buy and Sell Prices')\n",
    "    plt.title(label1 + ' Bitcoin Bid/Ask')\n",
    "    plt.legend()\n",
    "    plt.show()"
   ]
  },
  {
   "cell_type": "code",
   "execution_count": 8,
   "metadata": {
    "collapsed": false
   },
   "outputs": [],
   "source": [
    "def timeFilterData(data,times,cutoff1,cutoff2):\n",
    "    filteredData = data[(cutoff1 < times) & (times < cutoff2)]\n",
    "    return filteredData"
   ]
  },
  {
   "cell_type": "code",
   "execution_count": 26,
   "metadata": {
    "collapsed": false
   },
   "outputs": [],
   "source": [
    "def formatTradeData_momentum(sellTimes1,sellPrices1,buyTimes1,buyPrices1,sellTimes1_ref,sellPrices1_ref,buyTimes1_ref,buyPrices1_ref,backwardHours):\n",
    "    \n",
    "    import numpy as np\n",
    "    from scipy import interpolate\n",
    "    from sklearn import linear_model\n",
    "    from scipy.interpolate import interp1d\n",
    "  \n",
    "    leftPoint = max([buyTimes1[0],sellTimes1[0]])\n",
    "    rightPoint = min([buyTimes1[-1],sellTimes1[-1]])\n",
    "    trade_timeline = sellTimes1[(sellTimes1 >= leftPoint) & (sellTimes1 <= rightPoint)]\n",
    "    \n",
    "    f1 = interp1d(buyTimes1, buyPrices1)\n",
    "    f4 = interp1d(sellTimes1, sellPrices1)\n",
    "    buy_1_sync = f1(trade_timeline)\n",
    "    sell_1_sync = f4(trade_timeline)\n",
    "    \n",
    "    leftPoint_ref = max([buyTimes1_ref[0],sellTimes1_ref[0]])\n",
    "    rightPoint_ref = min([buyTimes1_ref[-1],sellTimes1_ref[-1]])\n",
    "    time_ref = sellTimes1_ref[(sellTimes1_ref >= leftPoint_ref) & (sellTimes1_ref <= rightPoint_ref)]\n",
    "    \n",
    "    g1 = interp1d(buyTimes1_ref, buyPrices1_ref)\n",
    "    g4 = interp1d(sellTimes1_ref, sellPrices1_ref)\n",
    "    \n",
    "    buy_1_ref_sync = g1(time_ref)\n",
    "    sell_1_ref_sync = g4(time_ref)\n",
    "    \n",
    "    zScore1 = np.zeros(len(trade_timeline)) \n",
    "    zScore2 = np.zeros(len(trade_timeline)) \n",
    "    \n",
    "  \n",
    "    time0 = trade_timeline[0]\n",
    "    count = 0\n",
    "    for ii in range(0,len(zScore1)):\n",
    "    \n",
    "        currentTime = trade_timeline[ii]\n",
    "        count = count + 1\n",
    "    \n",
    "        sellPrices1_past = sell_1_ref_sync[time_ref < currentTime]\n",
    "        time_past = time_ref[time_ref < currentTime]\n",
    "\n",
    "        time_filt = time_past - time_past[-1]\n",
    "\n",
    "        sellPrices1_past2 = sellPrices1_past[time_filt > -3600*backwardHours]\n",
    "        \n",
    "        buyPrices1_past = buy_1_ref_sync[time_ref < currentTime]\n",
    "        buyPrices1_past2 = buyPrices1_past[time_filt > -3600*backwardHours]\n",
    "\n",
    "        standardDev_1 = np.std(sellPrices1_past2)\n",
    "        meanHist_1 = np.mean(sellPrices1_past2)\n",
    "\n",
    "        standardDev_2 = np.std(buyPrices1_past2)\n",
    "        meanHist_2 = np.mean(buyPrices1_past2)\n",
    "       \n",
    "        zScore1[ii] = (sell_1_sync[ii]  - meanHist_1)/standardDev_1\n",
    "        zScore2[ii] = (buy_1_sync[ii] - meanHist_2)/standardDev_2\n",
    "        \"\"\"\n",
    "        if (abs(zScore1[ii]) > 10) | (abs(zScore2[ii]) > 10):\n",
    "            print(len(buyPrices1_past2))\n",
    "            print(currentTime)\n",
    "            print(time_past[-10:-1])\n",
    "            print(currentTime - 3600*backwardHours)\n",
    "        \"\"\"\n",
    "            \n",
    "    return zScore1, zScore2, trade_timeline, sell_1_sync, buy_1_sync,  "
   ]
  },
  {
   "cell_type": "code",
   "execution_count": 176,
   "metadata": {
    "collapsed": false
   },
   "outputs": [],
   "source": [
    "def momentum_trade(timeLine,sellPrices1,buyPrices1,zScore_1,zScore_2,trade_cutoff):\n",
    "    import numpy as np\n",
    "    bank1 = 10**4\n",
    "    coins1 = 0\n",
    "\n",
    "    bankTracker1 = []\n",
    "    coinTracker1 = []\n",
    "\n",
    "    zScoreTracker_1 = []\n",
    "    zScoreTracker_2 = []\n",
    "    cashOutTimes = []\n",
    "    cashOut1 = []\n",
    "    cashOutz1 = []\n",
    "    cashOutz2 = []\n",
    "    \n",
    "    extremeFlag = 0\n",
    "    betSize = 0.1\n",
    "    \n",
    "    for ii in range(0,len(timeLine)-1):\n",
    "        \n",
    "        currentTime = timeLine[ii]\n",
    "        sellP1 = sellPrices1[ii]\n",
    "        buyP1 = buyPrices1[ii]\n",
    "\n",
    "        if zScore_1[ii] > trade_cutoff: # buy\n",
    "            bank1 = bank1 - betSize*sellP1\n",
    "            coins1 = coins1 + betSize\n",
    "            extremeFlag = 1\n",
    "        if zScore_2[ii] < -trade_cutoff: # sell\n",
    "            bank1 = bank1 + betSize*buyP1\n",
    "            coins1 = coins1 - betSize\n",
    "            extremeFlag = 1\n",
    "        \n",
    "        if (abs(zScore_1[ii]) < .5) & (abs(zScore_2[ii]) < .5):\n",
    "        \n",
    "            if extremeFlag == 1:\n",
    "                cashOutTimes.append(currentTime)\n",
    "                if coins1 > 0:\n",
    "                    bank1 = bank1 + coins1*buyP1\n",
    "                    bank1 = bank1 - 0.002*coins1*buyP1\n",
    "                else:\n",
    "                    bank1 = bank1 + coins1*sellP1\n",
    "                    bank1 = bank1 + 0.002*coins1*sellP1\n",
    "         \n",
    "                coins1 = 0\n",
    "                extremeFlag = 0\n",
    "                cashOut1.append(bank1)\n",
    "                cashOutz1.append(zScore_1[ii])\n",
    "                cashOutz2.append(zScore_2[ii])\n",
    "                  \n",
    "                \n",
    "        bankTracker1.append(bank1)\n",
    "        coinTracker1.append(coins1)\n",
    "        \n",
    "    currentTime = timeLine[-1]\n",
    "    sellP1 = sellPrices1[-1]\n",
    "    buyP1 = buyPrices1[-1]\n",
    "    \n",
    "    cashOutTimes.append(currentTime)\n",
    "    if coins1 > 0:\n",
    "        bank1 = bank1 + coins1*buyP1\n",
    "        #bank1 = bank1 - 0.002*coins1*buyP1\n",
    "    else:\n",
    "        bank1 = bank1 + coins1*sellP1\n",
    "        #bank1 = bank1 + 0.002*coins1*sellP1\n",
    "    coins1 = 0\n",
    "    bankTracker1.append(bank1)\n",
    "    coinTracker1.append(coins1)\n",
    "        \n",
    "    bankTracker1 = np.array(bankTracker1)\n",
    "    coinTracker1 = np.array(coinTracker1)\n",
    "\n",
    "    cashOutTimes = np.array(cashOutTimes)\n",
    "    cashOut1 = np.array(cashOut1)\n",
    "    cashOutz1 = np.array(cashOutz1)\n",
    "    cashOutz2 = np.array(cashOutz2)\n",
    "    \n",
    "    return bankTracker1, coinTracker1, cashOutTimes, cashOut1, cashOutz1, cashOutz2"
   ]
  },
  {
   "cell_type": "code",
   "execution_count": 11,
   "metadata": {
    "collapsed": false
   },
   "outputs": [],
   "source": [
    "def plotReturn_momentum(timeLine,bankTracker1,naiveWorthTracker1,startTime,cashOutTimes,cashOutBank,label1):\n",
    "    import numpy as np\n",
    "    fig, ax = plt.subplots()\n",
    "    ax.plot(timeLine,bankTracker1[1:],'c-',label=u'Total Portfolio Pairs Trading')\n",
    "    ax.plot(timeLine,10**4*np.ones(len(naiveWorthTracker1[1:])),'y-',label=u'Total Inactive Trading')\n",
    "    ax.plot(cashOutTimes,cashOutBank,'g*',label=u'Pairs Trading Cash Out')\n",
    "    plt.show()\n",
    "    labels = []\n",
    "    for ii in range(0,len(ax.get_xticklabels())):\n",
    "        if ax.get_xticklabels()[ii].get_text() != '':\n",
    "            timeInc = int(ax.get_xticklabels()[ii].get_text())\n",
    "            dhms = DHMS(timeInc)\n",
    "            step = dt.timedelta(days = dhms[0],hours = dhms[1],minutes = dhms[2],seconds = dhms[3]) \n",
    "            currentLabel = startTime + step\n",
    "            labels.append(currentLabel.strftime('%Y:%m:%d:%H:%M:%S'))\n",
    "        else:\n",
    "            labels.append(ax.get_xticklabels()[ii].get_text())\n",
    "    fig, ax = plt.subplots()\n",
    "    ax.plot(timeLine,bankTracker1[1:],'c-',label=u'Total Portfolio Pairs Trading')\n",
    "    ax.plot(timeLine,10**4*np.ones(len(naiveWorthTracker1[1:])),'y-',label=u'Total Inactive Trading')\n",
    "    ax.plot(cashOutTimes,cashOutBank,'g*',label=u'Pairs Trading Cash Out')\n",
    "    ax.set_xticklabels(labels)\n",
    "    plt.xlabel('Time')\n",
    "    plt.ylabel('Account Value')\n",
    "    plt.title(label1 + ' Momentum Trading')\n",
    "    plt.legend(loc = 0)\n",
    "    plt.show()"
   ]
  },
  {
   "cell_type": "code",
   "execution_count": 12,
   "metadata": {
    "collapsed": false
   },
   "outputs": [
    {
     "name": "stdout",
     "output_type": "stream",
     "text": [
      "<type 'str'>\n"
     ]
    }
   ],
   "source": [
    "rows1 = getRows('huobi',20*10**6,27*10**6)"
   ]
  },
  {
   "cell_type": "code",
   "execution_count": 13,
   "metadata": {
    "collapsed": false
   },
   "outputs": [
    {
     "name": "stdout",
     "output_type": "stream",
     "text": [
      "<type 'str'>\n"
     ]
    }
   ],
   "source": [
    "rows1 = getRows('okcoin',0,4*10**6)"
   ]
  },
  {
   "cell_type": "code",
   "execution_count": 14,
   "metadata": {
    "collapsed": false
   },
   "outputs": [
    {
     "name": "stdout",
     "output_type": "stream",
     "text": [
      "2014-01-01 21:59:52\n"
     ]
    }
   ],
   "source": [
    "print(getStartTime(rows1[0]))"
   ]
  },
  {
   "cell_type": "code",
   "execution_count": 15,
   "metadata": {
    "collapsed": false
   },
   "outputs": [],
   "source": [
    "startTime = getStartTime(rows1[0])\n",
    "times1 = getTimes(rows1,startTime)\n",
    "buyPrices1, sellPrices1, buyTimes1, sellTimes1, buyQuantity1, buyLevels1, sellQuantity1, sellLevels1 = extractTickData(rows1,times1)"
   ]
  },
  {
   "cell_type": "code",
   "execution_count": 16,
   "metadata": {
    "collapsed": false
   },
   "outputs": [],
   "source": [
    "plotTimes_momentum(sellTimes1,sellPrices1,buyTimes1,buyPrices1,'OK_coin',startTime)"
   ]
  },
  {
   "cell_type": "code",
   "execution_count": 237,
   "metadata": {
    "collapsed": false
   },
   "outputs": [],
   "source": [
    "import datetime as dt\n",
    "startCutoff = dt.datetime(2014,1,2,10,0,0) - startTime\n",
    "startCutOffSeconds = startCutoff.days*(24*3600) + startCutoff.seconds\n",
    "trainCutoff = dt.datetime(2014,1,2,23,0,0) - startTime\n",
    "trainCutoffSeconds = trainCutoff.days*(24*3600) + trainCutoff.seconds\n",
    "endCutoff = dt.datetime(2014,1,4,2,0,0) - startTime\n",
    "endCutoffSeconds = endCutoff.days*(24*3600) + endCutoff.seconds"
   ]
  },
  {
   "cell_type": "code",
   "execution_count": 255,
   "metadata": {
    "collapsed": true
   },
   "outputs": [],
   "source": [
    "import datetime as dt\n",
    "startCutoff = dt.datetime(2014,1,6,0,0,0) - startTime\n",
    "startCutOffSeconds = startCutoff.days*(24*3600) + startCutoff.seconds\n",
    "trainCutoff = dt.datetime(2014,1,6,10,18,42) - startTime\n",
    "trainCutoffSeconds = trainCutoff.days*(24*3600) + trainCutoff.seconds\n",
    "endCutoff = dt.datetime(2014,1,7,9,50,14) - startTime\n",
    "endCutoffSeconds = endCutoff.days*(24*3600) + endCutoff.seconds"
   ]
  },
  {
   "cell_type": "code",
   "execution_count": 265,
   "metadata": {
    "collapsed": true
   },
   "outputs": [],
   "source": [
    "import datetime as dt\n",
    "startCutoff = dt.datetime(2014,1,7,0,0,0) - startTime\n",
    "startCutOffSeconds = startCutoff.days*(24*3600) + startCutoff.seconds\n",
    "trainCutoff = dt.datetime(2014,1,7,9,50,16) - startTime\n",
    "trainCutoffSeconds = trainCutoff.days*(24*3600) + trainCutoff.seconds\n",
    "endCutoff = dt.datetime(2014,1,8,0,51,33) - startTime\n",
    "endCutoffSeconds = endCutoff.days*(24*3600) + endCutoff.seconds"
   ]
  },
  {
   "cell_type": "code",
   "execution_count": 266,
   "metadata": {
    "collapsed": false
   },
   "outputs": [],
   "source": [
    "buyPrices1_trade = timeFilterData(buyPrices1,buyTimes1,trainCutoffSeconds,endCutoffSeconds)\n",
    "sellPrices1_trade = timeFilterData(sellPrices1,sellTimes1,trainCutoffSeconds,endCutoffSeconds)\n",
    "buyTimes1_trade = timeFilterData(buyTimes1,buyTimes1,trainCutoffSeconds,endCutoffSeconds)\n",
    "sellTimes1_trade = timeFilterData(sellTimes1,sellTimes1,trainCutoffSeconds,endCutoffSeconds)\n",
    "buyQuantity1_trade = timeFilterData(buyQuantity1,buyTimes1,trainCutoffSeconds,endCutoffSeconds)\n",
    "buyLevels1_trade = timeFilterData(buyLevels1,buyTimes1,trainCutoffSeconds,endCutoffSeconds)\n",
    "sellQuantity1_trade = timeFilterData(sellQuantity1,sellTimes1,trainCutoffSeconds,endCutoffSeconds)\n",
    "sellLevels1_trade = timeFilterData(sellLevels1,sellTimes1,trainCutoffSeconds,endCutoffSeconds)"
   ]
  },
  {
   "cell_type": "code",
   "execution_count": 19,
   "metadata": {
    "collapsed": false
   },
   "outputs": [],
   "source": [
    "import matplotlib.pyplot as plt\n",
    "plt.plot(buyTimes1_trade,buyQuantity1_trade,'b-')\n",
    "plt.xlabel('OK Coin sell times')\n",
    "plt.ylabel('Ok Coin sell prices')\n",
    "plt.title('Best Fit Parameters')\n",
    "plt.show()"
   ]
  },
  {
   "cell_type": "code",
   "execution_count": 267,
   "metadata": {
    "collapsed": false
   },
   "outputs": [],
   "source": [
    "buyPrices1_trade = buyPrices1_trade[buyLevels1_trade == 1]\n",
    "sellPrices1_trade = sellPrices1_trade[sellLevels1_trade == 1]\n",
    "buyTimes1_trade = buyTimes1_trade[buyLevels1_trade == 1]\n",
    "sellTimes1_trade = sellTimes1_trade[sellLevels1_trade == 1]\n",
    "\n",
    "buyPrices1_ref = buyPrices1[buyLevels1 == 1]\n",
    "sellPrices1_ref = sellPrices1[sellLevels1 == 1]\n",
    "buyTimes1_ref = buyTimes1[buyLevels1 == 1]\n",
    "sellTimes1_ref = sellTimes1[sellLevels1 == 1]"
   ]
  },
  {
   "cell_type": "code",
   "execution_count": 21,
   "metadata": {
    "collapsed": true
   },
   "outputs": [],
   "source": [
    "plt.plot(buyPrices1_trade)\n",
    "plt.show()"
   ]
  },
  {
   "cell_type": "code",
   "execution_count": 268,
   "metadata": {
    "collapsed": false
   },
   "outputs": [],
   "source": [
    "backwardHours = 6\n",
    "zScore1,zScore2,timeLine,sellPrices1_trade_sync,buyPrices1_trade_sync = formatTradeData_momentum(sellTimes1_trade,sellPrices1_trade,buyTimes1_trade,buyPrices1_trade,sellTimes1_ref,sellPrices1_ref,buyTimes1_ref,buyPrices1_ref,backwardHours)"
   ]
  },
  {
   "cell_type": "code",
   "execution_count": 193,
   "metadata": {
    "collapsed": false
   },
   "outputs": [
    {
     "data": {
      "text/plain": [
       "0"
      ]
     },
     "execution_count": 193,
     "metadata": {},
     "output_type": "execute_result"
    }
   ],
   "source": [
    "np.sign(0)"
   ]
  },
  {
   "cell_type": "code",
   "execution_count": 276,
   "metadata": {
    "collapsed": true
   },
   "outputs": [],
   "source": [
    "def momentumDir(zScore1,zScore2,trade_cutoff,sellPrices,buyPrices):\n",
    "    momentumDirBuy = np.zeros(len(zScore1)-1)\n",
    "    momentumDirSell = np.zeros(len(zScore1)-1)\n",
    "    truthDirBuy = np.zeros(len(zScore1)-1)\n",
    "    truthDirSell = np.zeros(len(zScore1)-1)\n",
    "    posTradingDiffs = []\n",
    "    negTradingDiffs = []\n",
    "    for ii in range(0,len(momentumDirBuy)):\n",
    "        if zScore1[ii] > trade_cutoff:\n",
    "            momentumDirSell[ii] = 1\n",
    "            posTradingDiffs.append(sellPrices[ii+1]-sellPrices[ii])\n",
    "        if zScore1[ii] < -trade_cutoff:\n",
    "            momentumDirSell[ii] = -1\n",
    "            negTradingDiffs.append(sellPrices[ii+1]-sellPrices[ii])\n",
    "        if zScore2[ii] > trade_cutoff:\n",
    "            momentumDirBuy[ii] = 1\n",
    "            posTradingDiffs.append(buyPrices[ii+1]-buyPrices[ii])\n",
    "        if zScore2[ii] < -trade_cutoff:\n",
    "            momentumDirBuy[ii] = -1\n",
    "            negTradingDiffs.append(buyPrices[ii+1]-buyPrices[ii])\n",
    "        truthDirBuy[ii] = np.sign(buyPrices[ii+1]-buyPrices[ii])\n",
    "        truthDirSell[ii] = np.sign(sellPrices[ii+1]-sellPrices[ii])\n",
    "    return momentumDirBuy,momentumDirSell,truthDirBuy,truthDirSell,posTradingDiffs,negTradingDiffs"
   ]
  },
  {
   "cell_type": "code",
   "execution_count": 279,
   "metadata": {
    "collapsed": false
   },
   "outputs": [],
   "source": [
    "trade_cutoff = 0\n",
    "bankTracker1, coinTracker1, cashOutTimes,cashOut1, cashOutz1, cashOutz2 = momentum_trade(timeLine,sellPrices1_trade_sync,buyPrices1_trade_sync,zScore1,zScore2,trade_cutoff)"
   ]
  },
  {
   "cell_type": "code",
   "execution_count": 280,
   "metadata": {
    "collapsed": false
   },
   "outputs": [
    {
     "name": "stdout",
     "output_type": "stream",
     "text": [
      "Profit: $ -56129.6252984\n"
     ]
    }
   ],
   "source": [
    "profit = bankTracker1[-1] - 10**4\n",
    "print \"Profit: $\", profit"
   ]
  },
  {
   "cell_type": "code",
   "execution_count": 289,
   "metadata": {
    "collapsed": false
   },
   "outputs": [],
   "source": [
    "momentumDirBuy,momentumDirSell,truthDirBuy,truthDirSell,posTradingDiffs,negTradingDiffs = momentumDir(zScore1,zScore2,trade_cutoff,sellPrices1_trade_sync,buyPrices1_trade_sync)"
   ]
  },
  {
   "cell_type": "code",
   "execution_count": 282,
   "metadata": {
    "collapsed": false
   },
   "outputs": [
    {
     "name": "stdout",
     "output_type": "stream",
     "text": [
      "Momentum Buy accuracy:  0.149136309218\n",
      "Momentum Sell accuracy:  0.168576477966\n"
     ]
    }
   ],
   "source": [
    "print \"Momentum Buy accuracy: \", sum(momentumDirBuy == truthDirBuy)/len(truthDirBuy)\n",
    "print \"Momentum Sell accuracy: \", sum(momentumDirSell == truthDirSell)/len(momentumDirSell)"
   ]
  },
  {
   "cell_type": "code",
   "execution_count": 283,
   "metadata": {
    "collapsed": false
   },
   "outputs": [
    {
     "name": "stdout",
     "output_type": "stream",
     "text": [
      "correct:  0.158856393592\n",
      "wrong:  0.157032096232\n",
      "zeros:  0.684111510176\n"
     ]
    }
   ],
   "source": [
    "print \"correct: \",(np.sum(np.array(posTradingDiffs) > 0)+np.sum(np.array(negTradingDiffs) < 0))/(len(posTradingDiffs)+len(negTradingDiffs))\n",
    "print \"wrong: \",(np.sum(np.array(posTradingDiffs) < 0)+np.sum(np.array(negTradingDiffs) > 0))/(len(posTradingDiffs)+len(negTradingDiffs))\n",
    "print \"zeros: \",(np.sum(np.array(posTradingDiffs) == 0)+np.sum(np.array(negTradingDiffs) == 0))/(len(posTradingDiffs)+len(negTradingDiffs))"
   ]
  },
  {
   "cell_type": "code",
   "execution_count": 294,
   "metadata": {
    "collapsed": false
   },
   "outputs": [
    {
     "data": {
      "text/plain": [
       "1.0"
      ]
     },
     "execution_count": 294,
     "metadata": {},
     "output_type": "execute_result"
    }
   ],
   "source": [
    "np.round(.501)"
   ]
  },
  {
   "cell_type": "code",
   "execution_count": 287,
   "metadata": {
    "collapsed": true
   },
   "outputs": [],
   "source": [
    "nTrade = len(buyPrices1_trade_sync)-1"
   ]
  },
  {
   "cell_type": "code",
   "execution_count": 290,
   "metadata": {
    "collapsed": false
   },
   "outputs": [
    {
     "name": "stdout",
     "output_type": "stream",
     "text": [
      "Profit: $ 100650.594999\n"
     ]
    }
   ],
   "source": [
    "profit0,a0,b0 = simple_trade(buyPrices1_trade_sync[0:nTrade],sellPrices1_trade_sync[0:nTrade],buyPrices1_trade_sync[-1],sellPrices1_trade_sync[-1],momentumDirBuy,momentumDirSell)\n",
    "print \"Profit: $\", profit0"
   ]
  },
  {
   "cell_type": "code",
   "execution_count": 37,
   "metadata": {
    "collapsed": false
   },
   "outputs": [],
   "source": [
    "fig, ax = plt.subplots()\n",
    "xaxis = timeLine\n",
    "ax.plot(timeLine,bankTracker1,'r',label='momentum trade')\n",
    "ax.plot(timeLine,10000*np.ones(len(bankTracker1)),'b',label='do nothing')\n",
    "plt.show()\n",
    "labels = []\n",
    "for ii in range(0,len(ax.get_xticklabels())):\n",
    "    if ax.get_xticklabels()[ii].get_text() != '':\n",
    "        timeInc = int(ax.get_xticklabels()[ii].get_text())\n",
    "        dhms = DHMS(timeInc)\n",
    "        step = dt.timedelta(days = dhms[0],hours = dhms[1],minutes = dhms[2],seconds = dhms[3]) \n",
    "        currentLabel = startTime + step\n",
    "        labels.append(currentLabel.strftime('%m/%d %H:%M'))\n",
    "    else:\n",
    "        labels.append(ax.get_xticklabels()[ii].get_text())\n",
    "fig, ax = plt.subplots()\n",
    "ax.plot(timeLine,bankTracker1,'r',label='momentum trade')\n",
    "ax.plot(timeLine,10000*np.ones(len(bankTracker1)),'b',label='do nothing')\n",
    "plt.legend(loc=(0,.8))\n",
    "plt.ylabel(\"price\")\n",
    "plt.xlabel(\"time\")\n",
    "plt.title(\"BTC Account Value with Pairs Trading\")\n",
    "ax.set_xticklabels(labels)\n",
    "plt.show()"
   ]
  },
  {
   "cell_type": "code",
   "execution_count": 69,
   "metadata": {
    "collapsed": true
   },
   "outputs": [],
   "source": [
    "plotReturn_momentum(timeLine,bankTracker1,naiveWorthTracker1,startTime,cashOutTimes,cashOut1,'OK Coin')"
   ]
  },
  {
   "cell_type": "code",
   "execution_count": 28,
   "metadata": {
    "collapsed": false
   },
   "outputs": [
    {
     "data": {
      "text/plain": [
       "1.1554252123979114"
      ]
     },
     "execution_count": 28,
     "metadata": {},
     "output_type": "execute_result"
    }
   ],
   "source": [
    "bankTracker1[-1]/10000"
   ]
  },
  {
   "cell_type": "code",
   "execution_count": 71,
   "metadata": {
    "collapsed": false
   },
   "outputs": [],
   "source": [
    "fig, ax = plt.subplots()\n",
    "ax.plot(timeLine,zScore2,'b',label=u'Ok Coin')\n",
    "ax.plot(cashOutTimes,cashOutz2,'wo',label=u'OK Coin cash out')\n",
    "plt.show()\n",
    "labels = []\n",
    "for ii in range(0,len(ax.get_xticklabels())):\n",
    "    if ax.get_xticklabels()[ii].get_text() != '':\n",
    "        timeInc = int(ax.get_xticklabels()[ii].get_text())\n",
    "        dhms = DHMS(timeInc)\n",
    "        step = dt.timedelta(days = dhms[0],hours = dhms[1],minutes = dhms[2],seconds = dhms[3]) \n",
    "        currentLabel = startTime + step\n",
    "        labels.append(currentLabel.strftime('%Y:%m:%d:%H:%M:%S'))\n",
    "    else:\n",
    "        labels.append(ax.get_xticklabels()[ii].get_text())\n",
    "fig, ax = plt.subplots()\n",
    "ax.plot(timeLine,zScore2,'b',label=u'Ok Coin')\n",
    "ax.plot(cashOutTimes,cashOutz2,'wo',label=u'Ok Coin cash out')   \n",
    "ax.set_xticklabels(labels)\n",
    "plt.xlabel('Time')\n",
    "plt.ylabel('Z Score')\n",
    "plt.title('Huobi and Ok Coin Z scores with Cashout times (z_threshold = 2)')\n",
    "plt.legend(loc = 0)\n",
    "plt.show()"
   ]
  },
  {
   "cell_type": "code",
   "execution_count": 72,
   "metadata": {
    "collapsed": false
   },
   "outputs": [],
   "source": [
    "fig, ax = plt.subplots()\n",
    "ax.plot(timeLine,coinTracker1[1:],'r',label=u'btce')\n",
    "ax.plot(timeLine,coinTracker2[1:],'b',label=u'bitstamp')\n",
    "plt.show()\n",
    "labels = []\n",
    "for ii in range(0,len(ax.get_xticklabels())):\n",
    "    if ax.get_xticklabels()[ii].get_text() != '':\n",
    "        timeInc = int(ax.get_xticklabels()[ii].get_text())\n",
    "        dhms = DHMS(timeInc)\n",
    "        step = dt.timedelta(days = dhms[0],hours = dhms[1],minutes = dhms[2],seconds = dhms[3]) \n",
    "        currentLabel = startTime + step\n",
    "        labels.append(currentLabel.strftime('%Y:%m:%d:%H:%M:%S'))\n",
    "    else:\n",
    "        labels.append(ax.get_xticklabels()[ii].get_text())\n",
    "fig, ax = plt.subplots()\n",
    "ax.plot(timeLine,coinTracker1[1:],'r',label=u'btce')\n",
    "ax.plot(timeLine,coinTracker2[1:],'b',label=u'bitstamp') \n",
    "ax.set_xticklabels(labels)\n",
    "plt.xlabel('Time')\n",
    "plt.ylabel('Bitcoins')\n",
    "plt.title('BTCE and Bitstamp Bitcoins with Cashout times (z_threshold = 2)')\n",
    "plt.legend(loc = 0)\n",
    "plt.show()"
   ]
  },
  {
   "cell_type": "code",
   "execution_count": 73,
   "metadata": {
    "collapsed": false
   },
   "outputs": [],
   "source": [
    "fig, ax = plt.subplots()\n",
    "ax.plot(timeLine,bankTracker1[1:],'r',label=u'btce')\n",
    "ax.plot(timeLine,bankTracker2[1:],'b',label=u'bitstamp')\n",
    "ax.plot(cashOutTimes,cashOut1,'yo',label=u'btce cash out')\n",
    "ax.plot(cashOutTimes,cashOut2,'wo',label=u'bitstamp cash out')\n",
    "plt.show()\n",
    "labels = []\n",
    "for ii in range(0,len(ax.get_xticklabels())):\n",
    "    if ax.get_xticklabels()[ii].get_text() != '':\n",
    "        timeInc = int(ax.get_xticklabels()[ii].get_text())\n",
    "        dhms = DHMS(timeInc)\n",
    "        step = dt.timedelta(days = dhms[0],hours = dhms[1],minutes = dhms[2],seconds = dhms[3]) \n",
    "        currentLabel = startTime + step\n",
    "        labels.append(currentLabel.strftime('%Y:%m:%d:%H:%M:%S'))\n",
    "    else:\n",
    "        labels.append(ax.get_xticklabels()[ii].get_text())\n",
    "fig, ax = plt.subplots()\n",
    "ax.plot(timeLine,bankTracker1[1:],'r',label=u'btce')\n",
    "ax.plot(timeLine,bankTracker2[1:],'b',label=u'bitstamp')\n",
    "ax.plot(cashOutTimes,cashOut1,'yo',label=u'btce cash out')\n",
    "ax.plot(cashOutTimes,cashOut2,'wo',label=u'bitstamp cash out')   \n",
    "ax.set_xticklabels(labels)\n",
    "plt.xlabel('Time')\n",
    "plt.ylabel('Account Values')\n",
    "plt.title('BTCE and Bitstamp Account Values with Cashout times (z_threshold = 2)')\n",
    "plt.legend(loc = 0)\n",
    "plt.show()"
   ]
  },
  {
   "cell_type": "code",
   "execution_count": 31,
   "metadata": {
    "collapsed": false
   },
   "outputs": [
    {
     "data": {
      "text/plain": [
       "564.97686091810044"
      ]
     },
     "execution_count": 31,
     "metadata": {},
     "output_type": "execute_result"
    }
   ],
   "source": [
    "100*(((bankTracker1[-1]+bankTracker2[-1])/20000)-1)"
   ]
  },
  {
   "cell_type": "code",
   "execution_count": 82,
   "metadata": {
    "collapsed": false
   },
   "outputs": [],
   "source": [
    "import numpy as np\n",
    "backwardHours = 6\n",
    "trade_cutoff_vector = np.linspace(.6,4,40)\n",
    "tradeReturn = np.zeros(len(trade_cutoff_vector))\n",
    "zScore1,zScore2,timeLine,sellPrices1_trade_sync,buyPrices1_trade_sync,sellPrices2_trade_sync,buyPrices2_trade_sync = formatTradeData(sellTimes1_trade,sellPrices1_trade,buyTimes1_trade,buyPrices1_trade,sellTimes2_trade,sellPrices2_trade,buyTimes2_trade,buyPrices2_trade,sellTimes1_ref,sellPrices1_ref,buyTimes1_ref,buyPrices1_ref,sellTimes2_ref,sellPrices2_ref,buyTimes2_ref,buyPrices2_ref,backwardHours,slopeToUse_1,interceptToUse_1,slopeToUse_2,interceptToUse_2)\n",
    "for ii in range(0,len(trade_cutoff_vector)): \n",
    "    trade_cutoff = trade_cutoff_vector[ii]\n",
    "    bankTracker1, naiveWorthTracker1, bankTracker2, naiveWorthTracker2, coinTracker1, coinTracker2, cashOutTimes,cashOut1, cashOut2, cashOutz1, cashOutz2 = pairs_trade(timeLine,sellPrices1_trade_sync,buyPrices1_trade_sync,sellPrices2_trade_sync,buyPrices2_trade_sync,zScore1,zScore2,trade_cutoff)\n",
    "    tradeReturn[ii] = 100*(((bankTracker1[-1]+bankTracker2[-1])/20000)-1)\n",
    "plt.plot(trade_cutoff_vector,tradeReturn,'b')\n",
    "plt.xlabel('Z Score Threshold')\n",
    "plt.ylabel('Percent Return')\n",
    "plt.title('Pairs Trading Return')\n",
    "plt.show()"
   ]
  },
  {
   "cell_type": "code",
   "execution_count": 55,
   "metadata": {
    "collapsed": false
   },
   "outputs": [],
   "source": [
    "import numpy as np\n",
    "backwardHoursVec = [1/12,1/2,1,2,3,4,5,6,7,8,9,10,11,12]\n",
    "trade_cutoff_vector = np.linspace(.6,4,20)\n",
    "tradeReturn = np.zeros((14,len(trade_cutoff_vector)))\n",
    "for ii in range(0,14):\n",
    "    backwardHours = backwardHoursVec[ii]\n",
    "    zScore1,zScore2,timeLine,sellPrices1_trade_sync,buyPrices1_trade_sync,sellPrices2_trade_sync,buyPrices2_trade_sync = formatTradeData(sellTimes1_trade,sellPrices1_trade,buyTimes1_trade,buyPrices1_trade,sellTimes2_trade,sellPrices2_trade,buyTimes2_trade,buyPrices2_trade,sellTimes1_ref,sellPrices1_ref,buyTimes1_ref,buyPrices1_ref,sellTimes2_ref,sellPrices2_ref,buyTimes2_ref,buyPrices2_ref,backwardHours,slopeToUse_1,interceptToUse_1,slopeToUse_2,interceptToUse_2)\n",
    "    for jj in range(len(trade_cutoff_vector)):\n",
    "        trade_cutoff = trade_cutoff_vector[jj]\n",
    "        bankTracker1, naiveWorthTracker1, bankTracker2, naiveWorthTracker2, coinTracker1, coinTracker2, cashOutTimes,cashOut1, cashOut2, cashOutz1, cashOutz2 = pairs_trade(timeLine,sellPrices1_trade_sync,buyPrices1_trade_sync,sellPrices2_trade_sync,buyPrices2_trade_sync,zScore1,zScore2,trade_cutoff)\n",
    "        tradeReturn[ii,jj] = 100*(((bankTracker1[-1]+bankTracker2[-1])/20000)-1)"
   ]
  },
  {
   "cell_type": "code",
   "execution_count": 57,
   "metadata": {
    "collapsed": false
   },
   "outputs": [],
   "source": [
    "fig, ax = plt.subplots()\n",
    "ax.imshow(tradeReturn)\n",
    "xlabels = [item.get_text() for item in ax.get_xticklabels()]\n",
    "ylabels = [item.get_text() for item in ax.get_yticklabels()]\n",
    "ax.set_xticklabels(['','0.6','1.6','2.6','3.6',''])\n",
    "ax.set_yticklabels(['','1/12','1','2','4','6','8','10','12',''])\n",
    "plt.xlabel('Z-score threshold')\n",
    "plt.ylabel('Backward Window (hours)')\n",
    "plt.title('BTCE and Bitstamp Pairs Trading Return')\n",
    "plt.colorbar\n",
    "plt.show()"
   ]
  },
  {
   "cell_type": "code",
   "execution_count": 75,
   "metadata": {
    "collapsed": false
   },
   "outputs": [],
   "source": [
    "def simple_trade(buyPrice,sellPrice,lastBuyPrice,lastSellPrice,predictionDirB,predictionDirS):\n",
    "    bank1 = 10**3\n",
    "    assets1 = 0\n",
    "\n",
    "    bankTracker1 = [bank1]\n",
    "    assetTracker1 = [0]\n",
    "\n",
    "    betSize = .1\n",
    "    \n",
    "    for ii in range(0,len(buyPrice)):\n",
    "    \n",
    "        buyP1 = buyPrice[ii]\n",
    "        sellP1 = sellPrice[ii]\n",
    "        \n",
    "        if predictionDirS[ii] > 0: # buy\n",
    "            bank1 = bank1 - betSize*sellP1\n",
    "            assets1 = assets1 + betSize\n",
    "        if predictionDirB[ii] < 0: # sell\n",
    "            bank1 = bank1 + betSize*buyP1\n",
    "            assets1 = assets1 - betSize\n",
    "            \n",
    "        bankTracker1.append(bank1)\n",
    "        assetTracker1.append(assets1)\n",
    "        \n",
    "    # close position at end\n",
    "    if assets1 > 0: # sell\n",
    "        bank1 = bank1 + assets1*lastBuyPrice\n",
    "        assets1 = 0\n",
    "    if assets1 < 0: # buy\n",
    "        bank1 = bank1 + assets1*lastSellPrice\n",
    "        assets1 = 0\n",
    "        \n",
    "    bankTracker1.append(bank1)\n",
    "    assetTracker1.append(assets1)\n",
    "\n",
    "    bankTracker1 = np.array(bankTracker1)\n",
    "    assetTracker1 = np.array(assetTracker1)\n",
    "    profit = bankTracker1[-1] - bankTracker1[0]\n",
    "    \n",
    "    return profit, bankTracker1, assetTracker1"
   ]
  },
  {
   "cell_type": "code",
   "execution_count": null,
   "metadata": {
    "collapsed": true
   },
   "outputs": [],
   "source": []
  }
 ],
 "metadata": {
  "kernelspec": {
   "display_name": "Python 2",
   "language": "python",
   "name": "python2"
  },
  "language_info": {
   "codemirror_mode": {
    "name": "ipython",
    "version": 2
   },
   "file_extension": ".py",
   "mimetype": "text/x-python",
   "name": "python",
   "nbconvert_exporter": "python",
   "pygments_lexer": "ipython2",
   "version": "2.7.9"
  }
 },
 "nbformat": 4,
 "nbformat_minor": 0
}
